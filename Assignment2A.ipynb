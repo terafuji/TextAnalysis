{
  "nbformat": 4,
  "nbformat_minor": 0,
  "metadata": {
    "colab": {
      "name": "Assignment2A.ipynb",
      "provenance": []
    },
    "kernelspec": {
      "name": "python3",
      "display_name": "Python 3"
    }
  },
  "cells": [
    {
      "cell_type": "markdown",
      "metadata": {
        "id": "sESw_dKQL5mA",
        "colab_type": "text"
      },
      "source": [
        "# nltkの文章群にscikit-learnを用いてクラスタリングを適用してみる"
      ]
    },
    {
      "cell_type": "markdown",
      "metadata": {
        "id": "3nFpmxQOMIKS",
        "colab_type": "text"
      },
      "source": [
        "## 導入編"
      ]
    },
    {
      "cell_type": "markdown",
      "metadata": {
        "id": "oFmxTSs2MV2y",
        "colab_type": "text"
      },
      "source": [
        "### 必要なライブラリ・データセットのインポート"
      ]
    },
    {
      "cell_type": "code",
      "metadata": {
        "id": "v9v_nPKQMTZd",
        "colab_type": "code",
        "colab": {}
      },
      "source": [
        "from sklearn.feature_extraction.text import TfidfVectorizer\n",
        "from sklearn.cluster import KMeans\n",
        "import numpy as np\n",
        "import matplotlib.pyplot as plt\n",
        "import pandas as pd\n",
        "import nltk\n",
        "import collections"
      ],
      "execution_count": null,
      "outputs": []
    },
    {
      "cell_type": "code",
      "metadata": {
        "id": "VQe5axx1_KNt",
        "colab_type": "code",
        "colab": {}
      },
      "source": [
        "from sklearn.cluster import k_means_\n",
        "from sklearn.metrics.pairwise import cosine_similarity, pairwise_distances\n",
        "from sklearn.preprocessing import StandardScaler\n",
        "\n",
        "\n",
        "def create_cluster(sparse_data, nclust = 10):\n",
        "\n",
        "    # Manually override euclidean\n",
        "    def euc_dist(X, Y = None, Y_norm_squared = None, squared = False):\n",
        "        #return pairwise_distances(X, Y, metric = 'cosine', n_jobs = 10)\n",
        "        return cosine_similarity(X, Y)\n",
        "    k_means_.euclidean_distances = euc_dist\n",
        "    \n",
        "    scaler = StandardScaler(with_mean=False)\n",
        "    sparse_data = scaler.fit_transform(sparse_data)\n",
        "    kmeans = k_means_.KMeans(n_clusters = nclust, n_jobs = 20, random_state = 3425)\n",
        "    _ = kmeans.fit(sparse_data)\n",
        "    return kmeans.labels_"
      ],
      "execution_count": null,
      "outputs": []
    },
    {
      "cell_type": "markdown",
      "metadata": {
        "id": "y2UGMZJaMgvM",
        "colab_type": "text"
      },
      "source": [
        "### 今回は以下のnltkの機能を使用できる様にする\n"
      ]
    },
    {
      "cell_type": "code",
      "metadata": {
        "id": "MaRmXeotMjKv",
        "colab_type": "code",
        "colab": {
          "base_uri": "https://localhost:8080/",
          "height": 175
        },
        "outputId": "a944fc22-e68f-49e9-da45-d1bb7d14a39d"
      },
      "source": [
        "nltk.download(\"stopwords\")\n",
        "nltk.download(\"wordnet\")\n",
        "nltk.download(\"reuters\")\n",
        "nltk.download(\"punkt\")"
      ],
      "execution_count": null,
      "outputs": [
        {
          "output_type": "stream",
          "text": [
            "[nltk_data] Downloading package stopwords to /root/nltk_data...\n",
            "[nltk_data]   Package stopwords is already up-to-date!\n",
            "[nltk_data] Downloading package wordnet to /root/nltk_data...\n",
            "[nltk_data]   Package wordnet is already up-to-date!\n",
            "[nltk_data] Downloading package reuters to /root/nltk_data...\n",
            "[nltk_data]   Package reuters is already up-to-date!\n",
            "[nltk_data] Downloading package punkt to /root/nltk_data...\n",
            "[nltk_data]   Package punkt is already up-to-date!\n"
          ],
          "name": "stdout"
        },
        {
          "output_type": "execute_result",
          "data": {
            "text/plain": [
              "True"
            ]
          },
          "metadata": {
            "tags": []
          },
          "execution_count": 66
        }
      ]
    },
    {
      "cell_type": "markdown",
      "metadata": {
        "id": "7VtrTuH4MrHN",
        "colab_type": "text"
      },
      "source": [
        "### データを取得"
      ]
    },
    {
      "cell_type": "code",
      "metadata": {
        "id": "zXcN4x3bMljo",
        "colab_type": "code",
        "colab": {}
      },
      "source": [
        "from nltk.corpus import reuters as corpus"
      ],
      "execution_count": null,
      "outputs": []
    },
    {
      "cell_type": "markdown",
      "metadata": {
        "id": "A6PFfk-BMxEs",
        "colab_type": "text"
      },
      "source": [
        "### datasetの中身を確認"
      ]
    },
    {
      "cell_type": "code",
      "metadata": {
        "id": "HXvSxPG0MuXr",
        "colab_type": "code",
        "colab": {
          "base_uri": "https://localhost:8080/",
          "height": 248
        },
        "outputId": "08c28b39-d91c-4172-c010-e72041840308"
      },
      "source": [
        "for n,item in enumerate(corpus.words(corpus.fileids()[0])[:300]):\n",
        "    print(item, end=\" \")\n",
        "    if (n%25) ==24:\n",
        "      print(\" \")"
      ],
      "execution_count": null,
      "outputs": [
        {
          "output_type": "stream",
          "text": [
            "ASIAN EXPORTERS FEAR DAMAGE FROM U . S .- JAPAN RIFT Mounting trade friction between the U . S . And Japan has raised fears  \n",
            "among many of Asia ' s exporting nations that the row could inflict far - reaching economic damage , businessmen and officials said . They  \n",
            "told Reuter correspondents in Asian capitals a U . S . Move against Japan might boost protectionist sentiment in the U . S . And  \n",
            "lead to curbs on American imports of their products . But some exporters said that while the conflict would hurt them in the long -  \n",
            "run , in the short - term Tokyo ' s loss might be their gain . The U . S . Has said it will  \n",
            "impose 300 mln dlrs of tariffs on imports of Japanese electronics goods on April 17 , in retaliation for Japan ' s alleged failure to  \n",
            "stick to a pact not to sell semiconductors on world markets at below cost . Unofficial Japanese estimates put the impact of the tariffs at  \n",
            "10 billion dlrs and spokesmen for major electronics firms said they would virtually halt exports of products hit by the new taxes . \" We  \n",
            "wouldn ' t be able to do business ,\" said a spokesman for leading Japanese electronics firm Matsushita Electric Industrial Co Ltd & lt ;  \n",
            "MC . T >. \" If the tariffs remain in place for any length of time beyond a few months it will mean the complete  \n",
            "erosion of exports ( of goods subject to tariffs ) to the U . S .,\" said Tom Murtha , a stock analyst at the  \n",
            "Tokyo office of broker & lt ; James Capel and Co >. In Taiwan , businessmen and officials are also worried . \" We are  \n"
          ],
          "name": "stdout"
        }
      ]
    },
    {
      "cell_type": "markdown",
      "metadata": {
        "id": "2lysFJt4M1Ux",
        "colab_type": "text"
      },
      "source": [
        "### 全document数"
      ]
    },
    {
      "cell_type": "code",
      "metadata": {
        "id": "_Yz5UaciM0UG",
        "colab_type": "code",
        "colab": {
          "base_uri": "https://localhost:8080/",
          "height": 34
        },
        "outputId": "f88f8f35-671b-494c-8c62-faab6a6b1b5c"
      },
      "source": [
        "len(corpus.fileids())"
      ],
      "execution_count": null,
      "outputs": [
        {
          "output_type": "execute_result",
          "data": {
            "text/plain": [
              "10788"
            ]
          },
          "metadata": {
            "tags": []
          },
          "execution_count": 5
        }
      ]
    },
    {
      "cell_type": "markdown",
      "metadata": {
        "id": "eu_yYroqM8-8",
        "colab_type": "text"
      },
      "source": [
        "### (例) 前からk個のdocumentのみで学習する場合"
      ]
    },
    {
      "cell_type": "code",
      "metadata": {
        "id": "JOSFXIzlM5wI",
        "colab_type": "code",
        "colab": {
          "base_uri": "https://localhost:8080/",
          "height": 72
        },
        "outputId": "8a3351ae-82e7-4ea2-ba09-246908ac7ff9"
      },
      "source": [
        "k = 100\n",
        "docs=[corpus.words(fileid) for fileid in corpus.fileids()[:k]]\n",
        "print(docs)\n",
        "print(\"num of docs:\", len(docs))"
      ],
      "execution_count": null,
      "outputs": [
        {
          "output_type": "stream",
          "text": [
            "[['ASIAN', 'EXPORTERS', 'FEAR', 'DAMAGE', 'FROM', 'U', ...], ['CHINA', 'DAILY', 'SAYS', 'VERMIN', 'EAT', '7', '-', ...], ['JAPAN', 'TO', 'REVISE', 'LONG', '-', 'TERM', ...], ['THAI', 'TRADE', 'DEFICIT', 'WIDENS', 'IN', 'FIRST', ...], ['INDONESIA', 'SEES', 'CPO', 'PRICE', 'RISING', ...], ['AUSTRALIAN', 'FOREIGN', 'SHIP', 'BAN', 'ENDS', 'BUT', ...], ['INDONESIAN', 'COMMODITY', 'EXCHANGE', 'MAY', ...], ['SRI', 'LANKA', 'GETS', 'USDA', 'APPROVAL', 'FOR', ...], ['WESTERN', 'MINING', 'TO', 'OPEN', 'NEW', 'GOLD', ...], ['SUMITOMO', 'BANK', 'AIMS', 'AT', 'QUICK', 'RECOVERY', ...], ['SUBROTO', 'SAYS', 'INDONESIA', 'SUPPORTS', 'TIN', ...], ['BUNDESBANK', 'ALLOCATES', '6', '.', '1', 'BILLION', ...], ['BOND', 'CORP', 'STILL', 'CONSIDERING', 'ATLAS', ...], ['CHINA', 'INDUSTRIAL', 'OUTPUT', 'RISES', 'IN', ...], ['JAPAN', 'MINISTRY', 'SAYS', 'OPEN', 'FARM', 'TRADE', ...], ['AMATIL', 'PROPOSES', 'TWO', '-', 'FOR', '-', 'FIVE', ...], ['BOWATER', '1986', 'PRETAX', 'PROFITS', 'RISE', '15', ...], ['U', '.', 'K', '.', 'MONEY', 'MARKET', 'DEFICIT', ...], ['SOUTH', 'KOREA', 'MOVES', 'TO', 'SLOW', 'GROWTH', ...], ['FINNS', 'AND', 'CANADIANS', 'TO', 'STUDY', 'MTBE', ...], ['CRA', 'SOLD', 'FORREST', 'GOLD', 'FOR', '76', 'MLN', ...], ['GERMAN', 'INDUSTRIAL', 'EMPLOYMENT', 'SEEN', ...], ['BOWATER', 'INDUSTRIES', 'PROFIT', 'EXCEED', ...], ['CITIBANK', 'NORWAY', 'UNIT', 'LOSES', 'SIX', 'MLN', ...], ['VIEILLE', 'MONTAGNE', 'SAYS', '1986', 'CONDITIONS', ...], ['VIEILLE', 'MONTAGNE', 'REPORTS', 'LOSS', ',', ...], ['EC', 'MAINLY', 'FOR', 'TIN', 'EXTENSION', ',', 'NO', ...], ['JAPAN', 'GIVEN', 'LITTLE', 'HOPE', 'OF', 'AVOIDING', ...], ['THAI', 'ZINC', 'EXPORTS', 'FALL', 'IN', 'MARCH', ...], ['EC', 'SUGAR', 'TENDER', 'HARD', 'TO', 'PREDICT', '-', ...], ['NORTH', 'YEMEN', 'CALLS', 'SUGAR', 'BUYING', ...], ['ANHEUSER', '-', 'BUSCH', 'JOINS', 'BID', 'FOR', ...], ['ECONOMIC', 'SPOTLIGHT', '-', 'AUSTRALIAN', 'MARKETS', ...], ['ECONOMIC', 'SPOTLIGHT', '-', 'KUWAITI', 'ECONOMY', ...], ['MALAYSIA', 'MAY', 'NOT', 'MEET', '1987', 'OIL', ...], ['JARDINE', 'MATHESON', 'SAID', 'IT', 'SETS', 'TWO', ...], ['MONIER', 'SAYS', 'BRITAIN', \"'\", 'S', 'REDLAND', ...], ['ISUZU', 'PLANS', 'NO', 'INTERIM', 'DIVIDEND', ...], ['JAPANESE', 'OFFICIAL', 'TAKES', 'DATA', 'TO', ...], ['BELL', 'GROUP', 'CONFIRMS', 'STANDARD', 'CHARTERED', ...], ['NIPPON', 'STEEL', 'DENIES', 'CHINA', 'SEEKING', ...], ['JARDINE', 'MATHESON', 'REPLACES', '\"', 'B', '\"', ...], ['JAPAN', 'GIVEN', 'LITTLE', 'HOPE', 'OF', 'AVOIDING', ...], ['BANK', 'OF', 'JAPAN', 'INTERVENES', 'SOON', 'AFTER', ...], ['INDONESIAN', 'INFLATION', 'RATE', '8', '.', '8', ...], ['U', '.', 'K', '.', 'MONEY', 'MARKET', 'GIVEN', '53', ...], ['SAN', 'MIGUEL', 'DEAL', 'HIT', 'BY', 'MORE', ...], ['RAIN', 'BOOSTS', 'CENTRAL', 'QUEENSLAND', 'SUGAR', ...], ['FRENCH', 'TRADERS', 'FORECAST', 'EC', 'SUGAR', ...], ['ITALY', \"'\", 'S', 'LA', 'FONDIARIA', 'TO', 'REPORT', ...], ['NICKEL', 'PRICES', 'UNLIKELY', 'TO', 'RISE', 'MUCH', ...], ['HIGHER', '1986', 'PROFIT', 'FOR', 'DUTCH', ...], ['POEHL', 'WARNS', 'AGAINST', 'FURTHER', 'DOLLAR', ...], ['CINCINNATI', 'BELL', '&', 'lt', ';', 'CSN', '>', ...], ['CALIFORNIA', 'BIOTECH', '&', 'lt', ';', 'CBIO', '>', ...], ['PALL', 'CORP', '&', 'lt', ';', 'PLL', '>', 'SETS', ...], ['UNILEVER', 'SEEKS', 'BUYER', 'FOR', 'STAUFFER', ...], ['CONRAC', 'CORP', 'SAID', 'IT', 'HAS', 'ENTERED', ...], ['CONRAC', '&', 'lt', ';', 'CAX', '>', 'IN', 'MERGER', ...], ['JAPAN', \"'\", 'S', 'LDP', 'URGES', 'MORE', 'IMPORTS', ...], ['COMPUTER', 'RESEARCH', 'INC', '&', 'lt', ';', 'CORE', ...], ['AUSTRALIAN', 'FOREIGN', 'SHIP', 'BAN', 'ENDS', 'Tug', ...], ['RUBBERMAID', 'INC', '1ST', 'QTR', 'SHR', '28', 'CTS', ...], ['INDEPENDENT', 'CHAIRMAN', 'FOR', 'DUTCH', 'CARGO', ...], ['ELECTRO', 'RENT', 'CORP', '&', 'lt', ';', 'ELRC', ...], ['RUBBERMAID', 'INC', '&', 'lt', ';', 'RBD', '>', ...], ['WTC', 'INTERNATIONAL', 'INC', '&', 'lt', ';', 'WAF', ...], ['U', '.', 'K', '.', 'MONEY', 'MARKET', 'GIVEN', ...], ['MEAD', 'CORP', '1ST', 'QTR', 'OPER', 'SHR', '1', '.', ...], ['RUBBERMAID', '&', 'lt', ';', 'RBD', '>', 'SEES', ...], ['CAYUGA', 'SAVINGS', 'BANK', '&', 'lt', ';', 'CAYB', ...], ['JOHNSTOWN', 'SAVINGS', 'BANK', 'FSB', '&', 'lt', ';', ...], ['HOME', 'SAVINGS', 'AND', 'LOAN', 'ASSOCIATION', ...], ['GEODYNAMICS', 'CORP', '&', 'lt', ';', 'GDYN', '>', ...], ['SWEDISH', 'UNEMPLOYMENT', 'STEADY', 'IN', 'MARCH', ...], ['COMPAQ', '&', 'lt', ';', 'CPQ', '>', 'EXPECTS', ...], ['I', '.', 'U', '.', 'INTERNATIONAL', '&', 'lt', ';', ...], ['CXR', 'TELCOM', 'CORP', '&', 'lt', ';', 'CXRL', '>', ...], ['PROXMIRE', 'OUTLINES', 'INSIDER', 'TRADING', ...], ['HELEN', 'OF', 'TROY', 'CORP', '&', 'lt', ';', 'HELE', ...], ['BANKERS', 'TRUST', '&', 'lt', ';', 'BT', '>', 'PUTS', ...], ['&', 'lt', ';', 'FIRST', 'MERCANTILE', 'CURRENCY', ...], ['UK', 'INTERVENTION', 'BD', 'SAYS', 'EC', 'SOLD', ...], ['STOLTENBERG', 'SEES', 'MOVES', 'TO', 'STRENGTHEN', ...], ['U', '.', 'K', '.', 'INTERVENTION', 'BOARD', ...], ['MEAD', '&', 'lt', ';', 'MEA', '>', 'EXPECTS', ...], ['AMERTEK', 'INC', '&', 'lt', ';', 'ATEKF', '>', '1ST', ...], ['ALEX', 'BROWN', 'INC', '&', 'lt', ';', 'ABSB', '>', ...], ['TOWN', 'AND', 'COUNTRY', 'JEWELRY', 'MANUFACTURING', ...], ['PAXAR', 'CORP', '&', 'lt', ';', 'PAKS', '>', 'MAKES', ...], ['&', 'lt', ';', 'MARK', \"'\", 'S', 'WORK', 'WEARHOUSE', ...], ['CANADIAN', 'BASHAW', ',', 'ERSKINE', 'RESOURCES', ...], ['ENTOURAGE', '&', 'lt', ';', 'ENTG', '>', 'HAS', ...], ['&', 'lt', ';', 'MR', '.', 'JAX', 'FASHIONS', 'INC', ...], ['F', '.', 'W', '.', 'WOOLWORTH', 'CO', 'SAYS', 'IT', ...], ['F', '.', 'W', '.', 'WOOLWORTH', 'CO', '&', 'lt', ';', ...], ['DUTCH', 'SUGAR', 'BEET', 'PLANTING', 'HALF', ...], ['J', '.', 'P', '.', 'MORGAN', 'AND', 'CO', 'INC', ...], ['EC', 'COMMISSION', 'DETAILS', 'SUGAR', 'TENDER', ...], ['VOLKSWAGEN', 'DIVIDEND', 'DECISION', 'DUE', ...]]\n",
            "num of docs: 100\n"
          ],
          "name": "stdout"
        }
      ]
    },
    {
      "cell_type": "markdown",
      "metadata": {
        "id": "U17VbjPaNIAD",
        "colab_type": "text"
      },
      "source": [
        "## 前処理編"
      ]
    },
    {
      "cell_type": "markdown",
      "metadata": {
        "id": "HGPSmgSNNMFs",
        "colab_type": "text"
      },
      "source": [
        "### 例 : ストップワードリストの作成\n",
        "\n",
        "### nltkのストップワードリスト"
      ]
    },
    {
      "cell_type": "code",
      "metadata": {
        "id": "CHC1l7zDNFLx",
        "colab_type": "code",
        "colab": {}
      },
      "source": [
        "en_stop = nltk.corpus.stopwords.words('english')"
      ],
      "execution_count": null,
      "outputs": []
    },
    {
      "cell_type": "markdown",
      "metadata": {
        "id": "HqdBEQpUNT74",
        "colab_type": "text"
      },
      "source": [
        "### 例:【発展】記号や数字は正規表現で消してみる"
      ]
    },
    {
      "cell_type": "code",
      "metadata": {
        "id": "to0DASSYNRj0",
        "colab_type": "code",
        "colab": {}
      },
      "source": [
        "en_stop= [\"``\",\"/\",\",.\",\".,\",\";\",\"--\",\":\",\")\",\"(\",'\"','&',\"'\",'),',',\"','-','.,','.,\"','.-',\"?\",\">\",\"<\"]                  \\\n",
        "         +[\"0\",\"1\",\"2\",\"3\",\"4\",\"5\",\"6\",\"7\",\"8\",\"9\",\"10\",\"11\",\"12\",\"86\",\"1986\",\"1987\",\"000\"]                                                      \\\n",
        "         +[\"said\",\"say\",\"u\",\"v\",\"mln\",\"ct\",\"net\",\"dlrs\",\"tonne\",\"pct\",\"shr\",\"nil\",\"company\",\"lt\",\"share\",\"year\",\"billion\",\"price\"]          \\\n",
        "         +en_stop"
      ],
      "execution_count": null,
      "outputs": []
    },
    {
      "cell_type": "markdown",
      "metadata": {
        "id": "7hdG75XqNYPa",
        "colab_type": "text"
      },
      "source": [
        "### 前処理関数の作成"
      ]
    },
    {
      "cell_type": "code",
      "metadata": {
        "id": "f1jUH0P-NcoP",
        "colab_type": "code",
        "colab": {}
      },
      "source": [
        "from nltk.corpus import wordnet as wn #lemmatize関数のためのimport\n",
        "\n",
        "def preprocess_word(word, stopwordset):\n",
        "    \n",
        "    #1.make words lower ex: Python =>python\n",
        "    word=word.lower()\n",
        "    \n",
        "    #2.remove \",\" and \".\"\n",
        "    if word in [\",\",\".\"]:\n",
        "        return None\n",
        "    \n",
        "    #3.remove stopword  ex: the => (None) \n",
        "    if word in stopwordset:\n",
        "        return None\n",
        "    \n",
        "    #4.lemmatize  ex: cooked=>cook\n",
        "    lemma = wn.morphy(word)\n",
        "    if lemma is None:\n",
        "        return word\n",
        "\n",
        "    elif lemma in stopwordset: #lemmatizeしたものがstopwordである可能性がある\n",
        "        return None\n",
        "    else:\n",
        "        return lemma\n",
        "    \n",
        "\n",
        "def preprocess_document(document):\n",
        "    document=[preprocess_word(w, en_stop) for w in document]\n",
        "    document=[w for w in document if w is not None]\n",
        "    return document\n",
        "\n",
        "def preprocess_documents(documents):\n",
        "    return [preprocess_document(document) for document in documents]"
      ],
      "execution_count": null,
      "outputs": []
    },
    {
      "cell_type": "markdown",
      "metadata": {
        "id": "nJZeCVgNNi5T",
        "colab_type": "text"
      },
      "source": [
        "### 前処理の結果を出力してみる"
      ]
    },
    {
      "cell_type": "markdown",
      "metadata": {
        "id": "WGX6YzgVNmbV",
        "colab_type": "text"
      },
      "source": [
        "### 前処理前"
      ]
    },
    {
      "cell_type": "code",
      "metadata": {
        "id": "2u2P8lmTNgLn",
        "colab_type": "code",
        "colab": {
          "base_uri": "https://localhost:8080/",
          "height": 54
        },
        "outputId": "1b8f3311-ac76-47c7-c403-37265cad2d81"
      },
      "source": [
        "print(docs[0][:25]) "
      ],
      "execution_count": null,
      "outputs": [
        {
          "output_type": "stream",
          "text": [
            "['ASIAN', 'EXPORTERS', 'FEAR', 'DAMAGE', 'FROM', 'U', '.', 'S', '.-', 'JAPAN', 'RIFT', 'Mounting', 'trade', 'friction', 'between', 'the', 'U', '.', 'S', '.', 'And', 'Japan', 'has', 'raised', 'fears']\n"
          ],
          "name": "stdout"
        }
      ]
    },
    {
      "cell_type": "code",
      "metadata": {
        "id": "l9ebOHi1xgzE",
        "colab_type": "code",
        "colab": {
          "base_uri": "https://localhost:8080/",
          "height": 54
        },
        "outputId": "ed42d002-a856-433e-fb84-cf5d567dafff"
      },
      "source": [
        "print(docs[0][:200])"
      ],
      "execution_count": null,
      "outputs": [
        {
          "output_type": "stream",
          "text": [
            "['ASIAN', 'EXPORTERS', 'FEAR', 'DAMAGE', 'FROM', 'U', '.', 'S', '.-', 'JAPAN', 'RIFT', 'Mounting', 'trade', 'friction', 'between', 'the', 'U', '.', 'S', '.', 'And', 'Japan', 'has', 'raised', 'fears', 'among', 'many', 'of', 'Asia', \"'\", 's', 'exporting', 'nations', 'that', 'the', 'row', 'could', 'inflict', 'far', '-', 'reaching', 'economic', 'damage', ',', 'businessmen', 'and', 'officials', 'said', '.', 'They', 'told', 'Reuter', 'correspondents', 'in', 'Asian', 'capitals', 'a', 'U', '.', 'S', '.', 'Move', 'against', 'Japan', 'might', 'boost', 'protectionist', 'sentiment', 'in', 'the', 'U', '.', 'S', '.', 'And', 'lead', 'to', 'curbs', 'on', 'American', 'imports', 'of', 'their', 'products', '.', 'But', 'some', 'exporters', 'said', 'that', 'while', 'the', 'conflict', 'would', 'hurt', 'them', 'in', 'the', 'long', '-', 'run', ',', 'in', 'the', 'short', '-', 'term', 'Tokyo', \"'\", 's', 'loss', 'might', 'be', 'their', 'gain', '.', 'The', 'U', '.', 'S', '.', 'Has', 'said', 'it', 'will', 'impose', '300', 'mln', 'dlrs', 'of', 'tariffs', 'on', 'imports', 'of', 'Japanese', 'electronics', 'goods', 'on', 'April', '17', ',', 'in', 'retaliation', 'for', 'Japan', \"'\", 's', 'alleged', 'failure', 'to', 'stick', 'to', 'a', 'pact', 'not', 'to', 'sell', 'semiconductors', 'on', 'world', 'markets', 'at', 'below', 'cost', '.', 'Unofficial', 'Japanese', 'estimates', 'put', 'the', 'impact', 'of', 'the', 'tariffs', 'at', '10', 'billion', 'dlrs', 'and', 'spokesmen', 'for', 'major', 'electronics', 'firms', 'said', 'they', 'would', 'virtually', 'halt', 'exports', 'of', 'products', 'hit', 'by', 'the', 'new', 'taxes', '.', '\"', 'We']\n"
          ],
          "name": "stdout"
        }
      ]
    },
    {
      "cell_type": "code",
      "metadata": {
        "id": "pUalL0cYxwgP",
        "colab_type": "code",
        "colab": {
          "base_uri": "https://localhost:8080/",
          "height": 54
        },
        "outputId": "fe07329a-f9d0-4ebf-8f0b-b737b31e2998"
      },
      "source": [
        "print(docs[1][:100])"
      ],
      "execution_count": null,
      "outputs": [
        {
          "output_type": "stream",
          "text": [
            "['CHINA', 'DAILY', 'SAYS', 'VERMIN', 'EAT', '7', '-', '12', 'PCT', 'GRAIN', 'STOCKS', 'A', 'survey', 'of', '19', 'provinces', 'and', 'seven', 'cities', 'showed', 'vermin', 'consume', 'between', 'seven', 'and', '12', 'pct', 'of', 'China', \"'\", 's', 'grain', 'stocks', ',', 'the', 'China', 'Daily', 'said', '.', 'It', 'also', 'said', 'that', 'each', 'year', '1', '.', '575', 'mln', 'tonnes', ',', 'or', '25', 'pct', ',', 'of', 'China', \"'\", 's', 'fruit', 'output', 'are', 'left', 'to', 'rot', ',', 'and', '2', '.', '1', 'mln', 'tonnes', ',', 'or', 'up', 'to', '30', 'pct', ',', 'of', 'its', 'vegetables', '.', 'The', 'paper', 'blamed', 'the', 'waste', 'on', 'inadequate', 'storage', 'and', 'bad', 'preservation', 'methods', '.', 'It', 'said', 'the', 'government']\n"
          ],
          "name": "stdout"
        }
      ]
    },
    {
      "cell_type": "markdown",
      "metadata": {
        "id": "Ki-UHTcXNptm",
        "colab_type": "text"
      },
      "source": [
        "### 前処理後"
      ]
    },
    {
      "cell_type": "code",
      "metadata": {
        "id": "0rHr8yGINpDM",
        "colab_type": "code",
        "colab": {
          "base_uri": "https://localhost:8080/",
          "height": 54
        },
        "outputId": "6e10d255-37bc-459e-e30e-630d2eb2db2f"
      },
      "source": [
        "print(preprocess_documents(docs)[0][:25])"
      ],
      "execution_count": null,
      "outputs": [
        {
          "output_type": "stream",
          "text": [
            "['asian', 'exporter', 'fear', 'damage', 'japan', 'rift', 'mounting', 'trade', 'friction', 'japan', 'raise', 'fear', 'among', 'many', 'asia', 'exporting', 'nation', 'row', 'could', 'inflict', 'far', 'reaching', 'economic', 'damage', 'businessmen']\n"
          ],
          "name": "stdout"
        }
      ]
    },
    {
      "cell_type": "markdown",
      "metadata": {
        "id": "kIwd7wGvNyWj",
        "colab_type": "text"
      },
      "source": [
        "## クラスタリング編"
      ]
    },
    {
      "cell_type": "markdown",
      "metadata": {
        "id": "WPAMVMFaN2yL",
        "colab_type": "text"
      },
      "source": [
        "### tf idfで上記の前処理済みの文章をベクトル化\n",
        "### vectorizerを使用する（ハイパーパラメーターの設定）"
      ]
    },
    {
      "cell_type": "code",
      "metadata": {
        "id": "QVtbDMmtNuQV",
        "colab_type": "code",
        "colab": {
          "base_uri": "https://localhost:8080/",
          "height": 54
        },
        "outputId": "2018dfa1-bd67-463c-f64b-2f4f768d302c"
      },
      "source": [
        "pre_docs=preprocess_documents(docs)\n",
        "pre_docs=[\"\".join(doc) for doc in pre_docs]\n",
        "print(pre_docs[0])\n",
        "\n",
        "vectorizer = TfidfVectorizer(max_features=200, token_pattern=u'(?u)\\\\b\\\\w+\\\\b',stop_words='english' )"
      ],
      "execution_count": null,
      "outputs": [
        {
          "output_type": "stream",
          "text": [
            "asianexporterfeardamagejapanriftmountingtradefrictionjapanraisefearamongmanyasiaexportingnationrowcouldinflictfarreachingeconomicdamagebusinessmenofficialtellreutercorrespondentasiancapitalmovejapanmightboostprotectionistsentimentleadcurbamericanimportproductexporterconflictwouldhurtlongrunshorttermtokyolossmightgainimpose300tariffimportjapaneseelectronicsgoodapril17retaliationjapanallegefailurestickpactsellsemiconductorworldmarketcostunofficialjapaneseestimateputimpacttariffspokesmanmajorelectronicsfirmwouldvirtuallyhaltexportproducthitnewtaxablebusinessspokesmanleadingjapaneseelectronicsfirmmatsushitaelectricindustrialcoltdmc>.tariffremainplacelengthtimebeyondmonthmeancompleteerosionexportgoodsubjecttarifftommurthastockanalysttokyoofficebrokerjamescapelco>.taiwanbusinessmenofficialalsoworryawareseriousnessthreatjapanservewarningusseniortaiwanesetradeofficialasknametaiwantradetradesurplus15last95surplushelpswelltaiwanforeignexchangereserves53amongworldlargemustquicklyopenmarketremovetradebarriercutimporttariffallowimportproductwantdefuseproblempossibleretaliationpaulsheenchairmantextileexportertaiwansafegroup>.seniorofficialsouthkoreatradepromotionassociationtradedisputejapanmightalsoleadpressuresouthkoreawhosechiefexportsimilarjapanlastsouthkoreatradesurplus1985malaysiatradeofficerbusinessmentoughcurbjapanmightallowhardhitproducersemiconductorthirdcountryexpandsaleshongkongnewspaperallegejapansellingcostsemiconductorelectronicsmanufacturerviewbusinessmenshorttermcommercialadvantagewouldoutweighpressureblockimportshorttermviewlawrencemillsdirectorgeneralfederationhongkongindustrywholepurposepreventimportonedayextendsourcemuchserioushongkongdisadvantageactionrestraintradelasthongkongbigexportmarketaccounting30domesticallyproduceexportaustraliangovernmentawaitoutcometradetalksjapaninterestconcernindustryministerjohnbuttoncanberralastfridaykinddeteriorationtraderelationstwocountrymajortradingpartnerseriousmatterbuttonaustraliaconcerncentrecoalbeefaustraliatwolargeexportjapanalsosignificantexportcountrymeanwhilejapanesediplomaticmanoeuvresolvetradestandcontinuejapanrulingliberaldemocraticpartyyesterdayoutlinepackageeconomicmeasureboostjapaneseeconomymeasureproposeincludelargesupplementarybudgetrecordpublicworksspendingfirsthalffinancialalsocallstepspendingemergencymeasurestimulateeconomydespiteprimeministeryasuhironakasoneavowfiscalreformprogramdeputytraderepresentativemichaelsmithmakotokurodajapandeputyministerinternationaltradeindustrymitiduemeetwashingtonweekeffortenddispute\n"
          ],
          "name": "stdout"
        }
      ]
    },
    {
      "cell_type": "code",
      "metadata": {
        "id": "ycX_qdrvy3Iz",
        "colab_type": "code",
        "colab": {
          "base_uri": "https://localhost:8080/",
          "height": 54
        },
        "outputId": "8e2ae4fb-4ffe-4c6a-a62f-09ecc548fc52"
      },
      "source": [
        "pre_docs=preprocess_documents(docs)\n",
        "pre_docs=[\"\".join(doc) for doc in pre_docs]\n",
        "print(pre_docs[0])\n",
        "\n",
        "vectorizer = TfidfVectorizer( token_pattern=u'(?u)\\\\b\\\\w+\\\\b')"
      ],
      "execution_count": null,
      "outputs": [
        {
          "output_type": "stream",
          "text": [
            "asianexporterfeardamagejapanriftmountingtradefrictionjapanraisefearamongmanyasiaexportingnationrowcouldinflictfarreachingeconomicdamagebusinessmenofficialtellreutercorrespondentasiancapitalmovejapanmightboostprotectionistsentimentleadcurbamericanimportproductexporterconflictwouldhurtlongrunshorttermtokyolossmightgainimpose300tariffimportjapaneseelectronicsgoodapril17retaliationjapanallegefailurestickpactsellsemiconductorworldmarketcostunofficialjapaneseestimateputimpacttariffspokesmanmajorelectronicsfirmwouldvirtuallyhaltexportproducthitnewtaxablebusinessspokesmanleadingjapaneseelectronicsfirmmatsushitaelectricindustrialcoltdmc>.tariffremainplacelengthtimebeyondmonthmeancompleteerosionexportgoodsubjecttarifftommurthastockanalysttokyoofficebrokerjamescapelco>.taiwanbusinessmenofficialalsoworryawareseriousnessthreatjapanservewarningusseniortaiwanesetradeofficialasknametaiwantradetradesurplus15last95surplushelpswelltaiwanforeignexchangereserves53amongworldlargemustquicklyopenmarketremovetradebarriercutimporttariffallowimportproductwantdefuseproblempossibleretaliationpaulsheenchairmantextileexportertaiwansafegroup>.seniorofficialsouthkoreatradepromotionassociationtradedisputejapanmightalsoleadpressuresouthkoreawhosechiefexportsimilarjapanlastsouthkoreatradesurplus1985malaysiatradeofficerbusinessmentoughcurbjapanmightallowhardhitproducersemiconductorthirdcountryexpandsaleshongkongnewspaperallegejapansellingcostsemiconductorelectronicsmanufacturerviewbusinessmenshorttermcommercialadvantagewouldoutweighpressureblockimportshorttermviewlawrencemillsdirectorgeneralfederationhongkongindustrywholepurposepreventimportonedayextendsourcemuchserioushongkongdisadvantageactionrestraintradelasthongkongbigexportmarketaccounting30domesticallyproduceexportaustraliangovernmentawaitoutcometradetalksjapaninterestconcernindustryministerjohnbuttoncanberralastfridaykinddeteriorationtraderelationstwocountrymajortradingpartnerseriousmatterbuttonaustraliaconcerncentrecoalbeefaustraliatwolargeexportjapanalsosignificantexportcountrymeanwhilejapanesediplomaticmanoeuvresolvetradestandcontinuejapanrulingliberaldemocraticpartyyesterdayoutlinepackageeconomicmeasureboostjapaneseeconomymeasureproposeincludelargesupplementarybudgetrecordpublicworksspendingfirsthalffinancialalsocallstepspendingemergencymeasurestimulateeconomydespiteprimeministeryasuhironakasoneavowfiscalreformprogramdeputytraderepresentativemichaelsmithmakotokurodajapandeputyministerinternationaltradeindustrymitiduemeetwashingtonweekeffortenddispute\n"
          ],
          "name": "stdout"
        }
      ]
    },
    {
      "cell_type": "markdown",
      "metadata": {
        "id": "bOOrgZHZN_Aw",
        "colab_type": "text"
      },
      "source": [
        "### fitする"
      ]
    },
    {
      "cell_type": "code",
      "metadata": {
        "id": "98b3XjG7N8nZ",
        "colab_type": "code",
        "colab": {}
      },
      "source": [
        "tf_idf = vectorizer.fit_transform(pre_docs)"
      ],
      "execution_count": null,
      "outputs": []
    },
    {
      "cell_type": "code",
      "metadata": {
        "id": "weyT5UvgwVv9",
        "colab_type": "code",
        "colab": {
          "base_uri": "https://localhost:8080/",
          "height": 914
        },
        "outputId": "9c50c2ce-2476-4363-8a18-5f22235a916d"
      },
      "source": [
        "print(tf_idf)"
      ],
      "execution_count": null,
      "outputs": [
        {
          "output_type": "stream",
          "text": [
            "  (0, 108)\t0.5\n",
            "  (0, 119)\t0.5\n",
            "  (0, 120)\t0.5\n",
            "  (0, 5)\t0.5\n",
            "  (1, 23)\t1.0\n",
            "  (2, 71)\t1.0\n",
            "  (3, 122)\t1.0\n",
            "  (4, 62)\t1.0\n",
            "  (5, 8)\t1.0\n",
            "  (6, 97)\t0.7071067811865476\n",
            "  (6, 60)\t0.7071067811865476\n",
            "  (7, 113)\t1.0\n",
            "  (8, 134)\t1.0\n",
            "  (9, 22)\t0.7071067811865476\n",
            "  (9, 117)\t0.7071067811865476\n",
            "  (10, 109)\t0.7071067811865476\n",
            "  (10, 116)\t0.7071067811865476\n",
            "  (11, 17)\t1.0\n",
            "  (12, 12)\t0.7071067811865476\n",
            "  (12, 14)\t0.7071067811865476\n",
            "  (13, 24)\t1.0\n",
            "  (14, 70)\t1.0\n",
            "  (15, 1)\t1.0\n",
            "  (16, 16)\t1.0\n",
            "  (17, 78)\t1.0\n",
            "  :\t:\n",
            "  (78, 101)\t1.0\n",
            "  (79, 55)\t1.0\n",
            "  (80, 6)\t0.7071067811865476\n",
            "  (80, 10)\t0.7071067811865476\n",
            "  (81, 44)\t1.0\n",
            "  (82, 126)\t1.0\n",
            "  (83, 114)\t1.0\n",
            "  (84, 82)\t0.7071067811865476\n",
            "  (84, 77)\t0.7071067811865476\n",
            "  (85, 86)\t1.0\n",
            "  (86, 2)\t1.0\n",
            "  (87, 0)\t1.0\n",
            "  (88, 124)\t1.0\n",
            "  (89, 96)\t1.0\n",
            "  (90, 84)\t1.0\n",
            "  (91, 20)\t1.0\n",
            "  (92, 41)\t1.0\n",
            "  (93, 90)\t1.0\n",
            "  (94, 47)\t1.0\n",
            "  (95, 48)\t1.0\n",
            "  (96, 34)\t1.0\n",
            "  (97, 75)\t1.0\n",
            "  (98, 35)\t1.0\n",
            "  (99, 133)\t0.7071067811865476\n",
            "  (99, 132)\t0.7071067811865476\n"
          ],
          "name": "stdout"
        }
      ]
    },
    {
      "cell_type": "markdown",
      "metadata": {
        "id": "yKhgoWLeOCW_",
        "colab_type": "text"
      },
      "source": [
        "### K-means\n",
        "### kmeansの設定"
      ]
    },
    {
      "cell_type": "code",
      "metadata": {
        "id": "qVRkE4lsOBuL",
        "colab_type": "code",
        "colab": {}
      },
      "source": [
        "num_clusters = 8\n",
        "km = KMeans(n_clusters=num_clusters, random_state = 0)"
      ],
      "execution_count": null,
      "outputs": []
    },
    {
      "cell_type": "markdown",
      "metadata": {
        "id": "SoOo2YWkOU9T",
        "colab_type": "text"
      },
      "source": [
        "### fitする"
      ]
    },
    {
      "cell_type": "code",
      "metadata": {
        "id": "ZmhVNkcyOSxq",
        "colab_type": "code",
        "colab": {}
      },
      "source": [
        "clusters = km.fit_predict(tf_idf)"
      ],
      "execution_count": null,
      "outputs": []
    },
    {
      "cell_type": "markdown",
      "metadata": {
        "id": "aIcN2sKSOZdu",
        "colab_type": "text"
      },
      "source": [
        "### 出力結果"
      ]
    },
    {
      "cell_type": "code",
      "metadata": {
        "id": "HBFqXETzOXec",
        "colab_type": "code",
        "colab": {
          "base_uri": "https://localhost:8080/",
          "height": 1000
        },
        "outputId": "a5361470-04c1-4eb9-fd1f-adf5c0fa045a"
      },
      "source": [
        "for doc, cls in zip(pre_docs, clusters):\n",
        "    print(cls,doc)"
      ],
      "execution_count": null,
      "outputs": [
        {
          "output_type": "stream",
          "text": [
            "0 asianexporterfeardamagejapanriftmountingtradefrictionjapanraisefearamongmanyasiaexportingnationrowcouldinflictfarreachingeconomicdamagebusinessmenofficialtellreutercorrespondentasiancapitalmovejapanmightboostprotectionistsentimentleadcurbamericanimportproductexporterconflictwouldhurtlongrunshorttermtokyolossmightgainimpose300tariffimportjapaneseelectronicsgoodapril17retaliationjapanallegefailurestickpactsellsemiconductorworldmarketcostunofficialjapaneseestimateputimpacttariffspokesmanmajorelectronicsfirmwouldvirtuallyhaltexportproducthitnewtaxablebusinessspokesmanleadingjapaneseelectronicsfirmmatsushitaelectricindustrialcoltdmc>.tariffremainplacelengthtimebeyondmonthmeancompleteerosionexportgoodsubjecttarifftommurthastockanalysttokyoofficebrokerjamescapelco>.taiwanbusinessmenofficialalsoworryawareseriousnessthreatjapanservewarningusseniortaiwanesetradeofficialasknametaiwantradetradesurplus15last95surplushelpswelltaiwanforeignexchangereserves53amongworldlargemustquicklyopenmarketremovetradebarriercutimporttariffallowimportproductwantdefuseproblempossibleretaliationpaulsheenchairmantextileexportertaiwansafegroup>.seniorofficialsouthkoreatradepromotionassociationtradedisputejapanmightalsoleadpressuresouthkoreawhosechiefexportsimilarjapanlastsouthkoreatradesurplus1985malaysiatradeofficerbusinessmentoughcurbjapanmightallowhardhitproducersemiconductorthirdcountryexpandsaleshongkongnewspaperallegejapansellingcostsemiconductorelectronicsmanufacturerviewbusinessmenshorttermcommercialadvantagewouldoutweighpressureblockimportshorttermviewlawrencemillsdirectorgeneralfederationhongkongindustrywholepurposepreventimportonedayextendsourcemuchserioushongkongdisadvantageactionrestraintradelasthongkongbigexportmarketaccounting30domesticallyproduceexportaustraliangovernmentawaitoutcometradetalksjapaninterestconcernindustryministerjohnbuttoncanberralastfridaykinddeteriorationtraderelationstwocountrymajortradingpartnerseriousmatterbuttonaustraliaconcerncentrecoalbeefaustraliatwolargeexportjapanalsosignificantexportcountrymeanwhilejapanesediplomaticmanoeuvresolvetradestandcontinuejapanrulingliberaldemocraticpartyyesterdayoutlinepackageeconomicmeasureboostjapaneseeconomymeasureproposeincludelargesupplementarybudgetrecordpublicworksspendingfirsthalffinancialalsocallstepspendingemergencymeasurestimulateeconomydespiteprimeministeryasuhironakasoneavowfiscalreformprogramdeputytraderepresentativemichaelsmithmakotokurodajapandeputyministerinternationaltradeindustrymitiduemeetwashingtonweekeffortenddispute\n",
            "0 chinadailyvermineatgrainstockssurvey19provincesevencityshowverminconsumesevenchinagrainstockschinadailyalso57525chinafruitoutputleftrot30vegetablepaperblamewasteinadequatestoragebadpreservationmethodgovernmentlaunchnationalprogrammereducewastecallingimprovetechnologystoragepreservationgreaterproductionadditivepapergivedetails\n",
            "0 japanreviselongtermenergydemanddownwardsministryinternationaltradeindustrymitireviselongtermenergysupplydemandoutlookaugustmeetforecastdowntrendjapaneseenergydemandministryofficialmitiexpectlowerprojectionprimaryenergysupply2000550kilolitrekl600decisionfollowemergencestructuralchangejapaneseindustryfollowingrisevalueyendeclinedomesticelectricpowerdemandmitiplanningworkreviseenergysupplydemandoutlookdeliberationcommitteemeetingagencynaturalresourceenergyofficialmitialsoreviewbreakdownenergysupplysourceincludeoilnuclearcoalnaturalgasnuclearenergyprovidebulkjapanelectricpowerfiscalendmarch31supplyingestimate27kilowatthourbasisfollowoil23liquefynaturalgas21note\n",
            "0 thaitradedeficitwidenfirstquarterthailandtradedeficitwidenbahtfirstquarteragobusinesseconomicsdepartmentjanunarymarchimportrose65baht58thailandimprovebusinessclimateresult27increaseimportrawmaterialsemifinishproductcountryoilimportbillhoweverfell23firstquarterdueloweroildepartmentfirstquarterexportexpand60baht56exportgrowthsmallerexpectduelowerearningsmanykeycommodityincludericewhoseearningsdecline18maize66sugar45tin26pineapplesevenproductregisterhighexportgrowthjewellery64clothing57rubber35\n",
            "0 indonesiaseecporisingsharplyindonesiaexpectcrudepalmoilcporisesharply450550fobsometimebettereuropeandemandfallmalaysianoutputhasrulharahapjuniorministertreecroptellindonesianreportermalaysiansumatrancpoaround332cifdeliveryrotterdamtraderharahapindonesiawouldmaintainexportdespitemakingrecentpalmoilpurchasemalaysiacouldpossiblyincreaseinternationalmarketindonesiaworldsecondlargeproducerpalmoilmalaysiaforceimportpalmoilensuresupplymoslemfastingmonthramadanharahapbetterimportcovertemporaryshortageloseexportmarketindonesianexportcpocalendar5305004685001985accordcentralbankfigure\n",
            "4 australianforeignshipbanendnswporthittugcrewnewsouthwalesnswvictoriawesternaustraliayesterdayliftbanforeignflagshipcarrycontainernswportstilldisruptseparatedisputeshippingsourcebanimposeweekagopayclaimpreventmovementportnearly20vesselpaydisputegohearingarbitrationcommissiontodaymeanwhiledisruptionbegintodaycargohandlingportsydneynewcastleportkemblaindustrialactionnswportpartweekactioncallnswtradelabourcouncilprotestchangestateworkercompensationlawsshippingsourcevariousportunionappeartakingturnworkshorttimestartshiftwalkcargohandlingportdisruptcontainermovementaffectstopaltogethercouldlongdisruptiongoeffectshippingmovement\n",
            "4 indonesiancommodityexchangemayexpandindonesiancommodityexchangelikelystarttradingleastonenewcommoditypossiblytwocalendarexchangechairmanpaiannainggolantellreuterstelephoneinterviewtradingpalmoilsawtimberpeppertobaccoconsidertradingeithercrudepalmoilcporefinepalmoilmayalsointroducequestionstillconsidertradeministerrachmatsalehdecisiongoaheadmakefledglingexchangecurrentlytradecoffeerubberphysicalsopenoutcrysystemfourdaysweekseveralfactormakeusmovecautiouslynainggolanwantmoveslowlysafelymakemistakeundermineconfidenceexchange.\"physicalrubbertradinglaunch1985coffeeaddjanuaryrubbercontracttradefobfivemonthforwardrobustacoffeegradefourfivetradepromptdeliveryfivemonthforwardexchangeofficialtradeministryexchangeboardconsiderintroductionfuturetradinglaterrubberoneofficialfeasibilitystudyneedfirstdecisionlikelyindonesiaelectionapril23tradertradeministersalehmondayindonesiaworldsecondlargeproducernaturalrubberexpandrubbermarketingefforthopedevelopmentexchangewouldhelpnainggolanexchangetryboostoverseasinterestbuildingcontactenduserteamalreadysouthkoreataiwanencouragedirectuseexchangedelegationwouldalsovisiteuropemexicolatinamericanstateencourageparticipationofficialinfantexchangemakegoodstartalthoughtradingcoffeedisappointtransactionsrubberstarttradingapril1985decembertotal595worthfobplus184rupiahrubberdeliverlocallylatestexchangereporttradingcoffeecalendaramount905381lotsvalue87rupiahtotalmembershipexchangeninebroker44trader\n",
            "0 srilankagetusdaapprovalwheatfooddepartmentofficialdepartmentagricultureapprovecontinentalgraincosale52500softwheat89cfpacificnorthwestcolomboshipmentapril20delivery\n",
            "0 westernminingopennewgoldmineaustraliawesternminingcorpholdingltdwmngwmcestablishnewjointventuregoldminenorthernterritorycost21mineknowgoodallproject60wmc40localwrgracecograunitlocate30kmeastadelaiderivermtbundeywmcstatementopenpitmineconventionalleachtreatmentplantexpectproduce50ouncegoldfirstproductionmid1988annualorecapacity750\n",
            "4 sumitomobankaimquickrecoverymergersumitomobankltdsumicertainlosestatusjapanprofitablebankresultmergerheiwasogobankfinancialanalystosakabasesumitomodespositsaround23trillionyenmergeheiwasogosmallstrugglebankestimate29unrecoverableloanoctoberdespitelinksumitomopresidentkohkomatsutellreutersconfidentbankquicklyregainpositionbackpositionfirstplacewithinthreeyearskomatsuinterviewmergerinitiallyreducesumitomoprofitabilityefficiencyvastlyexpandsumitomobranchnetworktokyometropolitanarearelativelyweakfinancialanalystdividewhetherquicklygamblepaysumitomomaypaymuchheiwasogoviewsmallerbanklargedebtothersarguemergercosteffectivecreatecomparablebranchnetworkscratchanalystagreebankaggressiveexpandoverseasenterlucrativesecuritybusinessgeardomesticcompetitionquestionwisdommovemakeboldmoveputeverythingplacelargelyhandskleinwortbensonltdfinancialanalystsimonsmithsonamongsumitomoproblemlimitplacemoveentersecuritybusinesstakingamericaninvestmentbankgoldmansachscosumitomolastaugustagreepay500limitedpartnershipbanktimeleastfederalreserveboardforbidexchangepersonnelincreasebusinesstiewidelylooklameduckfedstrictsumitomoexpectoneanalystkomatsumovepaytimeregulationchangenearfuturevariousthingswaittwothreeyears21stcenturykomatsukomatsualsowillingpatientpossibleroutesecuritybusinesshomearticle65securityexchangeactjapanversionglasssteagallactseparatecommercialinvestmentbankingwalltwocrumblekomatsuhopederegulationcreatenewopportunityneedfindnewbusinesschancekomatsucasesecurityrelatecasetrustbankrelatekindderegulationwant.\"changeoccursumitomofocusdomesticsecuritybusinessprofitablegovernmentbonddealingstrengtheningrelationsmeikosecuritycoltdholdfivekomatsusumitomocautiouslyoptimisticenteringsecuritybusinessswissuniversalbanksubsidiarybancadelgottardofinanceministryexpectgrantlicencesecuritysubsidiarycommercialbankssoonfollowingsimilardecisionsubsidiaryeuropeanuniversalbanksparentholdle50komatsureluctantpushhardsimilardecisiongottardosubsidiarywantmakewaveexpectallowtwothreeyearslikecitybankssumitomoalsopushingexpandlendingindividualsmallmediumbusinessreplacedisappearingdemandbigbusinessaddanalystsumitomodevotelottimedigestrecentinitiativeincludemergerailheiwasogosumitomoboldstrategykleinwortsmithsonquestionabsorbjugglingaroundnextdecadeseestrategyrightwrong.\"\n",
            "4 subrotoindonesiasupporttinpactextensionmineenergyministersubrotoconfirmindonesiansupportextensionsixthinternationaltinagreementitanewpactnecessaryaskreutersclarifystatementmondaypactallowlapsesubrotoindonesiareadybackextensionitasupportextensionsixthagreementseventhaccordbelieveunnecessary.\"sixthitaexpireendjuneunlesstwothirdmajoritymembervoteextension\n",
            "0 bundesbankallocatemarkstenderbundesbankacceptbidmarkstodaytender28daysecurityrepurchasepactfixrate80centralbankspokesmanbanksbidtotalmarksliquiditycreditfundsallocatetodaymustbuybacksecuritypledgemay14marksdrainmarkettodayearlierpactexpirebundesbankeffectivelywithdrawmarksmarkettodayallocationbundesbankspokesmananswerenquirywithdrawalfundsreflecttighteningcreditpolicyseecontextplentifulliquiditybankingsystembanksholdaverage59marksbundesbankfirstsixdaysmonthwellclearlikelyaprilminimumreserverequirement51marksbundesbankspokesmannotebiddingmarksoutgo14banksshowfeltplentyliquiditydealerbundesbankkeenpreventmuchliquidityaccruemarketwouldblunteffectivenesssecurityrepurchaseagreementmainopenmarketinstrumentsteeringmarketinterestratestwopactlikelymonthnexttwoweekbundesbankcurrentlysteeringcallmoneyalthoughshorttermfluctuationoutsiderangepossibledealer\n",
            "4 bondcorpstillconsideratlasminingbailbondcorpholdingltdbonaatlasconsolidateminingdevelopmentcorpatlcmnstillholdingtalksbailpackagetroubleminingfirmatlasstatementatlasphilippinesbigcopperproducerhitdepressworldcopperreportloss97638pesoendingdecembercompareloss531985ablecutlossesscalecopperoperationscentralislandcebustartsecondhalfatlasnegotiationcontinueacquisitionbondexistbankloanrestructuregoldloanmemorandumunderstandingsigntwosideoctoberlastbondwouldacquireatlastotalloan275repaymininggoldatlastwosidealsodiscussequityinfusionatlascreationdevelopmentfundexplorationdevelopmentgoldpropertycentralprovincemasbatewilsonbanksgeneralmanagerbondcorpinternationalltdhongkongtellreutersatlasstatementnegotiationreasonablyaccurate.\"banksbondcorpseriouslyconsiderseveralinvestmentphilippinesgivedetailsstatementatlasdevelopmentpreworldwartwoundergroundminemasbateaccelerateoretonnageincreaseextendoperationlifeleast1993\n",
            "0 chinaindustrialoutputrisefirstquarterchinaindustrialoutputrose14firstquarterperiodpeopledailyoverseaseditiongrowthratecomparetargetsevenwholeratherhighbasefirstquarterlowsideindustrialoutputgrowfirstquarterchinaindustrialproductionnormalproductqualityefficiencyneedimprovementgivedetails\n",
            "0 japanministryopenfarmtradewouldhitjapanagricultureministryangerdemandjapanopenfarmproductmarkettellofficialtalkslatermonthliberalisationwouldharmexistfarmexportjapanseniorministryofficialimportwoulddropdueactivesalesdrivesupplierofficialdeclinenamejapanlargecustomerfarmproductreasonabledemandjapanliberalisefarmimportmarketagricultureministermutsukikatoinsistjapanopenprotectricemarketalsoopenwheatmarketvolumeoriginregulateprotectlocalfarmeraustraliacanadacouldincreasewheatexportcompetitiveenduserwouldalsobuyorigingraintraderagriculturesecretaryrichardlyngduevisitjapantalksapril1627askjapanofferricemarketsupplierremovequotabeefcitrusimportcountryalreadycuttingmarketaustralialargebeefsupplierjapantryboostexportpriorexpiryfourbeefaccordnextmarch31importcornfalldueincreasesaleschinasouthamericajapanesesoybeanimportbrazilexpectrisesharplyalthoughremainlargesupplierfeedgrainsalesalsodropjapanopenbeefimportsincejapandependalmostentirelyfeedgrainimportmainlyjapaneseofficialindicationpositioncomelastdecembersecretaryagriculturedanielamstutzjapanpotentialprovideonelargeboostagriculturalexportbeefmarketalonerepresentonenewbusinessalsoaskgeneralagreementtarifftradeinvestigatelegalityjapaneseimportcontrolfarmproductincludefruitjuicepureepulptomatojuiceketchupsaucepeanutspreparebeefproductmiscellaneousbeanhelpcalmheattraderelationsjapantopbusinessgroupkeidanrenurgegovernmentremoveresidualimportrestrictionagriculturalproductagricultureministerkatoruleemotionalreactionseniorministryofficialfarmissuebecomescapegoattradepressureindustrialsectorjapanlargebuyerfarmproductissuediscusstableofficial\n",
            "0 amatilproposetwofivebonusissueamatilltdamaaproposemaketwofivebonusissuerevaluationreserveshareholderregistermay26shareholderaskapproveissueincreaseauthorisecapital175125generalmeetingmaystatementnewrankdividenddeclareoctober31amatilbindustryplcbtilhold41stakeexpectmaintainlatestannualdividendrate29centenlargecapital\n",
            "0 bowaterpretaxprofitsrise15stg277p207pdiv0p5pmaking0p25pturnover34stg29pretaxprofit4832tax14namebowaterindustryplcbwtrltradingprofit6345tradingprofitincludepackagingassociateproduct2314merchantingservices18tissuetimberproductinterestdebit15minorityinterestdebitdebitextraordinaryitem15creditdebit\n",
            "0 kmoneymarketdeficitforecast250stgbankenglandforecastshortagearound250stgmoneymarkettodayamongmainfactoraffectliquiditybillmatureofficialhandstaketreasurybilldrain505stgbillrepurchasemarketremovearound194additionrisenotecirculationbankerbalancetargetdrainaround110stgpartlyoffsetoutflowexchequertransactionsadd690stgsystemtoday\n",
            "0 southkoreamoveslowgrowthtradesurplussouthkoreatradesurplusgrowingfastgovernmentstarttakingstepsslowdeputyprimeministerkimmahnjetellpressconferencegovernmentplanincreaseinvestmentspeedopeninglocalmarketforeignimportgraduallyadjustcurrencyholdsurplusproperlevel.\"governmentwouldallowappreciatemuchshortperiodtimesouthkoreapressurewashingtonrevaluewantsouthkoreacuttradesurplusrose1985kimalsoeconomicplanningministerprospectbrightsouthkoreaneconomygovernmentwouldtryholdcurrentaccountsurplusaroundfivenextfiveyearsgovernmentprojectioneightgnpgrowthfivecurrentaccountsurplusgrowthexportseemreasonableearlysurplusgrowingfastexpecttradeministryofficialsouthkoreaexportrose3534firstthreemonthimportrosekimswingsouthkoreacurrentaccountsurplus65890dlrdeficit1985significantsurplusenablecountryreduceforeigndebtlastfirsttimesouthkoreaforeigndebtfell44461985stillamonglargeasiahugeamountforeigndebtonemajorconstraintdevelopment...lastmajorturningpointkoreaneconomykimkimgovernmentplannnedreduceratioforeigndebtcountrygnp20199150governmenthoweverwantacceleratereducingdebtmakingexcessivetradesurpluskimsuddenrisesurpluswouldcauseinflationleadtradefrictionseoulmajortradingpartnerparticularlyunitestateneedsurplusreducedebttakingmeasureholdsizesurplusproperlevelkim\n",
            "0 finncanadianstudymtbeproductionplantfinlandnationaloilnesteoyneoystatementagreecanadianfirmstudyfeasibilitybuildingplantedmontoncanadaproducereplacementleadpetrolprospectiveplantwouldcostestimate270canadianwouldproducemethyltertiarybutylethermtberawmaterialavailablelocallypartnerstudynesteoycelanesecanadainchoechstcelanesecorporationtrademountainpipelineltdvancouverbcedmontonsitesuitablerawmaterialavailabilityproximitypipelinetransportationimportantcapitaloperateadvantagegainlocatingexistcelanesecanadasitestatementpartnerwouldlookfeasibilityplantproduce500perannummtbeoctaneenhancerreplacetetraethylleadmtbewouldtargetunitestateleadlevelgasolinelowerhealthconcernstatementaddcanadianleadlimitcurrentlytimeshighlimitleadschedulevirtualeliminationcanada1993createcanadiandemandmtbefinlandnesteoywhoseturnoverlastfiveextensiveexperiencemtbemajorinvestmentmtbeplantsaudiarabiaedmontonalbertaplantwouldschedulegostreamlate1989statement\n",
            "0 crasellforrestgold76whimcreekwhimcreekconsolidatenlconsortiumleadingpay7655acquisitioncraltdcraaforrestgoldptyltdunitreportyesterdaycrawhimcreekdiscloseyesterdaywhimcreekhold44consortiumaustwhimresourcenlhold27croesusminingnl29statementreportforrestgoldtwominewesternaustraliaproducecombine37ouncegoldalsoundevelopedgoldproject\n",
            "0 germanindustrialemploymentseestagnatenumberworkeremploywestgermanindustrialsectorstagnatelastquarter50increaseoverallemploymentbenefitservicesbranchdiweconomicinstitutediwreportaddgeneraldownturneconomysincelastautumnnegativeeffectwillingnessfirmtakeworkerrefermarkdownturnnumberworkertakecapitalgoodsectornewordermanufacturingindustrygoodmostlyfallstagnaterecentmonthdatafebruaryfinallyshowreversaltrendrise\n",
            "0 bowaterindustryprofitexceedexpectationbowaterindustryplcbwtrlpretaxprofits48stgexceedmarketexpectationaround40pushsharplyhigh491p468plastnightdealerlatereaseback481pbowaterreport32stgprofit1985statementaccompanyresultunderlietrendshowimprovementintendexpanddevelopingexistbusinessseekingnewopportunityaddappointdavidlyoncurrentlymanagedirectorredlandplcrdldlnewchiefexecutiveanalystnotebowaterprofits18stg13previouslygivenboostpensionbenefitstgprofitaustraliafareastshowgreatestpercentagerisejumping5515profitkoperationsrose3024europe42\n",
            "4 citibanknorwayunitlosesixcrowncitibankccin>,norwegiansubsidiarybasebankmakelosssixcrownalthoughforeignbankerexpectshowprofitstwoleanyearscitibankoslotreasuryheadbjoernsejerstadtellreuterscitibankonesevenforeignbanksubsidiaryoperatenorwaylostmoneyrestructureinvestmentbankingawaycommercialbankingeconomicslumpnorwayfollowinglastplungeoilforeignbanksallowoperatesusbidiariesnorwaysince1985foreignbankinganalystosloaccessnorwaysecondhandsecurityequitymarketapprovelaterspringlowerprimaryreserverequirementwouldmakeprofitcitibanklost490crownnorway1985sejerstadprofitlikelyplanliberalisationbettereconomicperformancehelpsteadyoilaround18barrelearlierchasemanhattanbankcmbnsubsidiarydecidestopforeignexchangetradingheavylossesfocusinsteadfeebasemerchantbanking\n",
            "0 vieillemontagneconditionsunfavourablesharpfalldollarzincdepreciationcurrencycreateunfavourableeconomicconditionsvieillemontagnesavmnbbrstatementtwofactorledsqueezerefiningmargin1824fallsalesservicesincomedespiteunchangedlevelactivityvieillemontagneactivelypursuerestructureprogramreport198francloss187francprovisionsclosureelectrolysisplantcompare250francprofit1985\n",
            "0 vieillemontagnereportlossdividendlossexceptionalcharge198francprofit250exceptionalprovisionsclosureviviezelectrolysisplant187francexceptionalgain22salesservices1651franc2020proposedividendordinary110francfullnamevieillemontagnesavmnbbr>.\n",
            "0 ecmainlytinextensionkstandtakeeuropeancommunityecmemberinternationaltincouncilexceptbritainpreparebackextensioninternationaltinagreementecspokesmanmeetingecstaterepresentativeyesterdaybritainundertakecommunicatedecisionpartnertodayreadyyesterdaytakestandaddnineecstatebackextensionspainportugalmemberinternationaltincouncilraiseobjectioncommonecstancefavour\n",
            "2 japangivenlittlehopeavoidsanctiontopofficialjapanlittlechanceconvincedropthreatentradesanctiondespiteeffortjapaneseteamleftwashingtontodaymichaelarmacostsecretarystatepoliticalaffairsaskpressconferencewhetherjapanmoveboostdomesticeconomyopenmarketcouldpersuadeimposetariffjapaneseimportreply\"...probablyearlyfiguredemonstratesituationturnaroundpermitresultdescribe.\"armacosthopejapantakestepsliftdomesticeconomyreducedependenceexportremovebarrierimportsettleoutstandingtradeissueobviousproblemmomenttradeareawishproblemdivertattentionimportantareacooperationcontinueexistsecuritypoliticalissuequestionwhethercooperativeactiongovernmentreducetradeimbalancewhethercongresstakeactionreduceprotectionistlegislation\n",
            "0 thaizincexportfallmarchthaizincingotexportfell882march764february008marchmineralresourcedepartmentspokesmanpadaengindustrycoltdcountrysoleexporterattributedeclinelowerstocksaveragefirstquarter16late1985beginexportingdepartmentmajorbuyerincludechinajapanphilippinessouthkoreasingaporetaiwanthailandexport842zincingotfirstquarter14937ago\n",
            "0 ecsugartenderhardpredictlondontradeoutcometodayeuropeancommunityecwhitesugartenderextremelydifficultpredictlastweeksubstantialaward102350higheverrebate46864europeancurrencyunitecusper100kilotraderbelievetonnagewouldprobablysmalleraround60declinegiveviewlikelyrestitutionlastweekeuropeancommissionaccept785sugarinterventionoperatorprotestlowrebatemightdeterminefactortodayresultadd\n",
            "0 northyemencallsugarbuyingtendertradenorthyemencallbuyingtendersaturdaypurchase30whitesugararrivaljunetrader\n",
            "4 anheuserbuschjoinbidsanmiguelanheuserbuschincbudnjoinseveralforeignbiddersequesterphilippineslargefoodbeveragemakersanmiguelcorpsanmmn>,headgovernmentpanelcontroltellreutersramondiazsecretarypresidentialcommissiongoodgovernmentpcgganheuserbuschtellgovernmentinterestbuying14bsanmigueldiscloseofferdiazaustralianbreweralanbondbondcorpholdingltdoffer150pesoperbdiaznewyorkinvestmentbankallencoincearlierinterestbuying38sequestertellreuterslastmonthelderixlltdelxa>,melbournebasebrewingalsobidbhongkongeconomicjournallastmonthquotespokesmanaustralianstockbrokerjacksonltdsayingbarwonfarmlandltd>,australianfirm30ariadneaustralialtd>,planningfilipinobranchorderbuyentireblock38anheuserbuschlastmake150dlrbidbuysanmiguelbreweryltd>,hongkonglist6965neptuniacorpltd>,sanmiguelcorpsubsidiarytalksbreaklastjunetwosidecouldagreetermssale\n",
            "0 economicspotlightaustralianmarketboomaustralianmarketboomforeignfundmanagerredirectcapitalawayunitestatetraditionalmarketanalysthighshortterminterestratesbullishstockmarketincreasinglystablecurrencyreflectmassiveinflowfreshfundslasttwomonthlargelyjapaneseinvestoranalystpollreutersfundmanagerwantqualitymarketparkcashsettleaustraliabritaincanadadiversifyvolatiledollarinstrumentonepercentagepointfallkeybondratespastmonthrecordmonthhighcurrency71illustrateinflowofficialfigurelatestinflowinvestmentcapitalavailablebrokerreceivealmostdailyinquiryjapanunitestatepeoplegettrilliondollarsloshknowendingattractionhighinterestratesreasonablecurrencystabilitynationalaustraliabankltdeconomistbrianhamleyflightquality',\"hamleyaustraliamaybesteconomicpositionmanycountrywantputmoney.\"strongaustraliandollaralsoattractinvestortakingadvantageappreciatecurrencyvolatilityunitanalystlookingfavourmarketperhapspeoplewouldconcernvaluedollarlloydbanknzaltdchiefeconomistbuttroseputmoneyaustraliaentrycheapcurrencylookstable?\"turningcapitalpermanentproductiveinvestmentdependgovernmenteconomicpolicydisappearpeopleloseconfidencedirectioneconomybuttroseaddoffshoreinvestorwouldcarefullywatchgovernmentpromisetougheconomicstatementmay14happyinvestbondvehicleyieldinginterestunobtainableelsewherefundmanagercouldeasilyreverseflowparticularlyjapanesebadlyhurtpastrapidfallsaustraliandollarheftyjumpbondratesanalystremainedgymoneysomethingdeliverstatementconsidertoughenoughonemightseesubstantialoutflowbuttroseoffshoreinvestoreagerseeaustraliataketougheconomicdecisioncurb100dlrforeigndebtstubborncurrentaccountdeficitanalystgivingusbenefitdoubtthinkwouldlikeleavemoneybuttrosereservebankpolicyalsoreflectincreaseinterestinvestmentaustralianeedshieldjapaneseinvestorrapidcurrencyfluctuationreservegovernorbobjohnstonlastweekacknowledgeelementtargetrateyencurrencypolicyauthoritiescouldtakeeyesyencrucialrolejapaneseinvestoranalystbelievereservebankworksuccessfullyrecentmonthkeepaustraliandollarwithinrange100103yenapartrecoveryweakdollaraustraliandollaralsorisealmostthreetradeweightbasislastthreeweekoffshorebuyingalsoplayroleboomaustralianmarketfollowwallstreetmarketalsosettingtrendresponseweightdomesticoffshorefundspourequityparticularlygoldsectorkeyordinaryindexroserecord758todaynearly20levelendgoldindexnearlydoublerecord081periodpropertysectoralsoseekjapaneseinvestheavilyunitestaterecentyearsturningattentionundervaluerealestateparticularlytourismfieldanalystpointrecentsalesydneyfivestarregenthoteljapaneseinterest145indicativetypepropertyseekthinkfindgoodvaluerealestatelongtermfixcapitalinvestmentkindinvestmentaustralianeedbuttroseadd\n",
            "4 economicspotlightkuwaitieconomykuwaitoilreliantdebtrideeconomystartpullnosediveoildeterminepacerecoverybankereconomistcrucialability13memberopecholdoilaroundnewbenchmark18barrelnorthernhemispheresummerdemandusuallyslackenbankerestimateeconomymeasuretermsgrossdomesticproductgdpshrink19realtermslastcontractingtakingaccountinflationconsumer1985slowingfactordepresseconomicactivityincludeoldiraniraqwarkuwaitdoorstepthreatenemiratevitaloilexportlifelinegulfsapbusinessconfidencesentimentreceivemuchneedboostseptemberseriespiecemealstepscombatdebtcrisiscause1982crashlocalstockmarketcomprehensivenewdebtsettlementprogramintroducecrashresultspeculativespreeforwardtradingleft95postdatechequedefaultchequealsousecollateralconsumerspendingthusgenerateinformalcreditsystemmuchdebtwaterbigsumstilloweindividualdinar15outstandingbankcreditendonequarteronethirdestimatebankerrankbaddoubtfuldebtgovernmentrepeatedlyallowbanksgonewdebtsettlementschemeentailrescheduleproblemcredit15yearsdependwhetherdebtorregularcashflowbanksshareholderdepositorrightguaranteegovernmentedictvitalsignificancecountrypeoplefinancialsectorbigoilkuwaitbetterplaceopeccountryrideoilglutbankereconomistkuwaitopecquota948barrelsperdaybpdcompareproductioncapacitybpdmentionlastoilministersheikhalialkhalifaalsabahstrategicdiversificationdownstreamoperationseuropeseveralyearsagoheftyrefininginvestmenthomegiveguaranteemarketabroadenablesellonehalfoutputhighgraderefineoilproductoilindustrysourcekuwaitablegetaverage00barrelsellingoilformprocessproductgasoilkerosenenaphtharathercrudebankerreboundoilmajorreasoncautiousoptimismreasonlowdomesticinflationbottomfallimportrecentyearssigngovernmentspendingproductivesectorremainsteadyexternalaccountgoodshapeestimatedinarcurrentaccountsurplus161985stillachievementrecessionhitgulfkuwaitpetrodollarreservesmidputofficially80earninvestmentincomeequivalent65firsttimesinceendoilboomreservesmayenoughpreventrealbudgetdeficit87fiscalendingjune30bankerbudgetportraybankermildlycontractionaryrevenue87cut38spendingdoublingnominaldeficit33dinarleftincomestatereservesusuallyexcludeofficialbudgetaccountingforecastbankerdinar87resultshortfallbankerearlyventureforecasteconomicgrowthnextdependoilonesummerimportant.\"cabinetaffairsministerrashidalrashidlastsundaycabinetratifyrecommendationrationalisestatespendingfavourproductivesectorreactivateeconomygivedetailsbankerexpectspell88budgetpossiblyjune\n",
            "0 malaysiamaymeetoilpalmtargetmalaysiaunlikelymeettargetoutputfiveoilpalmcalendaroilpalmgrowertellreutersoutputexpectreacharoundunchangeddroughtlowusefertiliseroverstresspalmgroweraskreactionoilworldnewsletterreportmalaysiaoilpalmoutputlikelydropsharplypalmoilsellaround700ringgit115ringgitlesoybeanoilmalaysiamustsellpalmoilpreventstockbuildupcoulddamageindustryleadinggrowertellreuterscountrypalmoilstockstotal500800lastmarchgrowergrowerexpectpalmoileaselaterduepressuresouthamericansoybeanoutputcurrentsouthamericanoilseedharvestmainlysoybeanlikelyaround25previous21cropadditionnewsoybeanplantingalsoexpectentermarketaroundnovembermalaysianpalmoiloutputpeaknewplantingpalmalsolikelyslow50hectareexpectplantnewtree100althougheffectsreductionfeltanotherthreeyears\n",
            "0 jardinemathesonsettwofivebonusissuereplacingbjardinemathesonsettwofivebonusissuereplacingb\n",
            "6 monierbritainredlandmaybiddiversifybuildingmaterialgroupmonierltdmnratalkstakingplacemayleadbritainredlandplcrdldlmakingoffermonieralreadyholdchairmanbilllockeredlandalreadyhold49monier15628issuebriefnoticeaustralianstockexchangelockeshareholderwouldadvisesoondiscussionprogressrecommendkeepmoniertradinghightodaypreviouspeak80yesterdayclosewelllow18monierlargeconcreterooftilemanufactureraustralianewzealandworldlargemarketerflyashaccordannualreport1985endjune30recentlyreportfirsthalf87fell15021709earlierdueaustralianhousingdownturnalthoughforeignearningsrose\n",
            "5 isuzuplaninterimdividendisuzumotorltdisumpaydividendfirsthalfendingapril30expectmarkyenparentcurrentlossfirsthalfdueslowexportcauseyenappreciationspokesmanpaydividendsinceendoctober311983payfiveyen44yencurrentprofitfirsthalf1985\n",
            "0 japaneseofficialtakedatamicrochiptalksministryinternationaltradeindustrymitiviceministermakotokurodaleafwashingtontodaydatahoperefutechargejapanviolatepactmicrochiptradethreemanjapanesetradeteamalreadywashingtonlayinggroundworktalkskurodadeputytraderepresentativemichaelsmithaimpersuadeimposetariffcertainjapaneseproductkurodatakingnewproposalnothingbriefcaseexceptexplanationcurrentsituationkurodatelldailynewspaperasahishimbunkurodadecisionbaseincorrectdataexaggeratesensemitipowercontrolmarketforceexcessiveexpectationstabilisesupplydemandrelationsdisruptexcessinventorysince1985taketimekurodaalsolaypartblamelowchipsalesjapanlackeffortamericanfirmfailtalkstomorrowfridayforestallsanctionseektalkstraderepresentativeclaytonyeutterofficialweektalksunlikelydelayimpositiontariff\n",
            "0 bellgroupconfirmstandardcharterstakebellgroupltdbllahold14issuecapitalstandardcharterplcstchlacquiringonesentencestatementbellheadquartersconfirmbrokerwarburgsecuritytellreuterslondonyesterdaybellpreviouslyholdstandardbellchairmanrobertholmescourtalsodirectorstandardavailablecommentintentionboostholdingofficialcontactreutersdeclinecomment\n",
            "0 nipponsteeldenychinaseekingjapaneseplantnipponsteelcorpnstcdenylocalnewspaperreportchinaseekingbuysteelplantjapanesefirmplansuspendoutputrecentlyannouncerationalisationprogrammainichishimbunquotenipponsteelsayingchinastateplanningcommissionchinesefirmaskjapanesemakersellsteelworksrollingmillsexpandsteelmakingcheaplynamesourcenipponsteelspokesmantellreuterschinamakeofficialrequestconsidersalesmomentmainichiquotenipponsteelofficialsayingreasonablewouldexportusemillschinapaperchinacrudesteeloutputtotal52calendarplanincrease801996japansteelindustryrationalisationplanaimcuttingproductioncapacitysharplynextyears\n",
            "4 jardinemathesonreplacebbonusissuejardinemathesonholdingltdjardhkwithdrawpreviouslyannouncefouronebonusissuebreplacetwofivebonusissueordinarystatementfirmexpectpaytotaldividendle40centexpandcapitaljardinemathesondecidewithdrawissuejointannouncementearliertodayronaldlichairmanstockexchangehongkongsecuritycommissionerrayastinlistingnewbwouldbarofficialannouncementincludeproposaljardinemathesonjardinestatementquotechairmansimonkeswicksayingcontinuebelieveissuingbwouldbenefitshareholderregretgivenopportunityvotematterstage.\"keswickbissuebenefitjardinemathesonshareholdergivingfirmflexibilityissueordinaryexpansionfuturewithoutdiluteexistshareholdervotingrighthoweveraddcertainlywelcomesecretarymonetaryaffairsdavidnendickreferralimportantmatterstandingcommitteelawreformhopefulprocessleaddevelopmentgeneralprincipleembraceconstituenthongkongmarket.\"\n",
            "2 japangivenlittlehopeavoidsanctiontopofficialjapanlittlechancepersuadedropthreatentradesanctiondespiteeffortjapaneseteamleftwashingtontodaymichaelarmacostsecretarystatepoliticalaffairsaskpressconferencewhetherjapanmoveboostdomesticeconomyopenmarketcouldpersuadeimposetariffjapaneseimportreply\"...probablyearlyfiguredemonstratesituationturnaroundpermitresultdescribe.\"armacosthopejapantakestepsliftdomesticeconomyreducedependenceexportremovebarrierimportsettleoutstandingtradeissueobviousproblemmomenttradeareawishproblemdivertattentionimportantareacooperationcontinueexistsecuritypoliticalissuequestionwhethercooperativeactiongovernmentreducetradeimbalancewhethercongresstakeactionreduceprotectionistlegislation\n",
            "0 bankjapanintervenesoontokyoopeningbankjapanbuysmallamountdollarshortlyopeningaround14530yendealercentralbankintervenemediumsizetradinghouseselldollarputtingpressurecurrencydollaralsosupportmajorelectricalconsumergoodspeculativedollarbuyeraround14525yenadddollaropen14533yen1456070newyork14525closeyesterday\n",
            "0 indonesianinflationrate87inflationindonesiafiscal87march31compare66previousinformationministerharmokocabinetsessiondiscuseconomicsituation\n",
            "0 kmoneymarketgiven53stgassistancebankenglandprovidemoneymarket53stgassistancemorningsessioncomparebankestimateshortagesystemaround300stgearlierrevise250centralbankmakeoutrightpurchasebankbillcomprise46stgbandthreesevenstgbandfour16\n",
            "0 sanmigueldealhitlawsuitbidsanmiguelcorpsmcsanmmnbuyback38sequesterunitecoconutplanterbankucpbhittwonewlawsuitsourcephilippinefoodbrewerymanilacourtyesterdayissueinjunctionbarringucpbsellingrepresent31smcoutstandingcapitalstock121hearingapril21petitionfileeduardocojuangcoformerchairmansmcucpbcojuangcococonutindustryinvestmentfundciiffarmerrightfulownercojuangcoholdtrustucpbrepresentbluechipinvestmentpetitionucpbplansellsmcseriousbreachfiduciaryduty.\"smcsourceproposesalecouldalsoholdsecondderivativesuitfilesecurityexchangecommissionseceduardodelosangelesgovernmentnomineeboarddelosangelesrepresentsmcminoritystockholderasksecblocktransactionapprovelastweekboardaprilboardsanctionrepurchasesequester79peso126pesoperdelosangelestellsecretainearnings33pesowouldwipepurchasewouldpreventdeclarationdividenddelosangelespurchasewouldalsoviolatesmcagreementcreditormaintaindebtequityratioquotesmcchieffinancialdirectorramondelrosariotellingboardtransactionwouldboostratiopetitionsecdelosangelesamendearliersuittwoweekagochargesmcchairmanandressorianoiiininedirectorviolatedutydelosangelesearliercomplaintrelatesmcassumelastdecember26dlrloancontractsmchongkongsubsidiaryneptuniacorppaymentloanassumptionratifylastweekboardmeetingarbitrationpanelsetpresidentcorazonaquinoresolveownershipissueexpectsubmitreportapril15amendsuitfileeduardodelosangelespartcontinueattemptcertainelementscompletedisregardfactquestionablemotivedelayearlydispositionsequestersanmiguelcorpstatementcomingsanmiguelcorpucpbreachagreementmethodpaymentsuitdirectcontraventiongovernmentexpressdesirereachamicablesettlementcontroversyapril15statementaddsanmiguelspokesmancommentcojuangcocourtpetitionaddstatementcomingusmightinterpretadversarial.\"meanwhileramondiazheadgovernmentpanelsequesterlastsorianoeligiblebuymajorportionunitestatecitizensequestersplit24filipino14bavailableforeignbuyersmcsourcesorianopersonallyamongprospectivebuyerwouldpurchasesorianogroupsmcneptuniaunnamedinstitutionalinvestorsorianonameonebuyerbidmarch33controlucpbsaleabortdiazpresidentialcommissiongoodgovernmentsequestersuspicioncojuangcocloseassociateformerpresidentferdinandmarcoscojuangcolifeselfimposeexile..grow3815stockdividendannouncelastjuneobjectionsorianobuyingbdiaztellreuterseverythinghold.\"smcspokesmanknowcontroversywouldresolveannualstockholdermeetingschedulemay14sanmiguelcorpreportsalesrevenuepesopesosales1985unauditedprofitneighbourhood700pesoincrease501985\n",
            "0 rainboostcentralqueenslandsugarcanecropgoodrainonefourinchpastdaysboostmoisturestresssugarcanecropmackayburdekinregionqueenslandcentralcoastaustraliansugarproducerassociationspokesmanpreviouslyreportregionundergoseveredryspellpartlyrelievescatterrainfallsincedecemberfollowingvirtualfailuresummerwetseasonmillsareareportingcropbeginninglookhealthygreenputtinggrowthsincerainbeginspokesmanbrisbanealthoughmackayburdekincropoutlookmuchbettercanelossesspokesmanearlyrainneedrestoresubsoilmoistureelsewherefarnorthqueenslandbundabergregionsouthernqueenslandcaneexcellentconditionmillsforecastingrecordcropinitialcropestimateprobablycompiletowardsendmaycanecrushnormallyrunjunedecember\n",
            "0 frenchtraderforecastecsugartendereuropeancommunityecexpectawardexportlicencetodayweeklytender60possibly100whitesugarlastweekaward102350traderexpectmaximumrebate46404650ecusper100kilocomparelastweek46864earliertraderlondonoutcometenderhardpredictlastweeksubstantialawardplace785sugarinterventionbelievetonnagewouldaround60declinegiverebatefigure\n",
            "0 italylafondiariareporthigherprofitsitalianinsurerlafondiariaspalfdimiexpectreportconsolidategroupprofitsignificantlyhigher60lirareport1985statementparentprofitlastrise72lirareport1985consolidategrouppremiumtotal700liracompare490previousiniziativametainzimi>,financialservicesunitmontedisonspamonimi>,controllargesinglestakeflorencebasefondiaria49\n",
            "0 nickelunlikelyrisemuchshearsonnickelunlikelyrisesignificantlycurrentlevelunlessstepstakereduceproductionshearsonlehmanbrotherquarterlynickelmarketreportmarketrecoverslightlyaround72lbyesterdayfourlow55earlyjanuarydueabsencesovietnickelcathodedeliveryshearsonseesovietshipmentsoonreturnlastbuoyantleveleasecurrenttightnessoutputreductionproducertakeeffectlaterlikelyoffsetincreaseelsewhereshearsonnickelmarketvirtuallybalancetotalnonsocialistworlddemand556compareestimate544production505504importsocialistcountry4750).forecastedgehigherfirstquarteraverage67lb77lastquarteraveragearound72lbcompare76usinglondonmetalexchangecashmetaldollartermsassumeaveragesterlingexchangerate55\n",
            "7 higherprofitdutchchemicalfirmdsmfullystatedutchchemicalfirmnvdsmdsmnprofitrose412guilder4021985turnoverfell17guilder241985dividendpaydutchstatecapacityfirmsoleshareholderwouldraise98guilder70guilder1985initialcommentresultdsmdropturnovercausemainlylossesfertilizerdivision\n",
            "4 poehlwarndollarfallbundesbankpresidentkarlottopoehlweakdollarwouldriskyappreciationmarkwoulddamageprospectsustainwestgermaneconomicgrowthspeechinstitutecontemporygermanaffairspoehlwouldextremelyriskypolicyaimsubstantialdeclinevaluedollarcorrecttradedeficit.\"unitestatecouldfaceviciouscircledepreciationinflationdepreciationtakeroutepoehlnotewestgermanyalreadytakestepsmeetdemandgreaterstimulationdomesticeconomyacceleratetaxcutcuttinginterestratestoleratetargetmoneysupplygrowthwouldhappybringforwardfivemarkstaxcutplanjanuary1988beginninggovernmentfacepoliticalconstraintgettingmeasureupperhousewestgermanparliamentalsolimitimpactwestgermanycouldacceptexportrisingmarkpoehlwestgermanyrelyexportonethirdgrossnationalproductsubstantialerosionexportmarketcouldoffsetincreasedemandhomeappreciationmarkcouldevenobstaclegrowthpoehlbundesbanktoleraterapidmoneysupplygrowthlastcountryenjoylowinflationexternalfactorincludelowoilfavourabletermstradegivenextraleewaypoehlwestgermanyfacedifficultdilemmamonetarypolicyunderlierateinflationtworeportnegativeinflationrateslastwestgermanyaffectexchangeratedevelopmenttimefocuspolicyexternalsideliveexpansionarymoneysupplymustcarefulconcernjapantradesurplusaffecteuropeancountrywellunitestatepoehlwelcomecalllouvreaccordmonetaryofficialmajorindustrializecountrysayingimportancefebruary22agreementstabilizeexchangeratesunderestimatepartneragreedollarrightlevelchangewoulddamagegrowthremarkablechangeattitudeespeciallypartamericancolleaguestilldangercorrectiondollarvaluecouldovershoot\n",
            "0 cincinnatibellcsnstartauxtonauxtbidcincinnatibellincstartpreviouslyannounce1575dlrpertenderofferauxtoncomputerenterpriseincnewspaperadvertisementtenderwithdrawalrightexpiremayfiveunlessextendofferapproveauxtonboardfollowmergerconditionreceiptmajorityauxtonvotingstockfullydilutebasis\n",
            "0 californiabiotechcbiosee1stqtrlosscaliforniabiotechnologyincexpectreportloss300600firstquarterdueincreaseinvestmentresearchmanufacturingscaleupproductionresearchspendingrunning5060agotrycommercializeproductquicklypossibleincreaseexpenditureexpectcontinueseveralquartersoperateresultfluctuatequarterquarterdependtimingsignificantpaymentcommercialpartnerfirstthreemonthlost150changefiscalcalendarendingnovember30firstquarterlastendfebruary28californiabiotechearn114\n",
            "0 pallcorppllsetquarterlydividendqtlydivpriorpaymayonerecordapril20\n",
            "4 unileverseekbuyerstaufferchemicalunileverplcnvunissueprospectusinvestmentbankergoldmansachscoseekingbuyerstaufferchemicalcoacquirerecenttakeoverchesebroughpondinc>,unileverspokesmannoteunileverindicateplandisposestaufferplussmallerassetschesebroughsincebidmakedecemberstauffersaleprospectussentrecentweeknumberexpressinterestunileverspokesmandeclinemuchgroupexpectreceivestaufferchesebroughfootweartennisracketbusinessalsolikelydisposeaddimmediatelyavailablefinancialinformationstaufferwhollylimitedaddninemonthsalesseptemberunileveraquiredchesebroughorderbenefitwellknowtoiletrybrandfoodproduct\n",
            "0 conraccorpentertalksacquisitionseveralpartyconraccorpentertalksacquisitionseveralparty\n",
            "0 conraccaxmergertalksseveralconraccorpsaitstartnegotiationseveralinterestpartypossibleacquisitionassurancetransactionresulttalksgivedetailsmarkivindustryincivstarttenderconrac25march24conracstartingbidconracproducermarketercomputerrelateinformationdisplaycommunicationsequipmentalsoproducespecialpurposearchitecturalindustrialproductcodephonecorpproducertelephoneanswermachinereportprofits16sales153nearlyoutstanding\n",
            "0 japanldpurgeimportfarmitemrulingliberaldemocraticpartyldpproposeexpandimportfarmproductnamecomplaintjapangeneralagreementtarifftradelastldpofficialproductincludefruitjuicepureepulptomatoproductpeanutspreparebeefproductbeanproposalusebasisdetailldpeconomicpackagecuttradesurpluspartyexpectformalisepackageapril19ldpgeneralcouncilchairmanshintaroabevisitwashington\n",
            "0 computerresearchinccore2ndqtrfeb2814nine217572153454rev5302735589241sthalf19299838174739rev865249495021\n",
            "0 australianforeignshipbanendtugcrewnewsouthwalesnswvictoriawesternaustraliayesterdayliftbanforeignflagshipcarrycontainernswportstilldisruptseparatedisputeshippingsourcebanimposeweekagopayclaimpreventmovementportnearly20vesselpaydisputegohearingarbitrationcommissiontodaymeanwhiledisruptionbegintodaycargohandlingportsydneynewcastleportkemblaindustrialactionnswportpartweekactioncallnswtradelabourcouncilprotestchangestateworkercompensationlaws\n",
            "0 rubbermaidinc1stqtr2822rubbermaidinc1stqtr2822\n",
            "0 independentchairmandutchcargodisputetwosiderotterdamportgeneralcargodisputeagreeappointindependentchairmanhanlammerspresidefuturemeetingemployerspokesmangerardzeebregtslammersqueencommissionerprovinceflevolandactmediatordrawagendaproceduremeetingemployerunionworkpracticeagreementproposeredundancytwomonthstrikesectorbeginjanuary19protestemployerproposal350redundancystrongworkforcestrikecallmainportunionfnvmarch13followingamsterdamcourtinteriminjunctionredundancyproceduralgroundscourtduemakefinalrulingmayzeebregtsexpectjudgmentgoemployerthereforelikelyrestartcomplicatelegalredundancyprocedurenearfuturemeanwhiledisputenewworkpracticeagreementportgrainsectorcontinue30maintenanceworkerstrikealthoughloadingaffectspokesmangraanelevatormijlargeemployersectoremployerwriteunionaskingreconsiderpositionmeetingunionmembercalltomorrow\n",
            "0 electrorentcorpelrc3rdqtrfeb282032358476rev2726avgshrs852764ninemths6805957129rev8278avgshrs316754\n",
            "0 rubbermaidincrbd1stqtr28222016sales238188\n",
            "0 wtcinternationalincwaf4thqtrfeb28profit13loss33profit149loss833rev5147profit24loss18profit050loss551rev200180\n",
            "0 kmoneymarketgiven166stghelpbankenglandprovidemarkethelptotal166stgafternoonbandonebuy31stgtreasurybillthreestgbankbillbandtwobuy69stgbankbill1316additionbuy63stgbandthreebankbillbringtotalassistancebankfartoday219stgliquidityshortageestimatearound300stg\n",
            "0 meadcorp1stqtroper0967meadcorp1stqtroper0967\n",
            "0 rubbermaidrbdseecontinueimprovementrubbermaidincincomingorderratescontinuestrongexpectcontinuerecordingfavorablecomparisonremainquartertodayreportfirstquarterearnings20sales238earnings16sales188\n",
            "0 cayugasavingsbankcayb1stqtr5541494204avgshrs896655494155\n",
            "0 johnstownsavingsbankfsbjsbk1stqtr33given642484362883notegopublicoctoberincludepretaxloanlossprovisions9056250gainsalesecurity11343288946\n",
            "0 homesavingsloanassociationinchsld2ndqtrmarch3157given7908746280201sthalf15given588985073163noterecentlygopublic\n",
            "0 geodynamicscorpgdyn3rdqtrfeb272120596594rev693164ninemths6158784653rev2623\n",
            "0 swedishunemploymentsteadymarchswedishunemploymentsteadyworkforcemarchcomparepreviousmonthcentralbureaustatisticsmarchfigurestand\n",
            "0 compaqcpqexpecthigherfirstquartercompaqcomputercorpexpectsalesearningsfirstquarterhigheranalystexpectationduestrongdemandproductrodcanionpresidentchiefexecutiveofficercompaqexpectsales200periodendingmarch31analystestimate165185addearningsperwouldexceedanalystestimatehigh42compaqreportearnings30sales144firstquarterdemanddeskpro386portableiiinewcompaqdeskpro286contributesalesincreaseinitialdemandrecentlyintroducecompaqportableiiinewmodelcompaqdeskpro286exceedcompaqpersonalcomputercanionsawcontinuedemandpersonalcomputeracrossquartermarchparticularlystrongmonth\n",
            "4 internationaliusellinsuranceunitinternationalcoreachpreliminaryagreementsellhawaiianinsurancecoshawaiianelectricindustryinc>.termstransactiondisclosetransactionsubjectexecutiondefinitiveagreementcertaingovernmentalapprovalapprovalboardsdirectorinvolveinternationalhawaiianelectricplanpurchasepartstrategyincreaseinvestmentselectserviceindustryhawaiiincludefinancialservices\n",
            "0 cxrtelcomcorpcxrl3rdqtrmarch3121516rev800100ninemthsone620231rev100100\n",
            "0 proxmireoutlineinsidertradinglegislationsenatebankingcommitteechairmanwilliamproxmirewiplanintroducelegislationshortlyrequiregreaterpublicdisclosurecorporatetakeoverfairtreatmentshareholderspeakingnationalassociationmanufacturerproxmirerecentinsidertradingstockscandalincreasechancecongressactcurbabuseproposelegislationwouldprovidedisclosurewouldfairshareholderwouldinsuretakeoverproperlyfinanceamongprovisionsbillwouldreducethresholdnotifysecurityexchangecommissioninvestorgroupacquirepercentagestockthreecurrentfivethresholdwithindaysproxmireadditionwouldprenotificatonrequirementinvestorintendaquirethreewouldfilesecproxmireprenotificationrequirementmeanpreventarbitragerjumpgeneralpublicknowingcomingtakeoverattemptproxmirewouldcallextendperiodtenderoffermustkeepopenwilliamsact60businessdayscurrent20businessdaysbillwouldprovideprivatesuitacquiringviolatetimeperiodtenderoffercorrectabusefinancingtakeoverproxmirelegislationwouldaiminsurecurrentmarginrequirmentsproperlyenforcefederalreserveboard50marginrequirementpurchasingstockproxmiregenerallyenforcehostiletakeoverrathergroupindividualleadingtakeoverdeclareraisecapitaltakeoverwithoutactuallyputtingmoneyproxmirebillwouldallowprivatesuitdamagesfailuremeetfederalreserve50marginrequirementbillalsowouldrequirediscloseseveralinvestorformalliancehostiletakeoverpickensicahngettogetherwantpeopleknowproxmireproxmirefavorapproachusebritaintowardstwotieredtenderofferinsureshareholderrecieveequaltreatmentexpectamendmentbillalsowouldcoverdefensivemechanismgreenmailpoisonpillproxmireintendintroducebilllatermonthpredictsenatecommitteewouldactspringhopefulcongresscouldpassbill\n",
            "0 helentroycorphele4thqtrfeb281713598392sales474avgshrs432045operprofit05loss47operprofit498loss427sales5240avgshrs320060notelatestexclude782dlrtaxcredit\n",
            "4 bankertrustbtputbrazilnonaccrualbankertrustnewyorkcorpplaceapproximately540mediumlongtermloanbrazilnonaccrualstatusfirstquarterincomereducesevenresultbrazilsuspendinterestpayment68mediumlongtermdebtfebruary22bankingregulationrequirebanksstopaccrueinterestloanpayment90daysoverduebankertrustacthighpotentialcontinuesuspensionwouldresultreaching90daylimitsecondquarter.\"assumecashpaymentcurrentinterestratesreceiverestbankertrustestimatefullincomewouldreduce30bankertrustassumedebtnegotiationbrazilcommercialbanklenderleadresumptioninterestpaymentnegotiationresumenewyorkfridaycentralbankgovernorfranciscogrosexpectaskbanks90dayrollovertermdebtmatureapril15\n",
            "0 firstmercantilecurrencyfundinc1stqtrprofit6322775868276446rev255742706130\n",
            "0 ukinterventionbdecsell118350whitesugarrebate46496ecusukinterventionbdecsell118350whitesugarrebate46496ecus\n",
            "0 stoltenbergseemovestrengthenparisaccordwestgermanfinanceministergerhardstoltenbergtodaymeetingmajorindustrialcountrywouldlookwaysstrengtheningparisaccordstabilizeforeignexchangeratesstoltenbergtelljournalistsawfundamentalweaknessfebruary22agreementgroupfivecountrycanadakeepexchangeratesnearcurrentleveldeclinemeasurewoulddiscussaheadcommuniquegroupsevenministerlatertodaystoltenbergbundesbankpresidentkarlottopoehlimportanceparisagreementalsoknowlouvreaccordunderestimatestoltenberggreateragreementamongmajorcountrysixmonthagotimeannualmeetinginternationalmonetaryfundworldbankmarksharpdiscordunitestatemajortradingpartnerfundamentalweaknessparisaccordlookingwaysstrengtheningwantdiscusstoltenberglouvreagreementworkingdespiteslightfirmyendollarpoehlnotedollarmarkparityunchangedsincefebruary22withoutbundesbanksellmarkssupportdollarlouvreagreementhonormarketpoehlwestgermanylivesidebargainparispreparewaytaxcutacceleratewaystimulategrowthpoehlhoweverjapanyetfulfilpledgeeconomicstimulationseeunitestateablepromiseparisreducingbudgetdeficitgetcongressaddstoltenbergreiteratewestgermanconcernfalldollarnotemark85dollarnearly20tradeweightbasiscannotexpectgounnoticedeconomygermanproblemeuropeanproblem\n",
            "3 kinterventionboarddetailsecsugarsalestotal118350currentserieswhitesugarreceiveexportrebatemaximum46496europeancurrencyunitecusper100kilotodayeuropeancommunityectenderkinterventionboardtraderkreceive37800france34500westgermany20belgium18500spain800denmark750addearliertodaylondontraderdeclinegiveprojectviewlevelsubsidyalthoughtotaltonnageawardwouldaround60paristraderforesee60100authoriseexport46404650ecusubsidycumulativesalesauthorisationcurrentseason87stand19497043week).lastweeksaw102350whiteauthoriseexportlicenceendsephigesteverrebate46864europeancurrencyunitecusper100kilo\n",
            "0 meadmeaexpectimproveearningsmeadcorpoutlookmajorpapermarketlookstrongsecondquarteraugurwellearningsgenerallystrongoutlookbodewellsignificantlyimproveearningsburnellrobertschairmanchiefexecutiveofficerearlierreportfirstquarterearnings3409versus2065lastfirstquarterreportearningscontinueoperations10950meadfirstquarterbenefitstrongmarketconditionsimproveoperationscombinationcapitalimprovementprogramemployeeinvolvementpaythroughoutpaperoperationsrobertsaddmeadpulppaperboardbusinessoperatewellimprovestrongdemandplaceproductsellpositionmiddlemeadsalesunbleachedcoatpaperboardparticularlystrong13versusfirstquarter\n",
            "0 amertekincatekf1stqtrprofit20lossthreeprofit849299loss82512rev929138849224\n",
            "0 alexbrownincabsb1stqtrmarch27primary7868dilute7568qtrlydivsixfive929569rev7861notepaydateqtrlydivapril28shareholderrecordapril20\n",
            "0 towncountryjewelrymanufacturingtcjc4thhqtrfeb284622139034854182sales3020avgshrs2808545596463415935117156171sales10771avgshrs281387616183notetowncountryjewelrymanufacturingcorp\n",
            "0 paxarcorppaksmakeacquisitionpaxarcorpacquirethermoprintgmbhlohnwestgermanydistributorpaxarproductundisclosedterms\n",
            "0 markworkwearhouseltdjan3132975145sales159147\n",
            "0 canadianbashawerskineresourcemergecanadianbashawleducoilgasltdagreemergeerskineresourceltdtermsdiscloseownershipcombine18currentshareholdercanadianbashaw81currentshareholdererskine\n",
            "0 entourageentgfirstquarterlossentourageinternationalincfirstquarterloss104357incurring70costsinternalauditreportshareholderproxysoliciation24startupexpenseopeninglondonofficegopublicentouragealsostartmarketingsolidperfumepackagelipsticktubecallamadeusretailing15alsoacquirenorthcountrymediumgroupvideoproduction\n",
            "0 mrjaxfashionincfeb285829141440sales2413\n",
            "0 fwwoolworthcohikedividend3328fwwoolworthcohikedividend3328\n",
            "0 fwwoolworthcozhikedividendqtlydiv3328priorpayjunerecordmay\n",
            "0 dutchsugarbeetplantinghalffinishroughlyhalfexpect130hectaredutchsugarbeetcropalreadygroundspokesmansuikerunielargesugarprocessornetherlandstellreutersconditionsgenerallygoodaveragesowdatecropexpectaroundaprilapril23lastaverageapril14spokesmanaddfarearlyyetkindoutputexpectcomeharvestseptemberleastcropgoodstartlastnetherlandsplantrecord137600hectaresugarbeetproducerecordwhitesugarsubstantiallycountrycombinebquota872howeverselfimposequotasystemintroduceaimcuttingplanting130hectarereducingwhitesugaroutputaround915minimiseamountnonquotacsugarproducefarmerrecordgrowingsugerbeetallotquotaexpectpreventareaboostdairycerealfarmermovesugar\n",
            "0 jpmorgancoinc1stqtr2228jpmorgancoinc1stqtr2228\n",
            "0 eccommissiondetailssugartendereccommissionconfirmgrantexportlicence118350currentserieswhitesugarmaximumexportrebate46496europeancurrencyunitecusper100kilotraderfrancereceive34500k37800westgermany20belgium18500spain800denmark750\n",
            "1 volkswagendividenddecisionduetomorrowvolkswagenagvowgf>,vwduemakeformalannouncementdividendtomorrowsaying1985levelmarksperordinarywouldholddespitemassivelossessuspectforeigncurrencyfraudspokesmanvwsupervisoryboardmeettomorrowdiscuspayoutstatementmakeafterwardsvwalsodiscloseprofitsreach1985leveldespiteprovisionspossible480markslinkcurrencyaffairfigurevirtually477mark1985parentprofitvwfirstconfirmcurrencyscandalmarchmanagementboardwouldproposeunchangedmarkdividendsupervisoryboarddividendmarkswouldproposenewpreferenceanalystsawsupervisoryboardapprovalmanagementboardproposalvirtuallyformalityanythingelsewouldsurpriseonesourcevwwoulddigreservesmaintaindiscloseprofitparentreservesstandaroundthreemarksend1985\n"
          ],
          "name": "stdout"
        }
      ]
    },
    {
      "cell_type": "code",
      "metadata": {
        "id": "gYaH-GuUt1dZ",
        "colab_type": "code",
        "colab": {}
      },
      "source": [
        "num_clusters = 5\n",
        "km = KMeans(n_clusters=num_clusters, random_state = 0)"
      ],
      "execution_count": null,
      "outputs": []
    },
    {
      "cell_type": "code",
      "metadata": {
        "id": "OSkGLjRUt1VD",
        "colab_type": "code",
        "colab": {}
      },
      "source": [
        "clusters = km.fit_predict(tf_idf)"
      ],
      "execution_count": null,
      "outputs": []
    },
    {
      "cell_type": "code",
      "metadata": {
        "id": "coln9e5nt1FR",
        "colab_type": "code",
        "colab": {
          "base_uri": "https://localhost:8080/",
          "height": 1000
        },
        "outputId": "acb0e2fc-a921-4fa1-cfe3-8b90e66e4aaf"
      },
      "source": [
        "for doc, cls in zip(pre_docs, clusters):\n",
        "    print(cls,doc)"
      ],
      "execution_count": null,
      "outputs": [
        {
          "output_type": "stream",
          "text": [
            "0 asianexporterfeardamagejapanriftmountingtradefrictionjapanraisefearamongmanyasiaexportingnationrowcouldinflictfarreachingeconomicdamagebusinessmenofficialtellreutercorrespondentasiancapitalmovejapanmightboostprotectionistsentimentleadcurbamericanimportproductexporterconflictwouldhurtlongrunshorttermtokyolossmightgainimpose300tariffimportjapaneseelectronicsgoodapril17retaliationjapanallegefailurestickpactsellsemiconductorworldmarketcostunofficialjapaneseestimateputimpacttariffspokesmanmajorelectronicsfirmwouldvirtuallyhaltexportproducthitnewtaxablebusinessspokesmanleadingjapaneseelectronicsfirmmatsushitaelectricindustrialcoltdmc>.tariffremainplacelengthtimebeyondmonthmeancompleteerosionexportgoodsubjecttarifftommurthastockanalysttokyoofficebrokerjamescapelco>.taiwanbusinessmenofficialalsoworryawareseriousnessthreatjapanservewarningusseniortaiwanesetradeofficialasknametaiwantradetradesurplus15last95surplushelpswelltaiwanforeignexchangereserves53amongworldlargemustquicklyopenmarketremovetradebarriercutimporttariffallowimportproductwantdefuseproblempossibleretaliationpaulsheenchairmantextileexportertaiwansafegroup>.seniorofficialsouthkoreatradepromotionassociationtradedisputejapanmightalsoleadpressuresouthkoreawhosechiefexportsimilarjapanlastsouthkoreatradesurplus1985malaysiatradeofficerbusinessmentoughcurbjapanmightallowhardhitproducersemiconductorthirdcountryexpandsaleshongkongnewspaperallegejapansellingcostsemiconductorelectronicsmanufacturerviewbusinessmenshorttermcommercialadvantagewouldoutweighpressureblockimportshorttermviewlawrencemillsdirectorgeneralfederationhongkongindustrywholepurposepreventimportonedayextendsourcemuchserioushongkongdisadvantageactionrestraintradelasthongkongbigexportmarketaccounting30domesticallyproduceexportaustraliangovernmentawaitoutcometradetalksjapaninterestconcernindustryministerjohnbuttoncanberralastfridaykinddeteriorationtraderelationstwocountrymajortradingpartnerseriousmatterbuttonaustraliaconcerncentrecoalbeefaustraliatwolargeexportjapanalsosignificantexportcountrymeanwhilejapanesediplomaticmanoeuvresolvetradestandcontinuejapanrulingliberaldemocraticpartyyesterdayoutlinepackageeconomicmeasureboostjapaneseeconomymeasureproposeincludelargesupplementarybudgetrecordpublicworksspendingfirsthalffinancialalsocallstepspendingemergencymeasurestimulateeconomydespiteprimeministeryasuhironakasoneavowfiscalreformprogramdeputytraderepresentativemichaelsmithmakotokurodajapandeputyministerinternationaltradeindustrymitiduemeetwashingtonweekeffortenddispute\n",
            "0 chinadailyvermineatgrainstockssurvey19provincesevencityshowverminconsumesevenchinagrainstockschinadailyalso57525chinafruitoutputleftrot30vegetablepaperblamewasteinadequatestoragebadpreservationmethodgovernmentlaunchnationalprogrammereducewastecallingimprovetechnologystoragepreservationgreaterproductionadditivepapergivedetails\n",
            "0 japanreviselongtermenergydemanddownwardsministryinternationaltradeindustrymitireviselongtermenergysupplydemandoutlookaugustmeetforecastdowntrendjapaneseenergydemandministryofficialmitiexpectlowerprojectionprimaryenergysupply2000550kilolitrekl600decisionfollowemergencestructuralchangejapaneseindustryfollowingrisevalueyendeclinedomesticelectricpowerdemandmitiplanningworkreviseenergysupplydemandoutlookdeliberationcommitteemeetingagencynaturalresourceenergyofficialmitialsoreviewbreakdownenergysupplysourceincludeoilnuclearcoalnaturalgasnuclearenergyprovidebulkjapanelectricpowerfiscalendmarch31supplyingestimate27kilowatthourbasisfollowoil23liquefynaturalgas21note\n",
            "0 thaitradedeficitwidenfirstquarterthailandtradedeficitwidenbahtfirstquarteragobusinesseconomicsdepartmentjanunarymarchimportrose65baht58thailandimprovebusinessclimateresult27increaseimportrawmaterialsemifinishproductcountryoilimportbillhoweverfell23firstquarterdueloweroildepartmentfirstquarterexportexpand60baht56exportgrowthsmallerexpectduelowerearningsmanykeycommodityincludericewhoseearningsdecline18maize66sugar45tin26pineapplesevenproductregisterhighexportgrowthjewellery64clothing57rubber35\n",
            "0 indonesiaseecporisingsharplyindonesiaexpectcrudepalmoilcporisesharply450550fobsometimebettereuropeandemandfallmalaysianoutputhasrulharahapjuniorministertreecroptellindonesianreportermalaysiansumatrancpoaround332cifdeliveryrotterdamtraderharahapindonesiawouldmaintainexportdespitemakingrecentpalmoilpurchasemalaysiacouldpossiblyincreaseinternationalmarketindonesiaworldsecondlargeproducerpalmoilmalaysiaforceimportpalmoilensuresupplymoslemfastingmonthramadanharahapbetterimportcovertemporaryshortageloseexportmarketindonesianexportcpocalendar5305004685001985accordcentralbankfigure\n",
            "0 australianforeignshipbanendnswporthittugcrewnewsouthwalesnswvictoriawesternaustraliayesterdayliftbanforeignflagshipcarrycontainernswportstilldisruptseparatedisputeshippingsourcebanimposeweekagopayclaimpreventmovementportnearly20vesselpaydisputegohearingarbitrationcommissiontodaymeanwhiledisruptionbegintodaycargohandlingportsydneynewcastleportkemblaindustrialactionnswportpartweekactioncallnswtradelabourcouncilprotestchangestateworkercompensationlawsshippingsourcevariousportunionappeartakingturnworkshorttimestartshiftwalkcargohandlingportdisruptcontainermovementaffectstopaltogethercouldlongdisruptiongoeffectshippingmovement\n",
            "0 indonesiancommodityexchangemayexpandindonesiancommodityexchangelikelystarttradingleastonenewcommoditypossiblytwocalendarexchangechairmanpaiannainggolantellreuterstelephoneinterviewtradingpalmoilsawtimberpeppertobaccoconsidertradingeithercrudepalmoilcporefinepalmoilmayalsointroducequestionstillconsidertradeministerrachmatsalehdecisiongoaheadmakefledglingexchangecurrentlytradecoffeerubberphysicalsopenoutcrysystemfourdaysweekseveralfactormakeusmovecautiouslynainggolanwantmoveslowlysafelymakemistakeundermineconfidenceexchange.\"physicalrubbertradinglaunch1985coffeeaddjanuaryrubbercontracttradefobfivemonthforwardrobustacoffeegradefourfivetradepromptdeliveryfivemonthforwardexchangeofficialtradeministryexchangeboardconsiderintroductionfuturetradinglaterrubberoneofficialfeasibilitystudyneedfirstdecisionlikelyindonesiaelectionapril23tradertradeministersalehmondayindonesiaworldsecondlargeproducernaturalrubberexpandrubbermarketingefforthopedevelopmentexchangewouldhelpnainggolanexchangetryboostoverseasinterestbuildingcontactenduserteamalreadysouthkoreataiwanencouragedirectuseexchangedelegationwouldalsovisiteuropemexicolatinamericanstateencourageparticipationofficialinfantexchangemakegoodstartalthoughtradingcoffeedisappointtransactionsrubberstarttradingapril1985decembertotal595worthfobplus184rupiahrubberdeliverlocallylatestexchangereporttradingcoffeecalendaramount905381lotsvalue87rupiahtotalmembershipexchangeninebroker44trader\n",
            "0 srilankagetusdaapprovalwheatfooddepartmentofficialdepartmentagricultureapprovecontinentalgraincosale52500softwheat89cfpacificnorthwestcolomboshipmentapril20delivery\n",
            "0 westernminingopennewgoldmineaustraliawesternminingcorpholdingltdwmngwmcestablishnewjointventuregoldminenorthernterritorycost21mineknowgoodallproject60wmc40localwrgracecograunitlocate30kmeastadelaiderivermtbundeywmcstatementopenpitmineconventionalleachtreatmentplantexpectproduce50ouncegoldfirstproductionmid1988annualorecapacity750\n",
            "0 sumitomobankaimquickrecoverymergersumitomobankltdsumicertainlosestatusjapanprofitablebankresultmergerheiwasogobankfinancialanalystosakabasesumitomodespositsaround23trillionyenmergeheiwasogosmallstrugglebankestimate29unrecoverableloanoctoberdespitelinksumitomopresidentkohkomatsutellreutersconfidentbankquicklyregainpositionbackpositionfirstplacewithinthreeyearskomatsuinterviewmergerinitiallyreducesumitomoprofitabilityefficiencyvastlyexpandsumitomobranchnetworktokyometropolitanarearelativelyweakfinancialanalystdividewhetherquicklygamblepaysumitomomaypaymuchheiwasogoviewsmallerbanklargedebtothersarguemergercosteffectivecreatecomparablebranchnetworkscratchanalystagreebankaggressiveexpandoverseasenterlucrativesecuritybusinessgeardomesticcompetitionquestionwisdommovemakeboldmoveputeverythingplacelargelyhandskleinwortbensonltdfinancialanalystsimonsmithsonamongsumitomoproblemlimitplacemoveentersecuritybusinesstakingamericaninvestmentbankgoldmansachscosumitomolastaugustagreepay500limitedpartnershipbanktimeleastfederalreserveboardforbidexchangepersonnelincreasebusinesstiewidelylooklameduckfedstrictsumitomoexpectoneanalystkomatsumovepaytimeregulationchangenearfuturevariousthingswaittwothreeyears21stcenturykomatsukomatsualsowillingpatientpossibleroutesecuritybusinesshomearticle65securityexchangeactjapanversionglasssteagallactseparatecommercialinvestmentbankingwalltwocrumblekomatsuhopederegulationcreatenewopportunityneedfindnewbusinesschancekomatsucasesecurityrelatecasetrustbankrelatekindderegulationwant.\"changeoccursumitomofocusdomesticsecuritybusinessprofitablegovernmentbonddealingstrengtheningrelationsmeikosecuritycoltdholdfivekomatsusumitomocautiouslyoptimisticenteringsecuritybusinessswissuniversalbanksubsidiarybancadelgottardofinanceministryexpectgrantlicencesecuritysubsidiarycommercialbankssoonfollowingsimilardecisionsubsidiaryeuropeanuniversalbanksparentholdle50komatsureluctantpushhardsimilardecisiongottardosubsidiarywantmakewaveexpectallowtwothreeyearslikecitybankssumitomoalsopushingexpandlendingindividualsmallmediumbusinessreplacedisappearingdemandbigbusinessaddanalystsumitomodevotelottimedigestrecentinitiativeincludemergerailheiwasogosumitomoboldstrategykleinwortsmithsonquestionabsorbjugglingaroundnextdecadeseestrategyrightwrong.\"\n",
            "0 subrotoindonesiasupporttinpactextensionmineenergyministersubrotoconfirmindonesiansupportextensionsixthinternationaltinagreementitanewpactnecessaryaskreutersclarifystatementmondaypactallowlapsesubrotoindonesiareadybackextensionitasupportextensionsixthagreementseventhaccordbelieveunnecessary.\"sixthitaexpireendjuneunlesstwothirdmajoritymembervoteextension\n",
            "0 bundesbankallocatemarkstenderbundesbankacceptbidmarkstodaytender28daysecurityrepurchasepactfixrate80centralbankspokesmanbanksbidtotalmarksliquiditycreditfundsallocatetodaymustbuybacksecuritypledgemay14marksdrainmarkettodayearlierpactexpirebundesbankeffectivelywithdrawmarksmarkettodayallocationbundesbankspokesmananswerenquirywithdrawalfundsreflecttighteningcreditpolicyseecontextplentifulliquiditybankingsystembanksholdaverage59marksbundesbankfirstsixdaysmonthwellclearlikelyaprilminimumreserverequirement51marksbundesbankspokesmannotebiddingmarksoutgo14banksshowfeltplentyliquiditydealerbundesbankkeenpreventmuchliquidityaccruemarketwouldblunteffectivenesssecurityrepurchaseagreementmainopenmarketinstrumentsteeringmarketinterestratestwopactlikelymonthnexttwoweekbundesbankcurrentlysteeringcallmoneyalthoughshorttermfluctuationoutsiderangepossibledealer\n",
            "0 bondcorpstillconsideratlasminingbailbondcorpholdingltdbonaatlasconsolidateminingdevelopmentcorpatlcmnstillholdingtalksbailpackagetroubleminingfirmatlasstatementatlasphilippinesbigcopperproducerhitdepressworldcopperreportloss97638pesoendingdecembercompareloss531985ablecutlossesscalecopperoperationscentralislandcebustartsecondhalfatlasnegotiationcontinueacquisitionbondexistbankloanrestructuregoldloanmemorandumunderstandingsigntwosideoctoberlastbondwouldacquireatlastotalloan275repaymininggoldatlastwosidealsodiscussequityinfusionatlascreationdevelopmentfundexplorationdevelopmentgoldpropertycentralprovincemasbatewilsonbanksgeneralmanagerbondcorpinternationalltdhongkongtellreutersatlasstatementnegotiationreasonablyaccurate.\"banksbondcorpseriouslyconsiderseveralinvestmentphilippinesgivedetailsstatementatlasdevelopmentpreworldwartwoundergroundminemasbateaccelerateoretonnageincreaseextendoperationlifeleast1993\n",
            "3 chinaindustrialoutputrisefirstquarterchinaindustrialoutputrose14firstquarterperiodpeopledailyoverseaseditiongrowthratecomparetargetsevenwholeratherhighbasefirstquarterlowsideindustrialoutputgrowfirstquarterchinaindustrialproductionnormalproductqualityefficiencyneedimprovementgivedetails\n",
            "2 japanministryopenfarmtradewouldhitjapanagricultureministryangerdemandjapanopenfarmproductmarkettellofficialtalkslatermonthliberalisationwouldharmexistfarmexportjapanseniorministryofficialimportwoulddropdueactivesalesdrivesupplierofficialdeclinenamejapanlargecustomerfarmproductreasonabledemandjapanliberalisefarmimportmarketagricultureministermutsukikatoinsistjapanopenprotectricemarketalsoopenwheatmarketvolumeoriginregulateprotectlocalfarmeraustraliacanadacouldincreasewheatexportcompetitiveenduserwouldalsobuyorigingraintraderagriculturesecretaryrichardlyngduevisitjapantalksapril1627askjapanofferricemarketsupplierremovequotabeefcitrusimportcountryalreadycuttingmarketaustralialargebeefsupplierjapantryboostexportpriorexpiryfourbeefaccordnextmarch31importcornfalldueincreasesaleschinasouthamericajapanesesoybeanimportbrazilexpectrisesharplyalthoughremainlargesupplierfeedgrainsalesalsodropjapanopenbeefimportsincejapandependalmostentirelyfeedgrainimportmainlyjapaneseofficialindicationpositioncomelastdecembersecretaryagriculturedanielamstutzjapanpotentialprovideonelargeboostagriculturalexportbeefmarketalonerepresentonenewbusinessalsoaskgeneralagreementtarifftradeinvestigatelegalityjapaneseimportcontrolfarmproductincludefruitjuicepureepulptomatojuiceketchupsaucepeanutspreparebeefproductmiscellaneousbeanhelpcalmheattraderelationsjapantopbusinessgroupkeidanrenurgegovernmentremoveresidualimportrestrictionagriculturalproductagricultureministerkatoruleemotionalreactionseniorministryofficialfarmissuebecomescapegoattradepressureindustrialsectorjapanlargebuyerfarmproductissuediscusstableofficial\n",
            "0 amatilproposetwofivebonusissueamatilltdamaaproposemaketwofivebonusissuerevaluationreserveshareholderregistermay26shareholderaskapproveissueincreaseauthorisecapital175125generalmeetingmaystatementnewrankdividenddeclareoctober31amatilbindustryplcbtilhold41stakeexpectmaintainlatestannualdividendrate29centenlargecapital\n",
            "0 bowaterpretaxprofitsrise15stg277p207pdiv0p5pmaking0p25pturnover34stg29pretaxprofit4832tax14namebowaterindustryplcbwtrltradingprofit6345tradingprofitincludepackagingassociateproduct2314merchantingservices18tissuetimberproductinterestdebit15minorityinterestdebitdebitextraordinaryitem15creditdebit\n",
            "0 kmoneymarketdeficitforecast250stgbankenglandforecastshortagearound250stgmoneymarkettodayamongmainfactoraffectliquiditybillmatureofficialhandstaketreasurybilldrain505stgbillrepurchasemarketremovearound194additionrisenotecirculationbankerbalancetargetdrainaround110stgpartlyoffsetoutflowexchequertransactionsadd690stgsystemtoday\n",
            "0 southkoreamoveslowgrowthtradesurplussouthkoreatradesurplusgrowingfastgovernmentstarttakingstepsslowdeputyprimeministerkimmahnjetellpressconferencegovernmentplanincreaseinvestmentspeedopeninglocalmarketforeignimportgraduallyadjustcurrencyholdsurplusproperlevel.\"governmentwouldallowappreciatemuchshortperiodtimesouthkoreapressurewashingtonrevaluewantsouthkoreacuttradesurplusrose1985kimalsoeconomicplanningministerprospectbrightsouthkoreaneconomygovernmentwouldtryholdcurrentaccountsurplusaroundfivenextfiveyearsgovernmentprojectioneightgnpgrowthfivecurrentaccountsurplusgrowthexportseemreasonableearlysurplusgrowingfastexpecttradeministryofficialsouthkoreaexportrose3534firstthreemonthimportrosekimswingsouthkoreacurrentaccountsurplus65890dlrdeficit1985significantsurplusenablecountryreduceforeigndebtlastfirsttimesouthkoreaforeigndebtfell44461985stillamonglargeasiahugeamountforeigndebtonemajorconstraintdevelopment...lastmajorturningpointkoreaneconomykimkimgovernmentplannnedreduceratioforeigndebtcountrygnp20199150governmenthoweverwantacceleratereducingdebtmakingexcessivetradesurpluskimsuddenrisesurpluswouldcauseinflationleadtradefrictionseoulmajortradingpartnerparticularlyunitestateneedsurplusreducedebttakingmeasureholdsizesurplusproperlevelkim\n",
            "0 finncanadianstudymtbeproductionplantfinlandnationaloilnesteoyneoystatementagreecanadianfirmstudyfeasibilitybuildingplantedmontoncanadaproducereplacementleadpetrolprospectiveplantwouldcostestimate270canadianwouldproducemethyltertiarybutylethermtberawmaterialavailablelocallypartnerstudynesteoycelanesecanadainchoechstcelanesecorporationtrademountainpipelineltdvancouverbcedmontonsitesuitablerawmaterialavailabilityproximitypipelinetransportationimportantcapitaloperateadvantagegainlocatingexistcelanesecanadasitestatementpartnerwouldlookfeasibilityplantproduce500perannummtbeoctaneenhancerreplacetetraethylleadmtbewouldtargetunitestateleadlevelgasolinelowerhealthconcernstatementaddcanadianleadlimitcurrentlytimeshighlimitleadschedulevirtualeliminationcanada1993createcanadiandemandmtbefinlandnesteoywhoseturnoverlastfiveextensiveexperiencemtbemajorinvestmentmtbeplantsaudiarabiaedmontonalbertaplantwouldschedulegostreamlate1989statement\n",
            "0 crasellforrestgold76whimcreekwhimcreekconsolidatenlconsortiumleadingpay7655acquisitioncraltdcraaforrestgoldptyltdunitreportyesterdaycrawhimcreekdiscloseyesterdaywhimcreekhold44consortiumaustwhimresourcenlhold27croesusminingnl29statementreportforrestgoldtwominewesternaustraliaproducecombine37ouncegoldalsoundevelopedgoldproject\n",
            "0 germanindustrialemploymentseestagnatenumberworkeremploywestgermanindustrialsectorstagnatelastquarter50increaseoverallemploymentbenefitservicesbranchdiweconomicinstitutediwreportaddgeneraldownturneconomysincelastautumnnegativeeffectwillingnessfirmtakeworkerrefermarkdownturnnumberworkertakecapitalgoodsectornewordermanufacturingindustrygoodmostlyfallstagnaterecentmonthdatafebruaryfinallyshowreversaltrendrise\n",
            "0 bowaterindustryprofitexceedexpectationbowaterindustryplcbwtrlpretaxprofits48stgexceedmarketexpectationaround40pushsharplyhigh491p468plastnightdealerlatereaseback481pbowaterreport32stgprofit1985statementaccompanyresultunderlietrendshowimprovementintendexpanddevelopingexistbusinessseekingnewopportunityaddappointdavidlyoncurrentlymanagedirectorredlandplcrdldlnewchiefexecutiveanalystnotebowaterprofits18stg13previouslygivenboostpensionbenefitstgprofitaustraliafareastshowgreatestpercentagerisejumping5515profitkoperationsrose3024europe42\n",
            "0 citibanknorwayunitlosesixcrowncitibankccin>,norwegiansubsidiarybasebankmakelosssixcrownalthoughforeignbankerexpectshowprofitstwoleanyearscitibankoslotreasuryheadbjoernsejerstadtellreuterscitibankonesevenforeignbanksubsidiaryoperatenorwaylostmoneyrestructureinvestmentbankingawaycommercialbankingeconomicslumpnorwayfollowinglastplungeoilforeignbanksallowoperatesusbidiariesnorwaysince1985foreignbankinganalystosloaccessnorwaysecondhandsecurityequitymarketapprovelaterspringlowerprimaryreserverequirementwouldmakeprofitcitibanklost490crownnorway1985sejerstadprofitlikelyplanliberalisationbettereconomicperformancehelpsteadyoilaround18barrelearlierchasemanhattanbankcmbnsubsidiarydecidestopforeignexchangetradingheavylossesfocusinsteadfeebasemerchantbanking\n",
            "0 vieillemontagneconditionsunfavourablesharpfalldollarzincdepreciationcurrencycreateunfavourableeconomicconditionsvieillemontagnesavmnbbrstatementtwofactorledsqueezerefiningmargin1824fallsalesservicesincomedespiteunchangedlevelactivityvieillemontagneactivelypursuerestructureprogramreport198francloss187francprovisionsclosureelectrolysisplantcompare250francprofit1985\n",
            "0 vieillemontagnereportlossdividendlossexceptionalcharge198francprofit250exceptionalprovisionsclosureviviezelectrolysisplant187francexceptionalgain22salesservices1651franc2020proposedividendordinary110francfullnamevieillemontagnesavmnbbr>.\n",
            "0 ecmainlytinextensionkstandtakeeuropeancommunityecmemberinternationaltincouncilexceptbritainpreparebackextensioninternationaltinagreementecspokesmanmeetingecstaterepresentativeyesterdaybritainundertakecommunicatedecisionpartnertodayreadyyesterdaytakestandaddnineecstatebackextensionspainportugalmemberinternationaltincouncilraiseobjectioncommonecstancefavour\n",
            "1 japangivenlittlehopeavoidsanctiontopofficialjapanlittlechanceconvincedropthreatentradesanctiondespiteeffortjapaneseteamleftwashingtontodaymichaelarmacostsecretarystatepoliticalaffairsaskpressconferencewhetherjapanmoveboostdomesticeconomyopenmarketcouldpersuadeimposetariffjapaneseimportreply\"...probablyearlyfiguredemonstratesituationturnaroundpermitresultdescribe.\"armacosthopejapantakestepsliftdomesticeconomyreducedependenceexportremovebarrierimportsettleoutstandingtradeissueobviousproblemmomenttradeareawishproblemdivertattentionimportantareacooperationcontinueexistsecuritypoliticalissuequestionwhethercooperativeactiongovernmentreducetradeimbalancewhethercongresstakeactionreduceprotectionistlegislation\n",
            "0 thaizincexportfallmarchthaizincingotexportfell882march764february008marchmineralresourcedepartmentspokesmanpadaengindustrycoltdcountrysoleexporterattributedeclinelowerstocksaveragefirstquarter16late1985beginexportingdepartmentmajorbuyerincludechinajapanphilippinessouthkoreasingaporetaiwanthailandexport842zincingotfirstquarter14937ago\n",
            "0 ecsugartenderhardpredictlondontradeoutcometodayeuropeancommunityecwhitesugartenderextremelydifficultpredictlastweeksubstantialaward102350higheverrebate46864europeancurrencyunitecusper100kilotraderbelievetonnagewouldprobablysmalleraround60declinegiveviewlikelyrestitutionlastweekeuropeancommissionaccept785sugarinterventionoperatorprotestlowrebatemightdeterminefactortodayresultadd\n",
            "0 northyemencallsugarbuyingtendertradenorthyemencallbuyingtendersaturdaypurchase30whitesugararrivaljunetrader\n",
            "0 anheuserbuschjoinbidsanmiguelanheuserbuschincbudnjoinseveralforeignbiddersequesterphilippineslargefoodbeveragemakersanmiguelcorpsanmmn>,headgovernmentpanelcontroltellreutersramondiazsecretarypresidentialcommissiongoodgovernmentpcgganheuserbuschtellgovernmentinterestbuying14bsanmigueldiscloseofferdiazaustralianbreweralanbondbondcorpholdingltdoffer150pesoperbdiaznewyorkinvestmentbankallencoincearlierinterestbuying38sequestertellreuterslastmonthelderixlltdelxa>,melbournebasebrewingalsobidbhongkongeconomicjournallastmonthquotespokesmanaustralianstockbrokerjacksonltdsayingbarwonfarmlandltd>,australianfirm30ariadneaustralialtd>,planningfilipinobranchorderbuyentireblock38anheuserbuschlastmake150dlrbidbuysanmiguelbreweryltd>,hongkonglist6965neptuniacorpltd>,sanmiguelcorpsubsidiarytalksbreaklastjunetwosidecouldagreetermssale\n",
            "0 economicspotlightaustralianmarketboomaustralianmarketboomforeignfundmanagerredirectcapitalawayunitestatetraditionalmarketanalysthighshortterminterestratesbullishstockmarketincreasinglystablecurrencyreflectmassiveinflowfreshfundslasttwomonthlargelyjapaneseinvestoranalystpollreutersfundmanagerwantqualitymarketparkcashsettleaustraliabritaincanadadiversifyvolatiledollarinstrumentonepercentagepointfallkeybondratespastmonthrecordmonthhighcurrency71illustrateinflowofficialfigurelatestinflowinvestmentcapitalavailablebrokerreceivealmostdailyinquiryjapanunitestatepeoplegettrilliondollarsloshknowendingattractionhighinterestratesreasonablecurrencystabilitynationalaustraliabankltdeconomistbrianhamleyflightquality',\"hamleyaustraliamaybesteconomicpositionmanycountrywantputmoney.\"strongaustraliandollaralsoattractinvestortakingadvantageappreciatecurrencyvolatilityunitanalystlookingfavourmarketperhapspeoplewouldconcernvaluedollarlloydbanknzaltdchiefeconomistbuttroseputmoneyaustraliaentrycheapcurrencylookstable?\"turningcapitalpermanentproductiveinvestmentdependgovernmenteconomicpolicydisappearpeopleloseconfidencedirectioneconomybuttroseaddoffshoreinvestorwouldcarefullywatchgovernmentpromisetougheconomicstatementmay14happyinvestbondvehicleyieldinginterestunobtainableelsewherefundmanagercouldeasilyreverseflowparticularlyjapanesebadlyhurtpastrapidfallsaustraliandollarheftyjumpbondratesanalystremainedgymoneysomethingdeliverstatementconsidertoughenoughonemightseesubstantialoutflowbuttroseoffshoreinvestoreagerseeaustraliataketougheconomicdecisioncurb100dlrforeigndebtstubborncurrentaccountdeficitanalystgivingusbenefitdoubtthinkwouldlikeleavemoneybuttrosereservebankpolicyalsoreflectincreaseinterestinvestmentaustralianeedshieldjapaneseinvestorrapidcurrencyfluctuationreservegovernorbobjohnstonlastweekacknowledgeelementtargetrateyencurrencypolicyauthoritiescouldtakeeyesyencrucialrolejapaneseinvestoranalystbelievereservebankworksuccessfullyrecentmonthkeepaustraliandollarwithinrange100103yenapartrecoveryweakdollaraustraliandollaralsorisealmostthreetradeweightbasislastthreeweekoffshorebuyingalsoplayroleboomaustralianmarketfollowwallstreetmarketalsosettingtrendresponseweightdomesticoffshorefundspourequityparticularlygoldsectorkeyordinaryindexroserecord758todaynearly20levelendgoldindexnearlydoublerecord081periodpropertysectoralsoseekjapaneseinvestheavilyunitestaterecentyearsturningattentionundervaluerealestateparticularlytourismfieldanalystpointrecentsalesydneyfivestarregenthoteljapaneseinterest145indicativetypepropertyseekthinkfindgoodvaluerealestatelongtermfixcapitalinvestmentkindinvestmentaustralianeedbuttroseadd\n",
            "0 economicspotlightkuwaitieconomykuwaitoilreliantdebtrideeconomystartpullnosediveoildeterminepacerecoverybankereconomistcrucialability13memberopecholdoilaroundnewbenchmark18barrelnorthernhemispheresummerdemandusuallyslackenbankerestimateeconomymeasuretermsgrossdomesticproductgdpshrink19realtermslastcontractingtakingaccountinflationconsumer1985slowingfactordepresseconomicactivityincludeoldiraniraqwarkuwaitdoorstepthreatenemiratevitaloilexportlifelinegulfsapbusinessconfidencesentimentreceivemuchneedboostseptemberseriespiecemealstepscombatdebtcrisiscause1982crashlocalstockmarketcomprehensivenewdebtsettlementprogramintroducecrashresultspeculativespreeforwardtradingleft95postdatechequedefaultchequealsousecollateralconsumerspendingthusgenerateinformalcreditsystemmuchdebtwaterbigsumstilloweindividualdinar15outstandingbankcreditendonequarteronethirdestimatebankerrankbaddoubtfuldebtgovernmentrepeatedlyallowbanksgonewdebtsettlementschemeentailrescheduleproblemcredit15yearsdependwhetherdebtorregularcashflowbanksshareholderdepositorrightguaranteegovernmentedictvitalsignificancecountrypeoplefinancialsectorbigoilkuwaitbetterplaceopeccountryrideoilglutbankereconomistkuwaitopecquota948barrelsperdaybpdcompareproductioncapacitybpdmentionlastoilministersheikhalialkhalifaalsabahstrategicdiversificationdownstreamoperationseuropeseveralyearsagoheftyrefininginvestmenthomegiveguaranteemarketabroadenablesellonehalfoutputhighgraderefineoilproductoilindustrysourcekuwaitablegetaverage00barrelsellingoilformprocessproductgasoilkerosenenaphtharathercrudebankerreboundoilmajorreasoncautiousoptimismreasonlowdomesticinflationbottomfallimportrecentyearssigngovernmentspendingproductivesectorremainsteadyexternalaccountgoodshapeestimatedinarcurrentaccountsurplus161985stillachievementrecessionhitgulfkuwaitpetrodollarreservesmidputofficially80earninvestmentincomeequivalent65firsttimesinceendoilboomreservesmayenoughpreventrealbudgetdeficit87fiscalendingjune30bankerbudgetportraybankermildlycontractionaryrevenue87cut38spendingdoublingnominaldeficit33dinarleftincomestatereservesusuallyexcludeofficialbudgetaccountingforecastbankerdinar87resultshortfallbankerearlyventureforecasteconomicgrowthnextdependoilonesummerimportant.\"cabinetaffairsministerrashidalrashidlastsundaycabinetratifyrecommendationrationalisestatespendingfavourproductivesectorreactivateeconomygivedetailsbankerexpectspell88budgetpossiblyjune\n",
            "0 malaysiamaymeetoilpalmtargetmalaysiaunlikelymeettargetoutputfiveoilpalmcalendaroilpalmgrowertellreutersoutputexpectreacharoundunchangeddroughtlowusefertiliseroverstresspalmgroweraskreactionoilworldnewsletterreportmalaysiaoilpalmoutputlikelydropsharplypalmoilsellaround700ringgit115ringgitlesoybeanoilmalaysiamustsellpalmoilpreventstockbuildupcoulddamageindustryleadinggrowertellreuterscountrypalmoilstockstotal500800lastmarchgrowergrowerexpectpalmoileaselaterduepressuresouthamericansoybeanoutputcurrentsouthamericanoilseedharvestmainlysoybeanlikelyaround25previous21cropadditionnewsoybeanplantingalsoexpectentermarketaroundnovembermalaysianpalmoiloutputpeaknewplantingpalmalsolikelyslow50hectareexpectplantnewtree100althougheffectsreductionfeltanotherthreeyears\n",
            "0 jardinemathesonsettwofivebonusissuereplacingbjardinemathesonsettwofivebonusissuereplacingb\n",
            "0 monierbritainredlandmaybiddiversifybuildingmaterialgroupmonierltdmnratalkstakingplacemayleadbritainredlandplcrdldlmakingoffermonieralreadyholdchairmanbilllockeredlandalreadyhold49monier15628issuebriefnoticeaustralianstockexchangelockeshareholderwouldadvisesoondiscussionprogressrecommendkeepmoniertradinghightodaypreviouspeak80yesterdayclosewelllow18monierlargeconcreterooftilemanufactureraustralianewzealandworldlargemarketerflyashaccordannualreport1985endjune30recentlyreportfirsthalf87fell15021709earlierdueaustralianhousingdownturnalthoughforeignearningsrose\n",
            "0 isuzuplaninterimdividendisuzumotorltdisumpaydividendfirsthalfendingapril30expectmarkyenparentcurrentlossfirsthalfdueslowexportcauseyenappreciationspokesmanpaydividendsinceendoctober311983payfiveyen44yencurrentprofitfirsthalf1985\n",
            "0 japaneseofficialtakedatamicrochiptalksministryinternationaltradeindustrymitiviceministermakotokurodaleafwashingtontodaydatahoperefutechargejapanviolatepactmicrochiptradethreemanjapanesetradeteamalreadywashingtonlayinggroundworktalkskurodadeputytraderepresentativemichaelsmithaimpersuadeimposetariffcertainjapaneseproductkurodatakingnewproposalnothingbriefcaseexceptexplanationcurrentsituationkurodatelldailynewspaperasahishimbunkurodadecisionbaseincorrectdataexaggeratesensemitipowercontrolmarketforceexcessiveexpectationstabilisesupplydemandrelationsdisruptexcessinventorysince1985taketimekurodaalsolaypartblamelowchipsalesjapanlackeffortamericanfirmfailtalkstomorrowfridayforestallsanctionseektalkstraderepresentativeclaytonyeutterofficialweektalksunlikelydelayimpositiontariff\n",
            "4 bellgroupconfirmstandardcharterstakebellgroupltdbllahold14issuecapitalstandardcharterplcstchlacquiringonesentencestatementbellheadquartersconfirmbrokerwarburgsecuritytellreuterslondonyesterdaybellpreviouslyholdstandardbellchairmanrobertholmescourtalsodirectorstandardavailablecommentintentionboostholdingofficialcontactreutersdeclinecomment\n",
            "0 nipponsteeldenychinaseekingjapaneseplantnipponsteelcorpnstcdenylocalnewspaperreportchinaseekingbuysteelplantjapanesefirmplansuspendoutputrecentlyannouncerationalisationprogrammainichishimbunquotenipponsteelsayingchinastateplanningcommissionchinesefirmaskjapanesemakersellsteelworksrollingmillsexpandsteelmakingcheaplynamesourcenipponsteelspokesmantellreuterschinamakeofficialrequestconsidersalesmomentmainichiquotenipponsteelofficialsayingreasonablewouldexportusemillschinapaperchinacrudesteeloutputtotal52calendarplanincrease801996japansteelindustryrationalisationplanaimcuttingproductioncapacitysharplynextyears\n",
            "0 jardinemathesonreplacebbonusissuejardinemathesonholdingltdjardhkwithdrawpreviouslyannouncefouronebonusissuebreplacetwofivebonusissueordinarystatementfirmexpectpaytotaldividendle40centexpandcapitaljardinemathesondecidewithdrawissuejointannouncementearliertodayronaldlichairmanstockexchangehongkongsecuritycommissionerrayastinlistingnewbwouldbarofficialannouncementincludeproposaljardinemathesonjardinestatementquotechairmansimonkeswicksayingcontinuebelieveissuingbwouldbenefitshareholderregretgivenopportunityvotematterstage.\"keswickbissuebenefitjardinemathesonshareholdergivingfirmflexibilityissueordinaryexpansionfuturewithoutdiluteexistshareholdervotingrighthoweveraddcertainlywelcomesecretarymonetaryaffairsdavidnendickreferralimportantmatterstandingcommitteelawreformhopefulprocessleaddevelopmentgeneralprincipleembraceconstituenthongkongmarket.\"\n",
            "1 japangivenlittlehopeavoidsanctiontopofficialjapanlittlechancepersuadedropthreatentradesanctiondespiteeffortjapaneseteamleftwashingtontodaymichaelarmacostsecretarystatepoliticalaffairsaskpressconferencewhetherjapanmoveboostdomesticeconomyopenmarketcouldpersuadeimposetariffjapaneseimportreply\"...probablyearlyfiguredemonstratesituationturnaroundpermitresultdescribe.\"armacosthopejapantakestepsliftdomesticeconomyreducedependenceexportremovebarrierimportsettleoutstandingtradeissueobviousproblemmomenttradeareawishproblemdivertattentionimportantareacooperationcontinueexistsecuritypoliticalissuequestionwhethercooperativeactiongovernmentreducetradeimbalancewhethercongresstakeactionreduceprotectionistlegislation\n",
            "0 bankjapanintervenesoontokyoopeningbankjapanbuysmallamountdollarshortlyopeningaround14530yendealercentralbankintervenemediumsizetradinghouseselldollarputtingpressurecurrencydollaralsosupportmajorelectricalconsumergoodspeculativedollarbuyeraround14525yenadddollaropen14533yen1456070newyork14525closeyesterday\n",
            "0 indonesianinflationrate87inflationindonesiafiscal87march31compare66previousinformationministerharmokocabinetsessiondiscuseconomicsituation\n",
            "0 kmoneymarketgiven53stgassistancebankenglandprovidemoneymarket53stgassistancemorningsessioncomparebankestimateshortagesystemaround300stgearlierrevise250centralbankmakeoutrightpurchasebankbillcomprise46stgbandthreesevenstgbandfour16\n",
            "0 sanmigueldealhitlawsuitbidsanmiguelcorpsmcsanmmnbuyback38sequesterunitecoconutplanterbankucpbhittwonewlawsuitsourcephilippinefoodbrewerymanilacourtyesterdayissueinjunctionbarringucpbsellingrepresent31smcoutstandingcapitalstock121hearingapril21petitionfileeduardocojuangcoformerchairmansmcucpbcojuangcococonutindustryinvestmentfundciiffarmerrightfulownercojuangcoholdtrustucpbrepresentbluechipinvestmentpetitionucpbplansellsmcseriousbreachfiduciaryduty.\"smcsourceproposesalecouldalsoholdsecondderivativesuitfilesecurityexchangecommissionseceduardodelosangelesgovernmentnomineeboarddelosangelesrepresentsmcminoritystockholderasksecblocktransactionapprovelastweekboardaprilboardsanctionrepurchasesequester79peso126pesoperdelosangelestellsecretainearnings33pesowouldwipepurchasewouldpreventdeclarationdividenddelosangelespurchasewouldalsoviolatesmcagreementcreditormaintaindebtequityratioquotesmcchieffinancialdirectorramondelrosariotellingboardtransactionwouldboostratiopetitionsecdelosangelesamendearliersuittwoweekagochargesmcchairmanandressorianoiiininedirectorviolatedutydelosangelesearliercomplaintrelatesmcassumelastdecember26dlrloancontractsmchongkongsubsidiaryneptuniacorppaymentloanassumptionratifylastweekboardmeetingarbitrationpanelsetpresidentcorazonaquinoresolveownershipissueexpectsubmitreportapril15amendsuitfileeduardodelosangelespartcontinueattemptcertainelementscompletedisregardfactquestionablemotivedelayearlydispositionsequestersanmiguelcorpstatementcomingsanmiguelcorpucpbreachagreementmethodpaymentsuitdirectcontraventiongovernmentexpressdesirereachamicablesettlementcontroversyapril15statementaddsanmiguelspokesmancommentcojuangcocourtpetitionaddstatementcomingusmightinterpretadversarial.\"meanwhileramondiazheadgovernmentpanelsequesterlastsorianoeligiblebuymajorportionunitestatecitizensequestersplit24filipino14bavailableforeignbuyersmcsourcesorianopersonallyamongprospectivebuyerwouldpurchasesorianogroupsmcneptuniaunnamedinstitutionalinvestorsorianonameonebuyerbidmarch33controlucpbsaleabortdiazpresidentialcommissiongoodgovernmentsequestersuspicioncojuangcocloseassociateformerpresidentferdinandmarcoscojuangcolifeselfimposeexile..grow3815stockdividendannouncelastjuneobjectionsorianobuyingbdiaztellreuterseverythinghold.\"smcspokesmanknowcontroversywouldresolveannualstockholdermeetingschedulemay14sanmiguelcorpreportsalesrevenuepesopesosales1985unauditedprofitneighbourhood700pesoincrease501985\n",
            "0 rainboostcentralqueenslandsugarcanecropgoodrainonefourinchpastdaysboostmoisturestresssugarcanecropmackayburdekinregionqueenslandcentralcoastaustraliansugarproducerassociationspokesmanpreviouslyreportregionundergoseveredryspellpartlyrelievescatterrainfallsincedecemberfollowingvirtualfailuresummerwetseasonmillsareareportingcropbeginninglookhealthygreenputtinggrowthsincerainbeginspokesmanbrisbanealthoughmackayburdekincropoutlookmuchbettercanelossesspokesmanearlyrainneedrestoresubsoilmoistureelsewherefarnorthqueenslandbundabergregionsouthernqueenslandcaneexcellentconditionmillsforecastingrecordcropinitialcropestimateprobablycompiletowardsendmaycanecrushnormallyrunjunedecember\n",
            "0 frenchtraderforecastecsugartendereuropeancommunityecexpectawardexportlicencetodayweeklytender60possibly100whitesugarlastweekaward102350traderexpectmaximumrebate46404650ecusper100kilocomparelastweek46864earliertraderlondonoutcometenderhardpredictlastweeksubstantialawardplace785sugarinterventionbelievetonnagewouldaround60declinegiverebatefigure\n",
            "0 italylafondiariareporthigherprofitsitalianinsurerlafondiariaspalfdimiexpectreportconsolidategroupprofitsignificantlyhigher60lirareport1985statementparentprofitlastrise72lirareport1985consolidategrouppremiumtotal700liracompare490previousiniziativametainzimi>,financialservicesunitmontedisonspamonimi>,controllargesinglestakeflorencebasefondiaria49\n",
            "0 nickelunlikelyrisemuchshearsonnickelunlikelyrisesignificantlycurrentlevelunlessstepstakereduceproductionshearsonlehmanbrotherquarterlynickelmarketreportmarketrecoverslightlyaround72lbyesterdayfourlow55earlyjanuarydueabsencesovietnickelcathodedeliveryshearsonseesovietshipmentsoonreturnlastbuoyantleveleasecurrenttightnessoutputreductionproducertakeeffectlaterlikelyoffsetincreaseelsewhereshearsonnickelmarketvirtuallybalancetotalnonsocialistworlddemand556compareestimate544production505504importsocialistcountry4750).forecastedgehigherfirstquarteraverage67lb77lastquarteraveragearound72lbcompare76usinglondonmetalexchangecashmetaldollartermsassumeaveragesterlingexchangerate55\n",
            "0 higherprofitdutchchemicalfirmdsmfullystatedutchchemicalfirmnvdsmdsmnprofitrose412guilder4021985turnoverfell17guilder241985dividendpaydutchstatecapacityfirmsoleshareholderwouldraise98guilder70guilder1985initialcommentresultdsmdropturnovercausemainlylossesfertilizerdivision\n",
            "0 poehlwarndollarfallbundesbankpresidentkarlottopoehlweakdollarwouldriskyappreciationmarkwoulddamageprospectsustainwestgermaneconomicgrowthspeechinstitutecontemporygermanaffairspoehlwouldextremelyriskypolicyaimsubstantialdeclinevaluedollarcorrecttradedeficit.\"unitestatecouldfaceviciouscircledepreciationinflationdepreciationtakeroutepoehlnotewestgermanyalreadytakestepsmeetdemandgreaterstimulationdomesticeconomyacceleratetaxcutcuttinginterestratestoleratetargetmoneysupplygrowthwouldhappybringforwardfivemarkstaxcutplanjanuary1988beginninggovernmentfacepoliticalconstraintgettingmeasureupperhousewestgermanparliamentalsolimitimpactwestgermanycouldacceptexportrisingmarkpoehlwestgermanyrelyexportonethirdgrossnationalproductsubstantialerosionexportmarketcouldoffsetincreasedemandhomeappreciationmarkcouldevenobstaclegrowthpoehlbundesbanktoleraterapidmoneysupplygrowthlastcountryenjoylowinflationexternalfactorincludelowoilfavourabletermstradegivenextraleewaypoehlwestgermanyfacedifficultdilemmamonetarypolicyunderlierateinflationtworeportnegativeinflationrateslastwestgermanyaffectexchangeratedevelopmenttimefocuspolicyexternalsideliveexpansionarymoneysupplymustcarefulconcernjapantradesurplusaffecteuropeancountrywellunitestatepoehlwelcomecalllouvreaccordmonetaryofficialmajorindustrializecountrysayingimportancefebruary22agreementstabilizeexchangeratesunderestimatepartneragreedollarrightlevelchangewoulddamagegrowthremarkablechangeattitudeespeciallypartamericancolleaguestilldangercorrectiondollarvaluecouldovershoot\n",
            "0 cincinnatibellcsnstartauxtonauxtbidcincinnatibellincstartpreviouslyannounce1575dlrpertenderofferauxtoncomputerenterpriseincnewspaperadvertisementtenderwithdrawalrightexpiremayfiveunlessextendofferapproveauxtonboardfollowmergerconditionreceiptmajorityauxtonvotingstockfullydilutebasis\n",
            "0 californiabiotechcbiosee1stqtrlosscaliforniabiotechnologyincexpectreportloss300600firstquarterdueincreaseinvestmentresearchmanufacturingscaleupproductionresearchspendingrunning5060agotrycommercializeproductquicklypossibleincreaseexpenditureexpectcontinueseveralquartersoperateresultfluctuatequarterquarterdependtimingsignificantpaymentcommercialpartnerfirstthreemonthlost150changefiscalcalendarendingnovember30firstquarterlastendfebruary28californiabiotechearn114\n",
            "0 pallcorppllsetquarterlydividendqtlydivpriorpaymayonerecordapril20\n",
            "0 unileverseekbuyerstaufferchemicalunileverplcnvunissueprospectusinvestmentbankergoldmansachscoseekingbuyerstaufferchemicalcoacquirerecenttakeoverchesebroughpondinc>,unileverspokesmannoteunileverindicateplandisposestaufferplussmallerassetschesebroughsincebidmakedecemberstauffersaleprospectussentrecentweeknumberexpressinterestunileverspokesmandeclinemuchgroupexpectreceivestaufferchesebroughfootweartennisracketbusinessalsolikelydisposeaddimmediatelyavailablefinancialinformationstaufferwhollylimitedaddninemonthsalesseptemberunileveraquiredchesebroughorderbenefitwellknowtoiletrybrandfoodproduct\n",
            "0 conraccorpentertalksacquisitionseveralpartyconraccorpentertalksacquisitionseveralparty\n",
            "0 conraccaxmergertalksseveralconraccorpsaitstartnegotiationseveralinterestpartypossibleacquisitionassurancetransactionresulttalksgivedetailsmarkivindustryincivstarttenderconrac25march24conracstartingbidconracproducermarketercomputerrelateinformationdisplaycommunicationsequipmentalsoproducespecialpurposearchitecturalindustrialproductcodephonecorpproducertelephoneanswermachinereportprofits16sales153nearlyoutstanding\n",
            "0 japanldpurgeimportfarmitemrulingliberaldemocraticpartyldpproposeexpandimportfarmproductnamecomplaintjapangeneralagreementtarifftradelastldpofficialproductincludefruitjuicepureepulptomatoproductpeanutspreparebeefproductbeanproposalusebasisdetailldpeconomicpackagecuttradesurpluspartyexpectformalisepackageapril19ldpgeneralcouncilchairmanshintaroabevisitwashington\n",
            "0 computerresearchinccore2ndqtrfeb2814nine217572153454rev5302735589241sthalf19299838174739rev865249495021\n",
            "0 australianforeignshipbanendtugcrewnewsouthwalesnswvictoriawesternaustraliayesterdayliftbanforeignflagshipcarrycontainernswportstilldisruptseparatedisputeshippingsourcebanimposeweekagopayclaimpreventmovementportnearly20vesselpaydisputegohearingarbitrationcommissiontodaymeanwhiledisruptionbegintodaycargohandlingportsydneynewcastleportkemblaindustrialactionnswportpartweekactioncallnswtradelabourcouncilprotestchangestateworkercompensationlaws\n",
            "0 rubbermaidinc1stqtr2822rubbermaidinc1stqtr2822\n",
            "0 independentchairmandutchcargodisputetwosiderotterdamportgeneralcargodisputeagreeappointindependentchairmanhanlammerspresidefuturemeetingemployerspokesmangerardzeebregtslammersqueencommissionerprovinceflevolandactmediatordrawagendaproceduremeetingemployerunionworkpracticeagreementproposeredundancytwomonthstrikesectorbeginjanuary19protestemployerproposal350redundancystrongworkforcestrikecallmainportunionfnvmarch13followingamsterdamcourtinteriminjunctionredundancyproceduralgroundscourtduemakefinalrulingmayzeebregtsexpectjudgmentgoemployerthereforelikelyrestartcomplicatelegalredundancyprocedurenearfuturemeanwhiledisputenewworkpracticeagreementportgrainsectorcontinue30maintenanceworkerstrikealthoughloadingaffectspokesmangraanelevatormijlargeemployersectoremployerwriteunionaskingreconsiderpositionmeetingunionmembercalltomorrow\n",
            "0 electrorentcorpelrc3rdqtrfeb282032358476rev2726avgshrs852764ninemths6805957129rev8278avgshrs316754\n",
            "0 rubbermaidincrbd1stqtr28222016sales238188\n",
            "0 wtcinternationalincwaf4thqtrfeb28profit13loss33profit149loss833rev5147profit24loss18profit050loss551rev200180\n",
            "0 kmoneymarketgiven166stghelpbankenglandprovidemarkethelptotal166stgafternoonbandonebuy31stgtreasurybillthreestgbankbillbandtwobuy69stgbankbill1316additionbuy63stgbandthreebankbillbringtotalassistancebankfartoday219stgliquidityshortageestimatearound300stg\n",
            "0 meadcorp1stqtroper0967meadcorp1stqtroper0967\n",
            "0 rubbermaidrbdseecontinueimprovementrubbermaidincincomingorderratescontinuestrongexpectcontinuerecordingfavorablecomparisonremainquartertodayreportfirstquarterearnings20sales238earnings16sales188\n",
            "0 cayugasavingsbankcayb1stqtr5541494204avgshrs896655494155\n",
            "0 johnstownsavingsbankfsbjsbk1stqtr33given642484362883notegopublicoctoberincludepretaxloanlossprovisions9056250gainsalesecurity11343288946\n",
            "0 homesavingsloanassociationinchsld2ndqtrmarch3157given7908746280201sthalf15given588985073163noterecentlygopublic\n",
            "0 geodynamicscorpgdyn3rdqtrfeb272120596594rev693164ninemths6158784653rev2623\n",
            "0 swedishunemploymentsteadymarchswedishunemploymentsteadyworkforcemarchcomparepreviousmonthcentralbureaustatisticsmarchfigurestand\n",
            "0 compaqcpqexpecthigherfirstquartercompaqcomputercorpexpectsalesearningsfirstquarterhigheranalystexpectationduestrongdemandproductrodcanionpresidentchiefexecutiveofficercompaqexpectsales200periodendingmarch31analystestimate165185addearningsperwouldexceedanalystestimatehigh42compaqreportearnings30sales144firstquarterdemanddeskpro386portableiiinewcompaqdeskpro286contributesalesincreaseinitialdemandrecentlyintroducecompaqportableiiinewmodelcompaqdeskpro286exceedcompaqpersonalcomputercanionsawcontinuedemandpersonalcomputeracrossquartermarchparticularlystrongmonth\n",
            "0 internationaliusellinsuranceunitinternationalcoreachpreliminaryagreementsellhawaiianinsurancecoshawaiianelectricindustryinc>.termstransactiondisclosetransactionsubjectexecutiondefinitiveagreementcertaingovernmentalapprovalapprovalboardsdirectorinvolveinternationalhawaiianelectricplanpurchasepartstrategyincreaseinvestmentselectserviceindustryhawaiiincludefinancialservices\n",
            "0 cxrtelcomcorpcxrl3rdqtrmarch3121516rev800100ninemthsone620231rev100100\n",
            "0 proxmireoutlineinsidertradinglegislationsenatebankingcommitteechairmanwilliamproxmirewiplanintroducelegislationshortlyrequiregreaterpublicdisclosurecorporatetakeoverfairtreatmentshareholderspeakingnationalassociationmanufacturerproxmirerecentinsidertradingstockscandalincreasechancecongressactcurbabuseproposelegislationwouldprovidedisclosurewouldfairshareholderwouldinsuretakeoverproperlyfinanceamongprovisionsbillwouldreducethresholdnotifysecurityexchangecommissioninvestorgroupacquirepercentagestockthreecurrentfivethresholdwithindaysproxmireadditionwouldprenotificatonrequirementinvestorintendaquirethreewouldfilesecproxmireprenotificationrequirementmeanpreventarbitragerjumpgeneralpublicknowingcomingtakeoverattemptproxmirewouldcallextendperiodtenderoffermustkeepopenwilliamsact60businessdayscurrent20businessdaysbillwouldprovideprivatesuitacquiringviolatetimeperiodtenderoffercorrectabusefinancingtakeoverproxmirelegislationwouldaiminsurecurrentmarginrequirmentsproperlyenforcefederalreserveboard50marginrequirementpurchasingstockproxmiregenerallyenforcehostiletakeoverrathergroupindividualleadingtakeoverdeclareraisecapitaltakeoverwithoutactuallyputtingmoneyproxmirebillwouldallowprivatesuitdamagesfailuremeetfederalreserve50marginrequirementbillalsowouldrequirediscloseseveralinvestorformalliancehostiletakeoverpickensicahngettogetherwantpeopleknowproxmireproxmirefavorapproachusebritaintowardstwotieredtenderofferinsureshareholderrecieveequaltreatmentexpectamendmentbillalsowouldcoverdefensivemechanismgreenmailpoisonpillproxmireintendintroducebilllatermonthpredictsenatecommitteewouldactspringhopefulcongresscouldpassbill\n",
            "0 helentroycorphele4thqtrfeb281713598392sales474avgshrs432045operprofit05loss47operprofit498loss427sales5240avgshrs320060notelatestexclude782dlrtaxcredit\n",
            "0 bankertrustbtputbrazilnonaccrualbankertrustnewyorkcorpplaceapproximately540mediumlongtermloanbrazilnonaccrualstatusfirstquarterincomereducesevenresultbrazilsuspendinterestpayment68mediumlongtermdebtfebruary22bankingregulationrequirebanksstopaccrueinterestloanpayment90daysoverduebankertrustacthighpotentialcontinuesuspensionwouldresultreaching90daylimitsecondquarter.\"assumecashpaymentcurrentinterestratesreceiverestbankertrustestimatefullincomewouldreduce30bankertrustassumedebtnegotiationbrazilcommercialbanklenderleadresumptioninterestpaymentnegotiationresumenewyorkfridaycentralbankgovernorfranciscogrosexpectaskbanks90dayrollovertermdebtmatureapril15\n",
            "0 firstmercantilecurrencyfundinc1stqtrprofit6322775868276446rev255742706130\n",
            "0 ukinterventionbdecsell118350whitesugarrebate46496ecusukinterventionbdecsell118350whitesugarrebate46496ecus\n",
            "0 stoltenbergseemovestrengthenparisaccordwestgermanfinanceministergerhardstoltenbergtodaymeetingmajorindustrialcountrywouldlookwaysstrengtheningparisaccordstabilizeforeignexchangeratesstoltenbergtelljournalistsawfundamentalweaknessfebruary22agreementgroupfivecountrycanadakeepexchangeratesnearcurrentleveldeclinemeasurewoulddiscussaheadcommuniquegroupsevenministerlatertodaystoltenbergbundesbankpresidentkarlottopoehlimportanceparisagreementalsoknowlouvreaccordunderestimatestoltenberggreateragreementamongmajorcountrysixmonthagotimeannualmeetinginternationalmonetaryfundworldbankmarksharpdiscordunitestatemajortradingpartnerfundamentalweaknessparisaccordlookingwaysstrengtheningwantdiscusstoltenberglouvreagreementworkingdespiteslightfirmyendollarpoehlnotedollarmarkparityunchangedsincefebruary22withoutbundesbanksellmarkssupportdollarlouvreagreementhonormarketpoehlwestgermanylivesidebargainparispreparewaytaxcutacceleratewaystimulategrowthpoehlhoweverjapanyetfulfilpledgeeconomicstimulationseeunitestateablepromiseparisreducingbudgetdeficitgetcongressaddstoltenbergreiteratewestgermanconcernfalldollarnotemark85dollarnearly20tradeweightbasiscannotexpectgounnoticedeconomygermanproblemeuropeanproblem\n",
            "0 kinterventionboarddetailsecsugarsalestotal118350currentserieswhitesugarreceiveexportrebatemaximum46496europeancurrencyunitecusper100kilotodayeuropeancommunityectenderkinterventionboardtraderkreceive37800france34500westgermany20belgium18500spain800denmark750addearliertodaylondontraderdeclinegiveprojectviewlevelsubsidyalthoughtotaltonnageawardwouldaround60paristraderforesee60100authoriseexport46404650ecusubsidycumulativesalesauthorisationcurrentseason87stand19497043week).lastweeksaw102350whiteauthoriseexportlicenceendsephigesteverrebate46864europeancurrencyunitecusper100kilo\n",
            "0 meadmeaexpectimproveearningsmeadcorpoutlookmajorpapermarketlookstrongsecondquarteraugurwellearningsgenerallystrongoutlookbodewellsignificantlyimproveearningsburnellrobertschairmanchiefexecutiveofficerearlierreportfirstquarterearnings3409versus2065lastfirstquarterreportearningscontinueoperations10950meadfirstquarterbenefitstrongmarketconditionsimproveoperationscombinationcapitalimprovementprogramemployeeinvolvementpaythroughoutpaperoperationsrobertsaddmeadpulppaperboardbusinessoperatewellimprovestrongdemandplaceproductsellpositionmiddlemeadsalesunbleachedcoatpaperboardparticularlystrong13versusfirstquarter\n",
            "0 amertekincatekf1stqtrprofit20lossthreeprofit849299loss82512rev929138849224\n",
            "0 alexbrownincabsb1stqtrmarch27primary7868dilute7568qtrlydivsixfive929569rev7861notepaydateqtrlydivapril28shareholderrecordapril20\n",
            "0 towncountryjewelrymanufacturingtcjc4thhqtrfeb284622139034854182sales3020avgshrs2808545596463415935117156171sales10771avgshrs281387616183notetowncountryjewelrymanufacturingcorp\n",
            "0 paxarcorppaksmakeacquisitionpaxarcorpacquirethermoprintgmbhlohnwestgermanydistributorpaxarproductundisclosedterms\n",
            "0 markworkwearhouseltdjan3132975145sales159147\n",
            "0 canadianbashawerskineresourcemergecanadianbashawleducoilgasltdagreemergeerskineresourceltdtermsdiscloseownershipcombine18currentshareholdercanadianbashaw81currentshareholdererskine\n",
            "0 entourageentgfirstquarterlossentourageinternationalincfirstquarterloss104357incurring70costsinternalauditreportshareholderproxysoliciation24startupexpenseopeninglondonofficegopublicentouragealsostartmarketingsolidperfumepackagelipsticktubecallamadeusretailing15alsoacquirenorthcountrymediumgroupvideoproduction\n",
            "0 mrjaxfashionincfeb285829141440sales2413\n",
            "0 fwwoolworthcohikedividend3328fwwoolworthcohikedividend3328\n",
            "0 fwwoolworthcozhikedividendqtlydiv3328priorpayjunerecordmay\n",
            "0 dutchsugarbeetplantinghalffinishroughlyhalfexpect130hectaredutchsugarbeetcropalreadygroundspokesmansuikerunielargesugarprocessornetherlandstellreutersconditionsgenerallygoodaveragesowdatecropexpectaroundaprilapril23lastaverageapril14spokesmanaddfarearlyyetkindoutputexpectcomeharvestseptemberleastcropgoodstartlastnetherlandsplantrecord137600hectaresugarbeetproducerecordwhitesugarsubstantiallycountrycombinebquota872howeverselfimposequotasystemintroduceaimcuttingplanting130hectarereducingwhitesugaroutputaround915minimiseamountnonquotacsugarproducefarmerrecordgrowingsugerbeetallotquotaexpectpreventareaboostdairycerealfarmermovesugar\n",
            "0 jpmorgancoinc1stqtr2228jpmorgancoinc1stqtr2228\n",
            "0 eccommissiondetailssugartendereccommissionconfirmgrantexportlicence118350currentserieswhitesugarmaximumexportrebate46496europeancurrencyunitecusper100kilotraderfrancereceive34500k37800westgermany20belgium18500spain800denmark750\n",
            "0 volkswagendividenddecisionduetomorrowvolkswagenagvowgf>,vwduemakeformalannouncementdividendtomorrowsaying1985levelmarksperordinarywouldholddespitemassivelossessuspectforeigncurrencyfraudspokesmanvwsupervisoryboardmeettomorrowdiscuspayoutstatementmakeafterwardsvwalsodiscloseprofitsreach1985leveldespiteprovisionspossible480markslinkcurrencyaffairfigurevirtually477mark1985parentprofitvwfirstconfirmcurrencyscandalmarchmanagementboardwouldproposeunchangedmarkdividendsupervisoryboarddividendmarkswouldproposenewpreferenceanalystsawsupervisoryboardapprovalmanagementboardproposalvirtuallyformalityanythingelsewouldsurpriseonesourcevwwoulddigreservesmaintaindiscloseprofitparentreservesstandaroundthreemarksend1985\n"
          ],
          "name": "stdout"
        }
      ]
    },
    {
      "cell_type": "code",
      "metadata": {
        "id": "Y9mIssnvGT0W",
        "colab_type": "code",
        "colab": {}
      },
      "source": [
        "num_clusters = 3\n",
        "km = KMeans(n_clusters=num_clusters, random_state = 0)"
      ],
      "execution_count": null,
      "outputs": []
    },
    {
      "cell_type": "code",
      "metadata": {
        "id": "nJ33wot-GTri",
        "colab_type": "code",
        "colab": {}
      },
      "source": [
        "clusters = km.fit_predict(tf_idf)"
      ],
      "execution_count": null,
      "outputs": []
    },
    {
      "cell_type": "code",
      "metadata": {
        "id": "L9ir_dL2GTfp",
        "colab_type": "code",
        "colab": {
          "base_uri": "https://localhost:8080/",
          "height": 1000
        },
        "outputId": "c0c0b917-3b0c-4b06-9cbb-b75205585756"
      },
      "source": [
        "for doc, cls in zip(pre_docs, clusters):\n",
        "    print(cls,doc)"
      ],
      "execution_count": null,
      "outputs": [
        {
          "output_type": "stream",
          "text": [
            "0 asianexporterfeardamagejapanriftmountingtradefrictionjapanraisefearamongmanyasiaexportingnationrowcouldinflictfarreachingeconomicdamagebusinessmenofficialtellreutercorrespondentasiancapitalmovejapanmightboostprotectionistsentimentleadcurbamericanimportproductexporterconflictwouldhurtlongrunshorttermtokyolossmightgainimpose300tariffimportjapaneseelectronicsgoodapril17retaliationjapanallegefailurestickpactsellsemiconductorworldmarketcostunofficialjapaneseestimateputimpacttariffspokesmanmajorelectronicsfirmwouldvirtuallyhaltexportproducthitnewtaxablebusinessspokesmanleadingjapaneseelectronicsfirmmatsushitaelectricindustrialcoltdmc>.tariffremainplacelengthtimebeyondmonthmeancompleteerosionexportgoodsubjecttarifftommurthastockanalysttokyoofficebrokerjamescapelco>.taiwanbusinessmenofficialalsoworryawareseriousnessthreatjapanservewarningusseniortaiwanesetradeofficialasknametaiwantradetradesurplus15last95surplushelpswelltaiwanforeignexchangereserves53amongworldlargemustquicklyopenmarketremovetradebarriercutimporttariffallowimportproductwantdefuseproblempossibleretaliationpaulsheenchairmantextileexportertaiwansafegroup>.seniorofficialsouthkoreatradepromotionassociationtradedisputejapanmightalsoleadpressuresouthkoreawhosechiefexportsimilarjapanlastsouthkoreatradesurplus1985malaysiatradeofficerbusinessmentoughcurbjapanmightallowhardhitproducersemiconductorthirdcountryexpandsaleshongkongnewspaperallegejapansellingcostsemiconductorelectronicsmanufacturerviewbusinessmenshorttermcommercialadvantagewouldoutweighpressureblockimportshorttermviewlawrencemillsdirectorgeneralfederationhongkongindustrywholepurposepreventimportonedayextendsourcemuchserioushongkongdisadvantageactionrestraintradelasthongkongbigexportmarketaccounting30domesticallyproduceexportaustraliangovernmentawaitoutcometradetalksjapaninterestconcernindustryministerjohnbuttoncanberralastfridaykinddeteriorationtraderelationstwocountrymajortradingpartnerseriousmatterbuttonaustraliaconcerncentrecoalbeefaustraliatwolargeexportjapanalsosignificantexportcountrymeanwhilejapanesediplomaticmanoeuvresolvetradestandcontinuejapanrulingliberaldemocraticpartyyesterdayoutlinepackageeconomicmeasureboostjapaneseeconomymeasureproposeincludelargesupplementarybudgetrecordpublicworksspendingfirsthalffinancialalsocallstepspendingemergencymeasurestimulateeconomydespiteprimeministeryasuhironakasoneavowfiscalreformprogramdeputytraderepresentativemichaelsmithmakotokurodajapandeputyministerinternationaltradeindustrymitiduemeetwashingtonweekeffortenddispute\n",
            "0 chinadailyvermineatgrainstockssurvey19provincesevencityshowverminconsumesevenchinagrainstockschinadailyalso57525chinafruitoutputleftrot30vegetablepaperblamewasteinadequatestoragebadpreservationmethodgovernmentlaunchnationalprogrammereducewastecallingimprovetechnologystoragepreservationgreaterproductionadditivepapergivedetails\n",
            "0 japanreviselongtermenergydemanddownwardsministryinternationaltradeindustrymitireviselongtermenergysupplydemandoutlookaugustmeetforecastdowntrendjapaneseenergydemandministryofficialmitiexpectlowerprojectionprimaryenergysupply2000550kilolitrekl600decisionfollowemergencestructuralchangejapaneseindustryfollowingrisevalueyendeclinedomesticelectricpowerdemandmitiplanningworkreviseenergysupplydemandoutlookdeliberationcommitteemeetingagencynaturalresourceenergyofficialmitialsoreviewbreakdownenergysupplysourceincludeoilnuclearcoalnaturalgasnuclearenergyprovidebulkjapanelectricpowerfiscalendmarch31supplyingestimate27kilowatthourbasisfollowoil23liquefynaturalgas21note\n",
            "0 thaitradedeficitwidenfirstquarterthailandtradedeficitwidenbahtfirstquarteragobusinesseconomicsdepartmentjanunarymarchimportrose65baht58thailandimprovebusinessclimateresult27increaseimportrawmaterialsemifinishproductcountryoilimportbillhoweverfell23firstquarterdueloweroildepartmentfirstquarterexportexpand60baht56exportgrowthsmallerexpectduelowerearningsmanykeycommodityincludericewhoseearningsdecline18maize66sugar45tin26pineapplesevenproductregisterhighexportgrowthjewellery64clothing57rubber35\n",
            "0 indonesiaseecporisingsharplyindonesiaexpectcrudepalmoilcporisesharply450550fobsometimebettereuropeandemandfallmalaysianoutputhasrulharahapjuniorministertreecroptellindonesianreportermalaysiansumatrancpoaround332cifdeliveryrotterdamtraderharahapindonesiawouldmaintainexportdespitemakingrecentpalmoilpurchasemalaysiacouldpossiblyincreaseinternationalmarketindonesiaworldsecondlargeproducerpalmoilmalaysiaforceimportpalmoilensuresupplymoslemfastingmonthramadanharahapbetterimportcovertemporaryshortageloseexportmarketindonesianexportcpocalendar5305004685001985accordcentralbankfigure\n",
            "0 australianforeignshipbanendnswporthittugcrewnewsouthwalesnswvictoriawesternaustraliayesterdayliftbanforeignflagshipcarrycontainernswportstilldisruptseparatedisputeshippingsourcebanimposeweekagopayclaimpreventmovementportnearly20vesselpaydisputegohearingarbitrationcommissiontodaymeanwhiledisruptionbegintodaycargohandlingportsydneynewcastleportkemblaindustrialactionnswportpartweekactioncallnswtradelabourcouncilprotestchangestateworkercompensationlawsshippingsourcevariousportunionappeartakingturnworkshorttimestartshiftwalkcargohandlingportdisruptcontainermovementaffectstopaltogethercouldlongdisruptiongoeffectshippingmovement\n",
            "0 indonesiancommodityexchangemayexpandindonesiancommodityexchangelikelystarttradingleastonenewcommoditypossiblytwocalendarexchangechairmanpaiannainggolantellreuterstelephoneinterviewtradingpalmoilsawtimberpeppertobaccoconsidertradingeithercrudepalmoilcporefinepalmoilmayalsointroducequestionstillconsidertradeministerrachmatsalehdecisiongoaheadmakefledglingexchangecurrentlytradecoffeerubberphysicalsopenoutcrysystemfourdaysweekseveralfactormakeusmovecautiouslynainggolanwantmoveslowlysafelymakemistakeundermineconfidenceexchange.\"physicalrubbertradinglaunch1985coffeeaddjanuaryrubbercontracttradefobfivemonthforwardrobustacoffeegradefourfivetradepromptdeliveryfivemonthforwardexchangeofficialtradeministryexchangeboardconsiderintroductionfuturetradinglaterrubberoneofficialfeasibilitystudyneedfirstdecisionlikelyindonesiaelectionapril23tradertradeministersalehmondayindonesiaworldsecondlargeproducernaturalrubberexpandrubbermarketingefforthopedevelopmentexchangewouldhelpnainggolanexchangetryboostoverseasinterestbuildingcontactenduserteamalreadysouthkoreataiwanencouragedirectuseexchangedelegationwouldalsovisiteuropemexicolatinamericanstateencourageparticipationofficialinfantexchangemakegoodstartalthoughtradingcoffeedisappointtransactionsrubberstarttradingapril1985decembertotal595worthfobplus184rupiahrubberdeliverlocallylatestexchangereporttradingcoffeecalendaramount905381lotsvalue87rupiahtotalmembershipexchangeninebroker44trader\n",
            "0 srilankagetusdaapprovalwheatfooddepartmentofficialdepartmentagricultureapprovecontinentalgraincosale52500softwheat89cfpacificnorthwestcolomboshipmentapril20delivery\n",
            "0 westernminingopennewgoldmineaustraliawesternminingcorpholdingltdwmngwmcestablishnewjointventuregoldminenorthernterritorycost21mineknowgoodallproject60wmc40localwrgracecograunitlocate30kmeastadelaiderivermtbundeywmcstatementopenpitmineconventionalleachtreatmentplantexpectproduce50ouncegoldfirstproductionmid1988annualorecapacity750\n",
            "0 sumitomobankaimquickrecoverymergersumitomobankltdsumicertainlosestatusjapanprofitablebankresultmergerheiwasogobankfinancialanalystosakabasesumitomodespositsaround23trillionyenmergeheiwasogosmallstrugglebankestimate29unrecoverableloanoctoberdespitelinksumitomopresidentkohkomatsutellreutersconfidentbankquicklyregainpositionbackpositionfirstplacewithinthreeyearskomatsuinterviewmergerinitiallyreducesumitomoprofitabilityefficiencyvastlyexpandsumitomobranchnetworktokyometropolitanarearelativelyweakfinancialanalystdividewhetherquicklygamblepaysumitomomaypaymuchheiwasogoviewsmallerbanklargedebtothersarguemergercosteffectivecreatecomparablebranchnetworkscratchanalystagreebankaggressiveexpandoverseasenterlucrativesecuritybusinessgeardomesticcompetitionquestionwisdommovemakeboldmoveputeverythingplacelargelyhandskleinwortbensonltdfinancialanalystsimonsmithsonamongsumitomoproblemlimitplacemoveentersecuritybusinesstakingamericaninvestmentbankgoldmansachscosumitomolastaugustagreepay500limitedpartnershipbanktimeleastfederalreserveboardforbidexchangepersonnelincreasebusinesstiewidelylooklameduckfedstrictsumitomoexpectoneanalystkomatsumovepaytimeregulationchangenearfuturevariousthingswaittwothreeyears21stcenturykomatsukomatsualsowillingpatientpossibleroutesecuritybusinesshomearticle65securityexchangeactjapanversionglasssteagallactseparatecommercialinvestmentbankingwalltwocrumblekomatsuhopederegulationcreatenewopportunityneedfindnewbusinesschancekomatsucasesecurityrelatecasetrustbankrelatekindderegulationwant.\"changeoccursumitomofocusdomesticsecuritybusinessprofitablegovernmentbonddealingstrengtheningrelationsmeikosecuritycoltdholdfivekomatsusumitomocautiouslyoptimisticenteringsecuritybusinessswissuniversalbanksubsidiarybancadelgottardofinanceministryexpectgrantlicencesecuritysubsidiarycommercialbankssoonfollowingsimilardecisionsubsidiaryeuropeanuniversalbanksparentholdle50komatsureluctantpushhardsimilardecisiongottardosubsidiarywantmakewaveexpectallowtwothreeyearslikecitybankssumitomoalsopushingexpandlendingindividualsmallmediumbusinessreplacedisappearingdemandbigbusinessaddanalystsumitomodevotelottimedigestrecentinitiativeincludemergerailheiwasogosumitomoboldstrategykleinwortsmithsonquestionabsorbjugglingaroundnextdecadeseestrategyrightwrong.\"\n",
            "0 subrotoindonesiasupporttinpactextensionmineenergyministersubrotoconfirmindonesiansupportextensionsixthinternationaltinagreementitanewpactnecessaryaskreutersclarifystatementmondaypactallowlapsesubrotoindonesiareadybackextensionitasupportextensionsixthagreementseventhaccordbelieveunnecessary.\"sixthitaexpireendjuneunlesstwothirdmajoritymembervoteextension\n",
            "0 bundesbankallocatemarkstenderbundesbankacceptbidmarkstodaytender28daysecurityrepurchasepactfixrate80centralbankspokesmanbanksbidtotalmarksliquiditycreditfundsallocatetodaymustbuybacksecuritypledgemay14marksdrainmarkettodayearlierpactexpirebundesbankeffectivelywithdrawmarksmarkettodayallocationbundesbankspokesmananswerenquirywithdrawalfundsreflecttighteningcreditpolicyseecontextplentifulliquiditybankingsystembanksholdaverage59marksbundesbankfirstsixdaysmonthwellclearlikelyaprilminimumreserverequirement51marksbundesbankspokesmannotebiddingmarksoutgo14banksshowfeltplentyliquiditydealerbundesbankkeenpreventmuchliquidityaccruemarketwouldblunteffectivenesssecurityrepurchaseagreementmainopenmarketinstrumentsteeringmarketinterestratestwopactlikelymonthnexttwoweekbundesbankcurrentlysteeringcallmoneyalthoughshorttermfluctuationoutsiderangepossibledealer\n",
            "0 bondcorpstillconsideratlasminingbailbondcorpholdingltdbonaatlasconsolidateminingdevelopmentcorpatlcmnstillholdingtalksbailpackagetroubleminingfirmatlasstatementatlasphilippinesbigcopperproducerhitdepressworldcopperreportloss97638pesoendingdecembercompareloss531985ablecutlossesscalecopperoperationscentralislandcebustartsecondhalfatlasnegotiationcontinueacquisitionbondexistbankloanrestructuregoldloanmemorandumunderstandingsigntwosideoctoberlastbondwouldacquireatlastotalloan275repaymininggoldatlastwosidealsodiscussequityinfusionatlascreationdevelopmentfundexplorationdevelopmentgoldpropertycentralprovincemasbatewilsonbanksgeneralmanagerbondcorpinternationalltdhongkongtellreutersatlasstatementnegotiationreasonablyaccurate.\"banksbondcorpseriouslyconsiderseveralinvestmentphilippinesgivedetailsstatementatlasdevelopmentpreworldwartwoundergroundminemasbateaccelerateoretonnageincreaseextendoperationlifeleast1993\n",
            "0 chinaindustrialoutputrisefirstquarterchinaindustrialoutputrose14firstquarterperiodpeopledailyoverseaseditiongrowthratecomparetargetsevenwholeratherhighbasefirstquarterlowsideindustrialoutputgrowfirstquarterchinaindustrialproductionnormalproductqualityefficiencyneedimprovementgivedetails\n",
            "2 japanministryopenfarmtradewouldhitjapanagricultureministryangerdemandjapanopenfarmproductmarkettellofficialtalkslatermonthliberalisationwouldharmexistfarmexportjapanseniorministryofficialimportwoulddropdueactivesalesdrivesupplierofficialdeclinenamejapanlargecustomerfarmproductreasonabledemandjapanliberalisefarmimportmarketagricultureministermutsukikatoinsistjapanopenprotectricemarketalsoopenwheatmarketvolumeoriginregulateprotectlocalfarmeraustraliacanadacouldincreasewheatexportcompetitiveenduserwouldalsobuyorigingraintraderagriculturesecretaryrichardlyngduevisitjapantalksapril1627askjapanofferricemarketsupplierremovequotabeefcitrusimportcountryalreadycuttingmarketaustralialargebeefsupplierjapantryboostexportpriorexpiryfourbeefaccordnextmarch31importcornfalldueincreasesaleschinasouthamericajapanesesoybeanimportbrazilexpectrisesharplyalthoughremainlargesupplierfeedgrainsalesalsodropjapanopenbeefimportsincejapandependalmostentirelyfeedgrainimportmainlyjapaneseofficialindicationpositioncomelastdecembersecretaryagriculturedanielamstutzjapanpotentialprovideonelargeboostagriculturalexportbeefmarketalonerepresentonenewbusinessalsoaskgeneralagreementtarifftradeinvestigatelegalityjapaneseimportcontrolfarmproductincludefruitjuicepureepulptomatojuiceketchupsaucepeanutspreparebeefproductmiscellaneousbeanhelpcalmheattraderelationsjapantopbusinessgroupkeidanrenurgegovernmentremoveresidualimportrestrictionagriculturalproductagricultureministerkatoruleemotionalreactionseniorministryofficialfarmissuebecomescapegoattradepressureindustrialsectorjapanlargebuyerfarmproductissuediscusstableofficial\n",
            "0 amatilproposetwofivebonusissueamatilltdamaaproposemaketwofivebonusissuerevaluationreserveshareholderregistermay26shareholderaskapproveissueincreaseauthorisecapital175125generalmeetingmaystatementnewrankdividenddeclareoctober31amatilbindustryplcbtilhold41stakeexpectmaintainlatestannualdividendrate29centenlargecapital\n",
            "0 bowaterpretaxprofitsrise15stg277p207pdiv0p5pmaking0p25pturnover34stg29pretaxprofit4832tax14namebowaterindustryplcbwtrltradingprofit6345tradingprofitincludepackagingassociateproduct2314merchantingservices18tissuetimberproductinterestdebit15minorityinterestdebitdebitextraordinaryitem15creditdebit\n",
            "0 kmoneymarketdeficitforecast250stgbankenglandforecastshortagearound250stgmoneymarkettodayamongmainfactoraffectliquiditybillmatureofficialhandstaketreasurybilldrain505stgbillrepurchasemarketremovearound194additionrisenotecirculationbankerbalancetargetdrainaround110stgpartlyoffsetoutflowexchequertransactionsadd690stgsystemtoday\n",
            "0 southkoreamoveslowgrowthtradesurplussouthkoreatradesurplusgrowingfastgovernmentstarttakingstepsslowdeputyprimeministerkimmahnjetellpressconferencegovernmentplanincreaseinvestmentspeedopeninglocalmarketforeignimportgraduallyadjustcurrencyholdsurplusproperlevel.\"governmentwouldallowappreciatemuchshortperiodtimesouthkoreapressurewashingtonrevaluewantsouthkoreacuttradesurplusrose1985kimalsoeconomicplanningministerprospectbrightsouthkoreaneconomygovernmentwouldtryholdcurrentaccountsurplusaroundfivenextfiveyearsgovernmentprojectioneightgnpgrowthfivecurrentaccountsurplusgrowthexportseemreasonableearlysurplusgrowingfastexpecttradeministryofficialsouthkoreaexportrose3534firstthreemonthimportrosekimswingsouthkoreacurrentaccountsurplus65890dlrdeficit1985significantsurplusenablecountryreduceforeigndebtlastfirsttimesouthkoreaforeigndebtfell44461985stillamonglargeasiahugeamountforeigndebtonemajorconstraintdevelopment...lastmajorturningpointkoreaneconomykimkimgovernmentplannnedreduceratioforeigndebtcountrygnp20199150governmenthoweverwantacceleratereducingdebtmakingexcessivetradesurpluskimsuddenrisesurpluswouldcauseinflationleadtradefrictionseoulmajortradingpartnerparticularlyunitestateneedsurplusreducedebttakingmeasureholdsizesurplusproperlevelkim\n",
            "0 finncanadianstudymtbeproductionplantfinlandnationaloilnesteoyneoystatementagreecanadianfirmstudyfeasibilitybuildingplantedmontoncanadaproducereplacementleadpetrolprospectiveplantwouldcostestimate270canadianwouldproducemethyltertiarybutylethermtberawmaterialavailablelocallypartnerstudynesteoycelanesecanadainchoechstcelanesecorporationtrademountainpipelineltdvancouverbcedmontonsitesuitablerawmaterialavailabilityproximitypipelinetransportationimportantcapitaloperateadvantagegainlocatingexistcelanesecanadasitestatementpartnerwouldlookfeasibilityplantproduce500perannummtbeoctaneenhancerreplacetetraethylleadmtbewouldtargetunitestateleadlevelgasolinelowerhealthconcernstatementaddcanadianleadlimitcurrentlytimeshighlimitleadschedulevirtualeliminationcanada1993createcanadiandemandmtbefinlandnesteoywhoseturnoverlastfiveextensiveexperiencemtbemajorinvestmentmtbeplantsaudiarabiaedmontonalbertaplantwouldschedulegostreamlate1989statement\n",
            "0 crasellforrestgold76whimcreekwhimcreekconsolidatenlconsortiumleadingpay7655acquisitioncraltdcraaforrestgoldptyltdunitreportyesterdaycrawhimcreekdiscloseyesterdaywhimcreekhold44consortiumaustwhimresourcenlhold27croesusminingnl29statementreportforrestgoldtwominewesternaustraliaproducecombine37ouncegoldalsoundevelopedgoldproject\n",
            "0 germanindustrialemploymentseestagnatenumberworkeremploywestgermanindustrialsectorstagnatelastquarter50increaseoverallemploymentbenefitservicesbranchdiweconomicinstitutediwreportaddgeneraldownturneconomysincelastautumnnegativeeffectwillingnessfirmtakeworkerrefermarkdownturnnumberworkertakecapitalgoodsectornewordermanufacturingindustrygoodmostlyfallstagnaterecentmonthdatafebruaryfinallyshowreversaltrendrise\n",
            "0 bowaterindustryprofitexceedexpectationbowaterindustryplcbwtrlpretaxprofits48stgexceedmarketexpectationaround40pushsharplyhigh491p468plastnightdealerlatereaseback481pbowaterreport32stgprofit1985statementaccompanyresultunderlietrendshowimprovementintendexpanddevelopingexistbusinessseekingnewopportunityaddappointdavidlyoncurrentlymanagedirectorredlandplcrdldlnewchiefexecutiveanalystnotebowaterprofits18stg13previouslygivenboostpensionbenefitstgprofitaustraliafareastshowgreatestpercentagerisejumping5515profitkoperationsrose3024europe42\n",
            "0 citibanknorwayunitlosesixcrowncitibankccin>,norwegiansubsidiarybasebankmakelosssixcrownalthoughforeignbankerexpectshowprofitstwoleanyearscitibankoslotreasuryheadbjoernsejerstadtellreuterscitibankonesevenforeignbanksubsidiaryoperatenorwaylostmoneyrestructureinvestmentbankingawaycommercialbankingeconomicslumpnorwayfollowinglastplungeoilforeignbanksallowoperatesusbidiariesnorwaysince1985foreignbankinganalystosloaccessnorwaysecondhandsecurityequitymarketapprovelaterspringlowerprimaryreserverequirementwouldmakeprofitcitibanklost490crownnorway1985sejerstadprofitlikelyplanliberalisationbettereconomicperformancehelpsteadyoilaround18barrelearlierchasemanhattanbankcmbnsubsidiarydecidestopforeignexchangetradingheavylossesfocusinsteadfeebasemerchantbanking\n",
            "0 vieillemontagneconditionsunfavourablesharpfalldollarzincdepreciationcurrencycreateunfavourableeconomicconditionsvieillemontagnesavmnbbrstatementtwofactorledsqueezerefiningmargin1824fallsalesservicesincomedespiteunchangedlevelactivityvieillemontagneactivelypursuerestructureprogramreport198francloss187francprovisionsclosureelectrolysisplantcompare250francprofit1985\n",
            "0 vieillemontagnereportlossdividendlossexceptionalcharge198francprofit250exceptionalprovisionsclosureviviezelectrolysisplant187francexceptionalgain22salesservices1651franc2020proposedividendordinary110francfullnamevieillemontagnesavmnbbr>.\n",
            "0 ecmainlytinextensionkstandtakeeuropeancommunityecmemberinternationaltincouncilexceptbritainpreparebackextensioninternationaltinagreementecspokesmanmeetingecstaterepresentativeyesterdaybritainundertakecommunicatedecisionpartnertodayreadyyesterdaytakestandaddnineecstatebackextensionspainportugalmemberinternationaltincouncilraiseobjectioncommonecstancefavour\n",
            "1 japangivenlittlehopeavoidsanctiontopofficialjapanlittlechanceconvincedropthreatentradesanctiondespiteeffortjapaneseteamleftwashingtontodaymichaelarmacostsecretarystatepoliticalaffairsaskpressconferencewhetherjapanmoveboostdomesticeconomyopenmarketcouldpersuadeimposetariffjapaneseimportreply\"...probablyearlyfiguredemonstratesituationturnaroundpermitresultdescribe.\"armacosthopejapantakestepsliftdomesticeconomyreducedependenceexportremovebarrierimportsettleoutstandingtradeissueobviousproblemmomenttradeareawishproblemdivertattentionimportantareacooperationcontinueexistsecuritypoliticalissuequestionwhethercooperativeactiongovernmentreducetradeimbalancewhethercongresstakeactionreduceprotectionistlegislation\n",
            "0 thaizincexportfallmarchthaizincingotexportfell882march764february008marchmineralresourcedepartmentspokesmanpadaengindustrycoltdcountrysoleexporterattributedeclinelowerstocksaveragefirstquarter16late1985beginexportingdepartmentmajorbuyerincludechinajapanphilippinessouthkoreasingaporetaiwanthailandexport842zincingotfirstquarter14937ago\n",
            "0 ecsugartenderhardpredictlondontradeoutcometodayeuropeancommunityecwhitesugartenderextremelydifficultpredictlastweeksubstantialaward102350higheverrebate46864europeancurrencyunitecusper100kilotraderbelievetonnagewouldprobablysmalleraround60declinegiveviewlikelyrestitutionlastweekeuropeancommissionaccept785sugarinterventionoperatorprotestlowrebatemightdeterminefactortodayresultadd\n",
            "0 northyemencallsugarbuyingtendertradenorthyemencallbuyingtendersaturdaypurchase30whitesugararrivaljunetrader\n",
            "0 anheuserbuschjoinbidsanmiguelanheuserbuschincbudnjoinseveralforeignbiddersequesterphilippineslargefoodbeveragemakersanmiguelcorpsanmmn>,headgovernmentpanelcontroltellreutersramondiazsecretarypresidentialcommissiongoodgovernmentpcgganheuserbuschtellgovernmentinterestbuying14bsanmigueldiscloseofferdiazaustralianbreweralanbondbondcorpholdingltdoffer150pesoperbdiaznewyorkinvestmentbankallencoincearlierinterestbuying38sequestertellreuterslastmonthelderixlltdelxa>,melbournebasebrewingalsobidbhongkongeconomicjournallastmonthquotespokesmanaustralianstockbrokerjacksonltdsayingbarwonfarmlandltd>,australianfirm30ariadneaustralialtd>,planningfilipinobranchorderbuyentireblock38anheuserbuschlastmake150dlrbidbuysanmiguelbreweryltd>,hongkonglist6965neptuniacorpltd>,sanmiguelcorpsubsidiarytalksbreaklastjunetwosidecouldagreetermssale\n",
            "0 economicspotlightaustralianmarketboomaustralianmarketboomforeignfundmanagerredirectcapitalawayunitestatetraditionalmarketanalysthighshortterminterestratesbullishstockmarketincreasinglystablecurrencyreflectmassiveinflowfreshfundslasttwomonthlargelyjapaneseinvestoranalystpollreutersfundmanagerwantqualitymarketparkcashsettleaustraliabritaincanadadiversifyvolatiledollarinstrumentonepercentagepointfallkeybondratespastmonthrecordmonthhighcurrency71illustrateinflowofficialfigurelatestinflowinvestmentcapitalavailablebrokerreceivealmostdailyinquiryjapanunitestatepeoplegettrilliondollarsloshknowendingattractionhighinterestratesreasonablecurrencystabilitynationalaustraliabankltdeconomistbrianhamleyflightquality',\"hamleyaustraliamaybesteconomicpositionmanycountrywantputmoney.\"strongaustraliandollaralsoattractinvestortakingadvantageappreciatecurrencyvolatilityunitanalystlookingfavourmarketperhapspeoplewouldconcernvaluedollarlloydbanknzaltdchiefeconomistbuttroseputmoneyaustraliaentrycheapcurrencylookstable?\"turningcapitalpermanentproductiveinvestmentdependgovernmenteconomicpolicydisappearpeopleloseconfidencedirectioneconomybuttroseaddoffshoreinvestorwouldcarefullywatchgovernmentpromisetougheconomicstatementmay14happyinvestbondvehicleyieldinginterestunobtainableelsewherefundmanagercouldeasilyreverseflowparticularlyjapanesebadlyhurtpastrapidfallsaustraliandollarheftyjumpbondratesanalystremainedgymoneysomethingdeliverstatementconsidertoughenoughonemightseesubstantialoutflowbuttroseoffshoreinvestoreagerseeaustraliataketougheconomicdecisioncurb100dlrforeigndebtstubborncurrentaccountdeficitanalystgivingusbenefitdoubtthinkwouldlikeleavemoneybuttrosereservebankpolicyalsoreflectincreaseinterestinvestmentaustralianeedshieldjapaneseinvestorrapidcurrencyfluctuationreservegovernorbobjohnstonlastweekacknowledgeelementtargetrateyencurrencypolicyauthoritiescouldtakeeyesyencrucialrolejapaneseinvestoranalystbelievereservebankworksuccessfullyrecentmonthkeepaustraliandollarwithinrange100103yenapartrecoveryweakdollaraustraliandollaralsorisealmostthreetradeweightbasislastthreeweekoffshorebuyingalsoplayroleboomaustralianmarketfollowwallstreetmarketalsosettingtrendresponseweightdomesticoffshorefundspourequityparticularlygoldsectorkeyordinaryindexroserecord758todaynearly20levelendgoldindexnearlydoublerecord081periodpropertysectoralsoseekjapaneseinvestheavilyunitestaterecentyearsturningattentionundervaluerealestateparticularlytourismfieldanalystpointrecentsalesydneyfivestarregenthoteljapaneseinterest145indicativetypepropertyseekthinkfindgoodvaluerealestatelongtermfixcapitalinvestmentkindinvestmentaustralianeedbuttroseadd\n",
            "0 economicspotlightkuwaitieconomykuwaitoilreliantdebtrideeconomystartpullnosediveoildeterminepacerecoverybankereconomistcrucialability13memberopecholdoilaroundnewbenchmark18barrelnorthernhemispheresummerdemandusuallyslackenbankerestimateeconomymeasuretermsgrossdomesticproductgdpshrink19realtermslastcontractingtakingaccountinflationconsumer1985slowingfactordepresseconomicactivityincludeoldiraniraqwarkuwaitdoorstepthreatenemiratevitaloilexportlifelinegulfsapbusinessconfidencesentimentreceivemuchneedboostseptemberseriespiecemealstepscombatdebtcrisiscause1982crashlocalstockmarketcomprehensivenewdebtsettlementprogramintroducecrashresultspeculativespreeforwardtradingleft95postdatechequedefaultchequealsousecollateralconsumerspendingthusgenerateinformalcreditsystemmuchdebtwaterbigsumstilloweindividualdinar15outstandingbankcreditendonequarteronethirdestimatebankerrankbaddoubtfuldebtgovernmentrepeatedlyallowbanksgonewdebtsettlementschemeentailrescheduleproblemcredit15yearsdependwhetherdebtorregularcashflowbanksshareholderdepositorrightguaranteegovernmentedictvitalsignificancecountrypeoplefinancialsectorbigoilkuwaitbetterplaceopeccountryrideoilglutbankereconomistkuwaitopecquota948barrelsperdaybpdcompareproductioncapacitybpdmentionlastoilministersheikhalialkhalifaalsabahstrategicdiversificationdownstreamoperationseuropeseveralyearsagoheftyrefininginvestmenthomegiveguaranteemarketabroadenablesellonehalfoutputhighgraderefineoilproductoilindustrysourcekuwaitablegetaverage00barrelsellingoilformprocessproductgasoilkerosenenaphtharathercrudebankerreboundoilmajorreasoncautiousoptimismreasonlowdomesticinflationbottomfallimportrecentyearssigngovernmentspendingproductivesectorremainsteadyexternalaccountgoodshapeestimatedinarcurrentaccountsurplus161985stillachievementrecessionhitgulfkuwaitpetrodollarreservesmidputofficially80earninvestmentincomeequivalent65firsttimesinceendoilboomreservesmayenoughpreventrealbudgetdeficit87fiscalendingjune30bankerbudgetportraybankermildlycontractionaryrevenue87cut38spendingdoublingnominaldeficit33dinarleftincomestatereservesusuallyexcludeofficialbudgetaccountingforecastbankerdinar87resultshortfallbankerearlyventureforecasteconomicgrowthnextdependoilonesummerimportant.\"cabinetaffairsministerrashidalrashidlastsundaycabinetratifyrecommendationrationalisestatespendingfavourproductivesectorreactivateeconomygivedetailsbankerexpectspell88budgetpossiblyjune\n",
            "0 malaysiamaymeetoilpalmtargetmalaysiaunlikelymeettargetoutputfiveoilpalmcalendaroilpalmgrowertellreutersoutputexpectreacharoundunchangeddroughtlowusefertiliseroverstresspalmgroweraskreactionoilworldnewsletterreportmalaysiaoilpalmoutputlikelydropsharplypalmoilsellaround700ringgit115ringgitlesoybeanoilmalaysiamustsellpalmoilpreventstockbuildupcoulddamageindustryleadinggrowertellreuterscountrypalmoilstockstotal500800lastmarchgrowergrowerexpectpalmoileaselaterduepressuresouthamericansoybeanoutputcurrentsouthamericanoilseedharvestmainlysoybeanlikelyaround25previous21cropadditionnewsoybeanplantingalsoexpectentermarketaroundnovembermalaysianpalmoiloutputpeaknewplantingpalmalsolikelyslow50hectareexpectplantnewtree100althougheffectsreductionfeltanotherthreeyears\n",
            "0 jardinemathesonsettwofivebonusissuereplacingbjardinemathesonsettwofivebonusissuereplacingb\n",
            "0 monierbritainredlandmaybiddiversifybuildingmaterialgroupmonierltdmnratalkstakingplacemayleadbritainredlandplcrdldlmakingoffermonieralreadyholdchairmanbilllockeredlandalreadyhold49monier15628issuebriefnoticeaustralianstockexchangelockeshareholderwouldadvisesoondiscussionprogressrecommendkeepmoniertradinghightodaypreviouspeak80yesterdayclosewelllow18monierlargeconcreterooftilemanufactureraustralianewzealandworldlargemarketerflyashaccordannualreport1985endjune30recentlyreportfirsthalf87fell15021709earlierdueaustralianhousingdownturnalthoughforeignearningsrose\n",
            "0 isuzuplaninterimdividendisuzumotorltdisumpaydividendfirsthalfendingapril30expectmarkyenparentcurrentlossfirsthalfdueslowexportcauseyenappreciationspokesmanpaydividendsinceendoctober311983payfiveyen44yencurrentprofitfirsthalf1985\n",
            "0 japaneseofficialtakedatamicrochiptalksministryinternationaltradeindustrymitiviceministermakotokurodaleafwashingtontodaydatahoperefutechargejapanviolatepactmicrochiptradethreemanjapanesetradeteamalreadywashingtonlayinggroundworktalkskurodadeputytraderepresentativemichaelsmithaimpersuadeimposetariffcertainjapaneseproductkurodatakingnewproposalnothingbriefcaseexceptexplanationcurrentsituationkurodatelldailynewspaperasahishimbunkurodadecisionbaseincorrectdataexaggeratesensemitipowercontrolmarketforceexcessiveexpectationstabilisesupplydemandrelationsdisruptexcessinventorysince1985taketimekurodaalsolaypartblamelowchipsalesjapanlackeffortamericanfirmfailtalkstomorrowfridayforestallsanctionseektalkstraderepresentativeclaytonyeutterofficialweektalksunlikelydelayimpositiontariff\n",
            "0 bellgroupconfirmstandardcharterstakebellgroupltdbllahold14issuecapitalstandardcharterplcstchlacquiringonesentencestatementbellheadquartersconfirmbrokerwarburgsecuritytellreuterslondonyesterdaybellpreviouslyholdstandardbellchairmanrobertholmescourtalsodirectorstandardavailablecommentintentionboostholdingofficialcontactreutersdeclinecomment\n",
            "0 nipponsteeldenychinaseekingjapaneseplantnipponsteelcorpnstcdenylocalnewspaperreportchinaseekingbuysteelplantjapanesefirmplansuspendoutputrecentlyannouncerationalisationprogrammainichishimbunquotenipponsteelsayingchinastateplanningcommissionchinesefirmaskjapanesemakersellsteelworksrollingmillsexpandsteelmakingcheaplynamesourcenipponsteelspokesmantellreuterschinamakeofficialrequestconsidersalesmomentmainichiquotenipponsteelofficialsayingreasonablewouldexportusemillschinapaperchinacrudesteeloutputtotal52calendarplanincrease801996japansteelindustryrationalisationplanaimcuttingproductioncapacitysharplynextyears\n",
            "0 jardinemathesonreplacebbonusissuejardinemathesonholdingltdjardhkwithdrawpreviouslyannouncefouronebonusissuebreplacetwofivebonusissueordinarystatementfirmexpectpaytotaldividendle40centexpandcapitaljardinemathesondecidewithdrawissuejointannouncementearliertodayronaldlichairmanstockexchangehongkongsecuritycommissionerrayastinlistingnewbwouldbarofficialannouncementincludeproposaljardinemathesonjardinestatementquotechairmansimonkeswicksayingcontinuebelieveissuingbwouldbenefitshareholderregretgivenopportunityvotematterstage.\"keswickbissuebenefitjardinemathesonshareholdergivingfirmflexibilityissueordinaryexpansionfuturewithoutdiluteexistshareholdervotingrighthoweveraddcertainlywelcomesecretarymonetaryaffairsdavidnendickreferralimportantmatterstandingcommitteelawreformhopefulprocessleaddevelopmentgeneralprincipleembraceconstituenthongkongmarket.\"\n",
            "1 japangivenlittlehopeavoidsanctiontopofficialjapanlittlechancepersuadedropthreatentradesanctiondespiteeffortjapaneseteamleftwashingtontodaymichaelarmacostsecretarystatepoliticalaffairsaskpressconferencewhetherjapanmoveboostdomesticeconomyopenmarketcouldpersuadeimposetariffjapaneseimportreply\"...probablyearlyfiguredemonstratesituationturnaroundpermitresultdescribe.\"armacosthopejapantakestepsliftdomesticeconomyreducedependenceexportremovebarrierimportsettleoutstandingtradeissueobviousproblemmomenttradeareawishproblemdivertattentionimportantareacooperationcontinueexistsecuritypoliticalissuequestionwhethercooperativeactiongovernmentreducetradeimbalancewhethercongresstakeactionreduceprotectionistlegislation\n",
            "0 bankjapanintervenesoontokyoopeningbankjapanbuysmallamountdollarshortlyopeningaround14530yendealercentralbankintervenemediumsizetradinghouseselldollarputtingpressurecurrencydollaralsosupportmajorelectricalconsumergoodspeculativedollarbuyeraround14525yenadddollaropen14533yen1456070newyork14525closeyesterday\n",
            "0 indonesianinflationrate87inflationindonesiafiscal87march31compare66previousinformationministerharmokocabinetsessiondiscuseconomicsituation\n",
            "0 kmoneymarketgiven53stgassistancebankenglandprovidemoneymarket53stgassistancemorningsessioncomparebankestimateshortagesystemaround300stgearlierrevise250centralbankmakeoutrightpurchasebankbillcomprise46stgbandthreesevenstgbandfour16\n",
            "0 sanmigueldealhitlawsuitbidsanmiguelcorpsmcsanmmnbuyback38sequesterunitecoconutplanterbankucpbhittwonewlawsuitsourcephilippinefoodbrewerymanilacourtyesterdayissueinjunctionbarringucpbsellingrepresent31smcoutstandingcapitalstock121hearingapril21petitionfileeduardocojuangcoformerchairmansmcucpbcojuangcococonutindustryinvestmentfundciiffarmerrightfulownercojuangcoholdtrustucpbrepresentbluechipinvestmentpetitionucpbplansellsmcseriousbreachfiduciaryduty.\"smcsourceproposesalecouldalsoholdsecondderivativesuitfilesecurityexchangecommissionseceduardodelosangelesgovernmentnomineeboarddelosangelesrepresentsmcminoritystockholderasksecblocktransactionapprovelastweekboardaprilboardsanctionrepurchasesequester79peso126pesoperdelosangelestellsecretainearnings33pesowouldwipepurchasewouldpreventdeclarationdividenddelosangelespurchasewouldalsoviolatesmcagreementcreditormaintaindebtequityratioquotesmcchieffinancialdirectorramondelrosariotellingboardtransactionwouldboostratiopetitionsecdelosangelesamendearliersuittwoweekagochargesmcchairmanandressorianoiiininedirectorviolatedutydelosangelesearliercomplaintrelatesmcassumelastdecember26dlrloancontractsmchongkongsubsidiaryneptuniacorppaymentloanassumptionratifylastweekboardmeetingarbitrationpanelsetpresidentcorazonaquinoresolveownershipissueexpectsubmitreportapril15amendsuitfileeduardodelosangelespartcontinueattemptcertainelementscompletedisregardfactquestionablemotivedelayearlydispositionsequestersanmiguelcorpstatementcomingsanmiguelcorpucpbreachagreementmethodpaymentsuitdirectcontraventiongovernmentexpressdesirereachamicablesettlementcontroversyapril15statementaddsanmiguelspokesmancommentcojuangcocourtpetitionaddstatementcomingusmightinterpretadversarial.\"meanwhileramondiazheadgovernmentpanelsequesterlastsorianoeligiblebuymajorportionunitestatecitizensequestersplit24filipino14bavailableforeignbuyersmcsourcesorianopersonallyamongprospectivebuyerwouldpurchasesorianogroupsmcneptuniaunnamedinstitutionalinvestorsorianonameonebuyerbidmarch33controlucpbsaleabortdiazpresidentialcommissiongoodgovernmentsequestersuspicioncojuangcocloseassociateformerpresidentferdinandmarcoscojuangcolifeselfimposeexile..grow3815stockdividendannouncelastjuneobjectionsorianobuyingbdiaztellreuterseverythinghold.\"smcspokesmanknowcontroversywouldresolveannualstockholdermeetingschedulemay14sanmiguelcorpreportsalesrevenuepesopesosales1985unauditedprofitneighbourhood700pesoincrease501985\n",
            "0 rainboostcentralqueenslandsugarcanecropgoodrainonefourinchpastdaysboostmoisturestresssugarcanecropmackayburdekinregionqueenslandcentralcoastaustraliansugarproducerassociationspokesmanpreviouslyreportregionundergoseveredryspellpartlyrelievescatterrainfallsincedecemberfollowingvirtualfailuresummerwetseasonmillsareareportingcropbeginninglookhealthygreenputtinggrowthsincerainbeginspokesmanbrisbanealthoughmackayburdekincropoutlookmuchbettercanelossesspokesmanearlyrainneedrestoresubsoilmoistureelsewherefarnorthqueenslandbundabergregionsouthernqueenslandcaneexcellentconditionmillsforecastingrecordcropinitialcropestimateprobablycompiletowardsendmaycanecrushnormallyrunjunedecember\n",
            "0 frenchtraderforecastecsugartendereuropeancommunityecexpectawardexportlicencetodayweeklytender60possibly100whitesugarlastweekaward102350traderexpectmaximumrebate46404650ecusper100kilocomparelastweek46864earliertraderlondonoutcometenderhardpredictlastweeksubstantialawardplace785sugarinterventionbelievetonnagewouldaround60declinegiverebatefigure\n",
            "0 italylafondiariareporthigherprofitsitalianinsurerlafondiariaspalfdimiexpectreportconsolidategroupprofitsignificantlyhigher60lirareport1985statementparentprofitlastrise72lirareport1985consolidategrouppremiumtotal700liracompare490previousiniziativametainzimi>,financialservicesunitmontedisonspamonimi>,controllargesinglestakeflorencebasefondiaria49\n",
            "0 nickelunlikelyrisemuchshearsonnickelunlikelyrisesignificantlycurrentlevelunlessstepstakereduceproductionshearsonlehmanbrotherquarterlynickelmarketreportmarketrecoverslightlyaround72lbyesterdayfourlow55earlyjanuarydueabsencesovietnickelcathodedeliveryshearsonseesovietshipmentsoonreturnlastbuoyantleveleasecurrenttightnessoutputreductionproducertakeeffectlaterlikelyoffsetincreaseelsewhereshearsonnickelmarketvirtuallybalancetotalnonsocialistworlddemand556compareestimate544production505504importsocialistcountry4750).forecastedgehigherfirstquarteraverage67lb77lastquarteraveragearound72lbcompare76usinglondonmetalexchangecashmetaldollartermsassumeaveragesterlingexchangerate55\n",
            "0 higherprofitdutchchemicalfirmdsmfullystatedutchchemicalfirmnvdsmdsmnprofitrose412guilder4021985turnoverfell17guilder241985dividendpaydutchstatecapacityfirmsoleshareholderwouldraise98guilder70guilder1985initialcommentresultdsmdropturnovercausemainlylossesfertilizerdivision\n",
            "0 poehlwarndollarfallbundesbankpresidentkarlottopoehlweakdollarwouldriskyappreciationmarkwoulddamageprospectsustainwestgermaneconomicgrowthspeechinstitutecontemporygermanaffairspoehlwouldextremelyriskypolicyaimsubstantialdeclinevaluedollarcorrecttradedeficit.\"unitestatecouldfaceviciouscircledepreciationinflationdepreciationtakeroutepoehlnotewestgermanyalreadytakestepsmeetdemandgreaterstimulationdomesticeconomyacceleratetaxcutcuttinginterestratestoleratetargetmoneysupplygrowthwouldhappybringforwardfivemarkstaxcutplanjanuary1988beginninggovernmentfacepoliticalconstraintgettingmeasureupperhousewestgermanparliamentalsolimitimpactwestgermanycouldacceptexportrisingmarkpoehlwestgermanyrelyexportonethirdgrossnationalproductsubstantialerosionexportmarketcouldoffsetincreasedemandhomeappreciationmarkcouldevenobstaclegrowthpoehlbundesbanktoleraterapidmoneysupplygrowthlastcountryenjoylowinflationexternalfactorincludelowoilfavourabletermstradegivenextraleewaypoehlwestgermanyfacedifficultdilemmamonetarypolicyunderlierateinflationtworeportnegativeinflationrateslastwestgermanyaffectexchangeratedevelopmenttimefocuspolicyexternalsideliveexpansionarymoneysupplymustcarefulconcernjapantradesurplusaffecteuropeancountrywellunitestatepoehlwelcomecalllouvreaccordmonetaryofficialmajorindustrializecountrysayingimportancefebruary22agreementstabilizeexchangeratesunderestimatepartneragreedollarrightlevelchangewoulddamagegrowthremarkablechangeattitudeespeciallypartamericancolleaguestilldangercorrectiondollarvaluecouldovershoot\n",
            "0 cincinnatibellcsnstartauxtonauxtbidcincinnatibellincstartpreviouslyannounce1575dlrpertenderofferauxtoncomputerenterpriseincnewspaperadvertisementtenderwithdrawalrightexpiremayfiveunlessextendofferapproveauxtonboardfollowmergerconditionreceiptmajorityauxtonvotingstockfullydilutebasis\n",
            "0 californiabiotechcbiosee1stqtrlosscaliforniabiotechnologyincexpectreportloss300600firstquarterdueincreaseinvestmentresearchmanufacturingscaleupproductionresearchspendingrunning5060agotrycommercializeproductquicklypossibleincreaseexpenditureexpectcontinueseveralquartersoperateresultfluctuatequarterquarterdependtimingsignificantpaymentcommercialpartnerfirstthreemonthlost150changefiscalcalendarendingnovember30firstquarterlastendfebruary28californiabiotechearn114\n",
            "0 pallcorppllsetquarterlydividendqtlydivpriorpaymayonerecordapril20\n",
            "0 unileverseekbuyerstaufferchemicalunileverplcnvunissueprospectusinvestmentbankergoldmansachscoseekingbuyerstaufferchemicalcoacquirerecenttakeoverchesebroughpondinc>,unileverspokesmannoteunileverindicateplandisposestaufferplussmallerassetschesebroughsincebidmakedecemberstauffersaleprospectussentrecentweeknumberexpressinterestunileverspokesmandeclinemuchgroupexpectreceivestaufferchesebroughfootweartennisracketbusinessalsolikelydisposeaddimmediatelyavailablefinancialinformationstaufferwhollylimitedaddninemonthsalesseptemberunileveraquiredchesebroughorderbenefitwellknowtoiletrybrandfoodproduct\n",
            "0 conraccorpentertalksacquisitionseveralpartyconraccorpentertalksacquisitionseveralparty\n",
            "0 conraccaxmergertalksseveralconraccorpsaitstartnegotiationseveralinterestpartypossibleacquisitionassurancetransactionresulttalksgivedetailsmarkivindustryincivstarttenderconrac25march24conracstartingbidconracproducermarketercomputerrelateinformationdisplaycommunicationsequipmentalsoproducespecialpurposearchitecturalindustrialproductcodephonecorpproducertelephoneanswermachinereportprofits16sales153nearlyoutstanding\n",
            "0 japanldpurgeimportfarmitemrulingliberaldemocraticpartyldpproposeexpandimportfarmproductnamecomplaintjapangeneralagreementtarifftradelastldpofficialproductincludefruitjuicepureepulptomatoproductpeanutspreparebeefproductbeanproposalusebasisdetailldpeconomicpackagecuttradesurpluspartyexpectformalisepackageapril19ldpgeneralcouncilchairmanshintaroabevisitwashington\n",
            "0 computerresearchinccore2ndqtrfeb2814nine217572153454rev5302735589241sthalf19299838174739rev865249495021\n",
            "0 australianforeignshipbanendtugcrewnewsouthwalesnswvictoriawesternaustraliayesterdayliftbanforeignflagshipcarrycontainernswportstilldisruptseparatedisputeshippingsourcebanimposeweekagopayclaimpreventmovementportnearly20vesselpaydisputegohearingarbitrationcommissiontodaymeanwhiledisruptionbegintodaycargohandlingportsydneynewcastleportkemblaindustrialactionnswportpartweekactioncallnswtradelabourcouncilprotestchangestateworkercompensationlaws\n",
            "0 rubbermaidinc1stqtr2822rubbermaidinc1stqtr2822\n",
            "0 independentchairmandutchcargodisputetwosiderotterdamportgeneralcargodisputeagreeappointindependentchairmanhanlammerspresidefuturemeetingemployerspokesmangerardzeebregtslammersqueencommissionerprovinceflevolandactmediatordrawagendaproceduremeetingemployerunionworkpracticeagreementproposeredundancytwomonthstrikesectorbeginjanuary19protestemployerproposal350redundancystrongworkforcestrikecallmainportunionfnvmarch13followingamsterdamcourtinteriminjunctionredundancyproceduralgroundscourtduemakefinalrulingmayzeebregtsexpectjudgmentgoemployerthereforelikelyrestartcomplicatelegalredundancyprocedurenearfuturemeanwhiledisputenewworkpracticeagreementportgrainsectorcontinue30maintenanceworkerstrikealthoughloadingaffectspokesmangraanelevatormijlargeemployersectoremployerwriteunionaskingreconsiderpositionmeetingunionmembercalltomorrow\n",
            "0 electrorentcorpelrc3rdqtrfeb282032358476rev2726avgshrs852764ninemths6805957129rev8278avgshrs316754\n",
            "0 rubbermaidincrbd1stqtr28222016sales238188\n",
            "0 wtcinternationalincwaf4thqtrfeb28profit13loss33profit149loss833rev5147profit24loss18profit050loss551rev200180\n",
            "0 kmoneymarketgiven166stghelpbankenglandprovidemarkethelptotal166stgafternoonbandonebuy31stgtreasurybillthreestgbankbillbandtwobuy69stgbankbill1316additionbuy63stgbandthreebankbillbringtotalassistancebankfartoday219stgliquidityshortageestimatearound300stg\n",
            "0 meadcorp1stqtroper0967meadcorp1stqtroper0967\n",
            "0 rubbermaidrbdseecontinueimprovementrubbermaidincincomingorderratescontinuestrongexpectcontinuerecordingfavorablecomparisonremainquartertodayreportfirstquarterearnings20sales238earnings16sales188\n",
            "0 cayugasavingsbankcayb1stqtr5541494204avgshrs896655494155\n",
            "0 johnstownsavingsbankfsbjsbk1stqtr33given642484362883notegopublicoctoberincludepretaxloanlossprovisions9056250gainsalesecurity11343288946\n",
            "0 homesavingsloanassociationinchsld2ndqtrmarch3157given7908746280201sthalf15given588985073163noterecentlygopublic\n",
            "0 geodynamicscorpgdyn3rdqtrfeb272120596594rev693164ninemths6158784653rev2623\n",
            "0 swedishunemploymentsteadymarchswedishunemploymentsteadyworkforcemarchcomparepreviousmonthcentralbureaustatisticsmarchfigurestand\n",
            "0 compaqcpqexpecthigherfirstquartercompaqcomputercorpexpectsalesearningsfirstquarterhigheranalystexpectationduestrongdemandproductrodcanionpresidentchiefexecutiveofficercompaqexpectsales200periodendingmarch31analystestimate165185addearningsperwouldexceedanalystestimatehigh42compaqreportearnings30sales144firstquarterdemanddeskpro386portableiiinewcompaqdeskpro286contributesalesincreaseinitialdemandrecentlyintroducecompaqportableiiinewmodelcompaqdeskpro286exceedcompaqpersonalcomputercanionsawcontinuedemandpersonalcomputeracrossquartermarchparticularlystrongmonth\n",
            "0 internationaliusellinsuranceunitinternationalcoreachpreliminaryagreementsellhawaiianinsurancecoshawaiianelectricindustryinc>.termstransactiondisclosetransactionsubjectexecutiondefinitiveagreementcertaingovernmentalapprovalapprovalboardsdirectorinvolveinternationalhawaiianelectricplanpurchasepartstrategyincreaseinvestmentselectserviceindustryhawaiiincludefinancialservices\n",
            "0 cxrtelcomcorpcxrl3rdqtrmarch3121516rev800100ninemthsone620231rev100100\n",
            "0 proxmireoutlineinsidertradinglegislationsenatebankingcommitteechairmanwilliamproxmirewiplanintroducelegislationshortlyrequiregreaterpublicdisclosurecorporatetakeoverfairtreatmentshareholderspeakingnationalassociationmanufacturerproxmirerecentinsidertradingstockscandalincreasechancecongressactcurbabuseproposelegislationwouldprovidedisclosurewouldfairshareholderwouldinsuretakeoverproperlyfinanceamongprovisionsbillwouldreducethresholdnotifysecurityexchangecommissioninvestorgroupacquirepercentagestockthreecurrentfivethresholdwithindaysproxmireadditionwouldprenotificatonrequirementinvestorintendaquirethreewouldfilesecproxmireprenotificationrequirementmeanpreventarbitragerjumpgeneralpublicknowingcomingtakeoverattemptproxmirewouldcallextendperiodtenderoffermustkeepopenwilliamsact60businessdayscurrent20businessdaysbillwouldprovideprivatesuitacquiringviolatetimeperiodtenderoffercorrectabusefinancingtakeoverproxmirelegislationwouldaiminsurecurrentmarginrequirmentsproperlyenforcefederalreserveboard50marginrequirementpurchasingstockproxmiregenerallyenforcehostiletakeoverrathergroupindividualleadingtakeoverdeclareraisecapitaltakeoverwithoutactuallyputtingmoneyproxmirebillwouldallowprivatesuitdamagesfailuremeetfederalreserve50marginrequirementbillalsowouldrequirediscloseseveralinvestorformalliancehostiletakeoverpickensicahngettogetherwantpeopleknowproxmireproxmirefavorapproachusebritaintowardstwotieredtenderofferinsureshareholderrecieveequaltreatmentexpectamendmentbillalsowouldcoverdefensivemechanismgreenmailpoisonpillproxmireintendintroducebilllatermonthpredictsenatecommitteewouldactspringhopefulcongresscouldpassbill\n",
            "0 helentroycorphele4thqtrfeb281713598392sales474avgshrs432045operprofit05loss47operprofit498loss427sales5240avgshrs320060notelatestexclude782dlrtaxcredit\n",
            "0 bankertrustbtputbrazilnonaccrualbankertrustnewyorkcorpplaceapproximately540mediumlongtermloanbrazilnonaccrualstatusfirstquarterincomereducesevenresultbrazilsuspendinterestpayment68mediumlongtermdebtfebruary22bankingregulationrequirebanksstopaccrueinterestloanpayment90daysoverduebankertrustacthighpotentialcontinuesuspensionwouldresultreaching90daylimitsecondquarter.\"assumecashpaymentcurrentinterestratesreceiverestbankertrustestimatefullincomewouldreduce30bankertrustassumedebtnegotiationbrazilcommercialbanklenderleadresumptioninterestpaymentnegotiationresumenewyorkfridaycentralbankgovernorfranciscogrosexpectaskbanks90dayrollovertermdebtmatureapril15\n",
            "0 firstmercantilecurrencyfundinc1stqtrprofit6322775868276446rev255742706130\n",
            "0 ukinterventionbdecsell118350whitesugarrebate46496ecusukinterventionbdecsell118350whitesugarrebate46496ecus\n",
            "0 stoltenbergseemovestrengthenparisaccordwestgermanfinanceministergerhardstoltenbergtodaymeetingmajorindustrialcountrywouldlookwaysstrengtheningparisaccordstabilizeforeignexchangeratesstoltenbergtelljournalistsawfundamentalweaknessfebruary22agreementgroupfivecountrycanadakeepexchangeratesnearcurrentleveldeclinemeasurewoulddiscussaheadcommuniquegroupsevenministerlatertodaystoltenbergbundesbankpresidentkarlottopoehlimportanceparisagreementalsoknowlouvreaccordunderestimatestoltenberggreateragreementamongmajorcountrysixmonthagotimeannualmeetinginternationalmonetaryfundworldbankmarksharpdiscordunitestatemajortradingpartnerfundamentalweaknessparisaccordlookingwaysstrengtheningwantdiscusstoltenberglouvreagreementworkingdespiteslightfirmyendollarpoehlnotedollarmarkparityunchangedsincefebruary22withoutbundesbanksellmarkssupportdollarlouvreagreementhonormarketpoehlwestgermanylivesidebargainparispreparewaytaxcutacceleratewaystimulategrowthpoehlhoweverjapanyetfulfilpledgeeconomicstimulationseeunitestateablepromiseparisreducingbudgetdeficitgetcongressaddstoltenbergreiteratewestgermanconcernfalldollarnotemark85dollarnearly20tradeweightbasiscannotexpectgounnoticedeconomygermanproblemeuropeanproblem\n",
            "0 kinterventionboarddetailsecsugarsalestotal118350currentserieswhitesugarreceiveexportrebatemaximum46496europeancurrencyunitecusper100kilotodayeuropeancommunityectenderkinterventionboardtraderkreceive37800france34500westgermany20belgium18500spain800denmark750addearliertodaylondontraderdeclinegiveprojectviewlevelsubsidyalthoughtotaltonnageawardwouldaround60paristraderforesee60100authoriseexport46404650ecusubsidycumulativesalesauthorisationcurrentseason87stand19497043week).lastweeksaw102350whiteauthoriseexportlicenceendsephigesteverrebate46864europeancurrencyunitecusper100kilo\n",
            "0 meadmeaexpectimproveearningsmeadcorpoutlookmajorpapermarketlookstrongsecondquarteraugurwellearningsgenerallystrongoutlookbodewellsignificantlyimproveearningsburnellrobertschairmanchiefexecutiveofficerearlierreportfirstquarterearnings3409versus2065lastfirstquarterreportearningscontinueoperations10950meadfirstquarterbenefitstrongmarketconditionsimproveoperationscombinationcapitalimprovementprogramemployeeinvolvementpaythroughoutpaperoperationsrobertsaddmeadpulppaperboardbusinessoperatewellimprovestrongdemandplaceproductsellpositionmiddlemeadsalesunbleachedcoatpaperboardparticularlystrong13versusfirstquarter\n",
            "0 amertekincatekf1stqtrprofit20lossthreeprofit849299loss82512rev929138849224\n",
            "0 alexbrownincabsb1stqtrmarch27primary7868dilute7568qtrlydivsixfive929569rev7861notepaydateqtrlydivapril28shareholderrecordapril20\n",
            "0 towncountryjewelrymanufacturingtcjc4thhqtrfeb284622139034854182sales3020avgshrs2808545596463415935117156171sales10771avgshrs281387616183notetowncountryjewelrymanufacturingcorp\n",
            "0 paxarcorppaksmakeacquisitionpaxarcorpacquirethermoprintgmbhlohnwestgermanydistributorpaxarproductundisclosedterms\n",
            "0 markworkwearhouseltdjan3132975145sales159147\n",
            "0 canadianbashawerskineresourcemergecanadianbashawleducoilgasltdagreemergeerskineresourceltdtermsdiscloseownershipcombine18currentshareholdercanadianbashaw81currentshareholdererskine\n",
            "0 entourageentgfirstquarterlossentourageinternationalincfirstquarterloss104357incurring70costsinternalauditreportshareholderproxysoliciation24startupexpenseopeninglondonofficegopublicentouragealsostartmarketingsolidperfumepackagelipsticktubecallamadeusretailing15alsoacquirenorthcountrymediumgroupvideoproduction\n",
            "0 mrjaxfashionincfeb285829141440sales2413\n",
            "0 fwwoolworthcohikedividend3328fwwoolworthcohikedividend3328\n",
            "0 fwwoolworthcozhikedividendqtlydiv3328priorpayjunerecordmay\n",
            "0 dutchsugarbeetplantinghalffinishroughlyhalfexpect130hectaredutchsugarbeetcropalreadygroundspokesmansuikerunielargesugarprocessornetherlandstellreutersconditionsgenerallygoodaveragesowdatecropexpectaroundaprilapril23lastaverageapril14spokesmanaddfarearlyyetkindoutputexpectcomeharvestseptemberleastcropgoodstartlastnetherlandsplantrecord137600hectaresugarbeetproducerecordwhitesugarsubstantiallycountrycombinebquota872howeverselfimposequotasystemintroduceaimcuttingplanting130hectarereducingwhitesugaroutputaround915minimiseamountnonquotacsugarproducefarmerrecordgrowingsugerbeetallotquotaexpectpreventareaboostdairycerealfarmermovesugar\n",
            "0 jpmorgancoinc1stqtr2228jpmorgancoinc1stqtr2228\n",
            "0 eccommissiondetailssugartendereccommissionconfirmgrantexportlicence118350currentserieswhitesugarmaximumexportrebate46496europeancurrencyunitecusper100kilotraderfrancereceive34500k37800westgermany20belgium18500spain800denmark750\n",
            "0 volkswagendividenddecisionduetomorrowvolkswagenagvowgf>,vwduemakeformalannouncementdividendtomorrowsaying1985levelmarksperordinarywouldholddespitemassivelossessuspectforeigncurrencyfraudspokesmanvwsupervisoryboardmeettomorrowdiscuspayoutstatementmakeafterwardsvwalsodiscloseprofitsreach1985leveldespiteprovisionspossible480markslinkcurrencyaffairfigurevirtually477mark1985parentprofitvwfirstconfirmcurrencyscandalmarchmanagementboardwouldproposeunchangedmarkdividendsupervisoryboarddividendmarkswouldproposenewpreferenceanalystsawsupervisoryboardapprovalmanagementboardproposalvirtuallyformalityanythingelsewouldsurpriseonesourcevwwoulddigreservesmaintaindiscloseprofitparentreservesstandaroundthreemarksend1985\n"
          ],
          "name": "stdout"
        }
      ]
    },
    {
      "cell_type": "code",
      "metadata": {
        "id": "RS5fr6v6G0DU",
        "colab_type": "code",
        "colab": {}
      },
      "source": [
        "num_clusters = 10\n",
        "km = KMeans(n_clusters=num_clusters, random_state = 0)"
      ],
      "execution_count": null,
      "outputs": []
    },
    {
      "cell_type": "code",
      "metadata": {
        "id": "EvuA1koDGz6T",
        "colab_type": "code",
        "colab": {}
      },
      "source": [
        "clusters = km.fit_predict(tf_idf)"
      ],
      "execution_count": null,
      "outputs": []
    },
    {
      "cell_type": "code",
      "metadata": {
        "id": "J-sgrQZOGzw5",
        "colab_type": "code",
        "colab": {
          "base_uri": "https://localhost:8080/",
          "height": 1000
        },
        "outputId": "12d008a8-b9b2-4dc7-e493-70ac9fc33c8b"
      },
      "source": [
        "for doc, cls in zip(pre_docs, clusters):\n",
        "    print(cls,doc)"
      ],
      "execution_count": null,
      "outputs": [
        {
          "output_type": "stream",
          "text": [
            "0 asianexporterfeardamagejapanriftmountingtradefrictionjapanraisefearamongmanyasiaexportingnationrowcouldinflictfarreachingeconomicdamagebusinessmenofficialtellreutercorrespondentasiancapitalmovejapanmightboostprotectionistsentimentleadcurbamericanimportproductexporterconflictwouldhurtlongrunshorttermtokyolossmightgainimpose300tariffimportjapaneseelectronicsgoodapril17retaliationjapanallegefailurestickpactsellsemiconductorworldmarketcostunofficialjapaneseestimateputimpacttariffspokesmanmajorelectronicsfirmwouldvirtuallyhaltexportproducthitnewtaxablebusinessspokesmanleadingjapaneseelectronicsfirmmatsushitaelectricindustrialcoltdmc>.tariffremainplacelengthtimebeyondmonthmeancompleteerosionexportgoodsubjecttarifftommurthastockanalysttokyoofficebrokerjamescapelco>.taiwanbusinessmenofficialalsoworryawareseriousnessthreatjapanservewarningusseniortaiwanesetradeofficialasknametaiwantradetradesurplus15last95surplushelpswelltaiwanforeignexchangereserves53amongworldlargemustquicklyopenmarketremovetradebarriercutimporttariffallowimportproductwantdefuseproblempossibleretaliationpaulsheenchairmantextileexportertaiwansafegroup>.seniorofficialsouthkoreatradepromotionassociationtradedisputejapanmightalsoleadpressuresouthkoreawhosechiefexportsimilarjapanlastsouthkoreatradesurplus1985malaysiatradeofficerbusinessmentoughcurbjapanmightallowhardhitproducersemiconductorthirdcountryexpandsaleshongkongnewspaperallegejapansellingcostsemiconductorelectronicsmanufacturerviewbusinessmenshorttermcommercialadvantagewouldoutweighpressureblockimportshorttermviewlawrencemillsdirectorgeneralfederationhongkongindustrywholepurposepreventimportonedayextendsourcemuchserioushongkongdisadvantageactionrestraintradelasthongkongbigexportmarketaccounting30domesticallyproduceexportaustraliangovernmentawaitoutcometradetalksjapaninterestconcernindustryministerjohnbuttoncanberralastfridaykinddeteriorationtraderelationstwocountrymajortradingpartnerseriousmatterbuttonaustraliaconcerncentrecoalbeefaustraliatwolargeexportjapanalsosignificantexportcountrymeanwhilejapanesediplomaticmanoeuvresolvetradestandcontinuejapanrulingliberaldemocraticpartyyesterdayoutlinepackageeconomicmeasureboostjapaneseeconomymeasureproposeincludelargesupplementarybudgetrecordpublicworksspendingfirsthalffinancialalsocallstepspendingemergencymeasurestimulateeconomydespiteprimeministeryasuhironakasoneavowfiscalreformprogramdeputytraderepresentativemichaelsmithmakotokurodajapandeputyministerinternationaltradeindustrymitiduemeetwashingtonweekeffortenddispute\n",
            "0 chinadailyvermineatgrainstockssurvey19provincesevencityshowverminconsumesevenchinagrainstockschinadailyalso57525chinafruitoutputleftrot30vegetablepaperblamewasteinadequatestoragebadpreservationmethodgovernmentlaunchnationalprogrammereducewastecallingimprovetechnologystoragepreservationgreaterproductionadditivepapergivedetails\n",
            "0 japanreviselongtermenergydemanddownwardsministryinternationaltradeindustrymitireviselongtermenergysupplydemandoutlookaugustmeetforecastdowntrendjapaneseenergydemandministryofficialmitiexpectlowerprojectionprimaryenergysupply2000550kilolitrekl600decisionfollowemergencestructuralchangejapaneseindustryfollowingrisevalueyendeclinedomesticelectricpowerdemandmitiplanningworkreviseenergysupplydemandoutlookdeliberationcommitteemeetingagencynaturalresourceenergyofficialmitialsoreviewbreakdownenergysupplysourceincludeoilnuclearcoalnaturalgasnuclearenergyprovidebulkjapanelectricpowerfiscalendmarch31supplyingestimate27kilowatthourbasisfollowoil23liquefynaturalgas21note\n",
            "0 thaitradedeficitwidenfirstquarterthailandtradedeficitwidenbahtfirstquarteragobusinesseconomicsdepartmentjanunarymarchimportrose65baht58thailandimprovebusinessclimateresult27increaseimportrawmaterialsemifinishproductcountryoilimportbillhoweverfell23firstquarterdueloweroildepartmentfirstquarterexportexpand60baht56exportgrowthsmallerexpectduelowerearningsmanykeycommodityincludericewhoseearningsdecline18maize66sugar45tin26pineapplesevenproductregisterhighexportgrowthjewellery64clothing57rubber35\n",
            "0 indonesiaseecporisingsharplyindonesiaexpectcrudepalmoilcporisesharply450550fobsometimebettereuropeandemandfallmalaysianoutputhasrulharahapjuniorministertreecroptellindonesianreportermalaysiansumatrancpoaround332cifdeliveryrotterdamtraderharahapindonesiawouldmaintainexportdespitemakingrecentpalmoilpurchasemalaysiacouldpossiblyincreaseinternationalmarketindonesiaworldsecondlargeproducerpalmoilmalaysiaforceimportpalmoilensuresupplymoslemfastingmonthramadanharahapbetterimportcovertemporaryshortageloseexportmarketindonesianexportcpocalendar5305004685001985accordcentralbankfigure\n",
            "0 australianforeignshipbanendnswporthittugcrewnewsouthwalesnswvictoriawesternaustraliayesterdayliftbanforeignflagshipcarrycontainernswportstilldisruptseparatedisputeshippingsourcebanimposeweekagopayclaimpreventmovementportnearly20vesselpaydisputegohearingarbitrationcommissiontodaymeanwhiledisruptionbegintodaycargohandlingportsydneynewcastleportkemblaindustrialactionnswportpartweekactioncallnswtradelabourcouncilprotestchangestateworkercompensationlawsshippingsourcevariousportunionappeartakingturnworkshorttimestartshiftwalkcargohandlingportdisruptcontainermovementaffectstopaltogethercouldlongdisruptiongoeffectshippingmovement\n",
            "0 indonesiancommodityexchangemayexpandindonesiancommodityexchangelikelystarttradingleastonenewcommoditypossiblytwocalendarexchangechairmanpaiannainggolantellreuterstelephoneinterviewtradingpalmoilsawtimberpeppertobaccoconsidertradingeithercrudepalmoilcporefinepalmoilmayalsointroducequestionstillconsidertradeministerrachmatsalehdecisiongoaheadmakefledglingexchangecurrentlytradecoffeerubberphysicalsopenoutcrysystemfourdaysweekseveralfactormakeusmovecautiouslynainggolanwantmoveslowlysafelymakemistakeundermineconfidenceexchange.\"physicalrubbertradinglaunch1985coffeeaddjanuaryrubbercontracttradefobfivemonthforwardrobustacoffeegradefourfivetradepromptdeliveryfivemonthforwardexchangeofficialtradeministryexchangeboardconsiderintroductionfuturetradinglaterrubberoneofficialfeasibilitystudyneedfirstdecisionlikelyindonesiaelectionapril23tradertradeministersalehmondayindonesiaworldsecondlargeproducernaturalrubberexpandrubbermarketingefforthopedevelopmentexchangewouldhelpnainggolanexchangetryboostoverseasinterestbuildingcontactenduserteamalreadysouthkoreataiwanencouragedirectuseexchangedelegationwouldalsovisiteuropemexicolatinamericanstateencourageparticipationofficialinfantexchangemakegoodstartalthoughtradingcoffeedisappointtransactionsrubberstarttradingapril1985decembertotal595worthfobplus184rupiahrubberdeliverlocallylatestexchangereporttradingcoffeecalendaramount905381lotsvalue87rupiahtotalmembershipexchangeninebroker44trader\n",
            "0 srilankagetusdaapprovalwheatfooddepartmentofficialdepartmentagricultureapprovecontinentalgraincosale52500softwheat89cfpacificnorthwestcolomboshipmentapril20delivery\n",
            "0 westernminingopennewgoldmineaustraliawesternminingcorpholdingltdwmngwmcestablishnewjointventuregoldminenorthernterritorycost21mineknowgoodallproject60wmc40localwrgracecograunitlocate30kmeastadelaiderivermtbundeywmcstatementopenpitmineconventionalleachtreatmentplantexpectproduce50ouncegoldfirstproductionmid1988annualorecapacity750\n",
            "0 sumitomobankaimquickrecoverymergersumitomobankltdsumicertainlosestatusjapanprofitablebankresultmergerheiwasogobankfinancialanalystosakabasesumitomodespositsaround23trillionyenmergeheiwasogosmallstrugglebankestimate29unrecoverableloanoctoberdespitelinksumitomopresidentkohkomatsutellreutersconfidentbankquicklyregainpositionbackpositionfirstplacewithinthreeyearskomatsuinterviewmergerinitiallyreducesumitomoprofitabilityefficiencyvastlyexpandsumitomobranchnetworktokyometropolitanarearelativelyweakfinancialanalystdividewhetherquicklygamblepaysumitomomaypaymuchheiwasogoviewsmallerbanklargedebtothersarguemergercosteffectivecreatecomparablebranchnetworkscratchanalystagreebankaggressiveexpandoverseasenterlucrativesecuritybusinessgeardomesticcompetitionquestionwisdommovemakeboldmoveputeverythingplacelargelyhandskleinwortbensonltdfinancialanalystsimonsmithsonamongsumitomoproblemlimitplacemoveentersecuritybusinesstakingamericaninvestmentbankgoldmansachscosumitomolastaugustagreepay500limitedpartnershipbanktimeleastfederalreserveboardforbidexchangepersonnelincreasebusinesstiewidelylooklameduckfedstrictsumitomoexpectoneanalystkomatsumovepaytimeregulationchangenearfuturevariousthingswaittwothreeyears21stcenturykomatsukomatsualsowillingpatientpossibleroutesecuritybusinesshomearticle65securityexchangeactjapanversionglasssteagallactseparatecommercialinvestmentbankingwalltwocrumblekomatsuhopederegulationcreatenewopportunityneedfindnewbusinesschancekomatsucasesecurityrelatecasetrustbankrelatekindderegulationwant.\"changeoccursumitomofocusdomesticsecuritybusinessprofitablegovernmentbonddealingstrengtheningrelationsmeikosecuritycoltdholdfivekomatsusumitomocautiouslyoptimisticenteringsecuritybusinessswissuniversalbanksubsidiarybancadelgottardofinanceministryexpectgrantlicencesecuritysubsidiarycommercialbankssoonfollowingsimilardecisionsubsidiaryeuropeanuniversalbanksparentholdle50komatsureluctantpushhardsimilardecisiongottardosubsidiarywantmakewaveexpectallowtwothreeyearslikecitybankssumitomoalsopushingexpandlendingindividualsmallmediumbusinessreplacedisappearingdemandbigbusinessaddanalystsumitomodevotelottimedigestrecentinitiativeincludemergerailheiwasogosumitomoboldstrategykleinwortsmithsonquestionabsorbjugglingaroundnextdecadeseestrategyrightwrong.\"\n",
            "0 subrotoindonesiasupporttinpactextensionmineenergyministersubrotoconfirmindonesiansupportextensionsixthinternationaltinagreementitanewpactnecessaryaskreutersclarifystatementmondaypactallowlapsesubrotoindonesiareadybackextensionitasupportextensionsixthagreementseventhaccordbelieveunnecessary.\"sixthitaexpireendjuneunlesstwothirdmajoritymembervoteextension\n",
            "0 bundesbankallocatemarkstenderbundesbankacceptbidmarkstodaytender28daysecurityrepurchasepactfixrate80centralbankspokesmanbanksbidtotalmarksliquiditycreditfundsallocatetodaymustbuybacksecuritypledgemay14marksdrainmarkettodayearlierpactexpirebundesbankeffectivelywithdrawmarksmarkettodayallocationbundesbankspokesmananswerenquirywithdrawalfundsreflecttighteningcreditpolicyseecontextplentifulliquiditybankingsystembanksholdaverage59marksbundesbankfirstsixdaysmonthwellclearlikelyaprilminimumreserverequirement51marksbundesbankspokesmannotebiddingmarksoutgo14banksshowfeltplentyliquiditydealerbundesbankkeenpreventmuchliquidityaccruemarketwouldblunteffectivenesssecurityrepurchaseagreementmainopenmarketinstrumentsteeringmarketinterestratestwopactlikelymonthnexttwoweekbundesbankcurrentlysteeringcallmoneyalthoughshorttermfluctuationoutsiderangepossibledealer\n",
            "0 bondcorpstillconsideratlasminingbailbondcorpholdingltdbonaatlasconsolidateminingdevelopmentcorpatlcmnstillholdingtalksbailpackagetroubleminingfirmatlasstatementatlasphilippinesbigcopperproducerhitdepressworldcopperreportloss97638pesoendingdecembercompareloss531985ablecutlossesscalecopperoperationscentralislandcebustartsecondhalfatlasnegotiationcontinueacquisitionbondexistbankloanrestructuregoldloanmemorandumunderstandingsigntwosideoctoberlastbondwouldacquireatlastotalloan275repaymininggoldatlastwosidealsodiscussequityinfusionatlascreationdevelopmentfundexplorationdevelopmentgoldpropertycentralprovincemasbatewilsonbanksgeneralmanagerbondcorpinternationalltdhongkongtellreutersatlasstatementnegotiationreasonablyaccurate.\"banksbondcorpseriouslyconsiderseveralinvestmentphilippinesgivedetailsstatementatlasdevelopmentpreworldwartwoundergroundminemasbateaccelerateoretonnageincreaseextendoperationlifeleast1993\n",
            "0 chinaindustrialoutputrisefirstquarterchinaindustrialoutputrose14firstquarterperiodpeopledailyoverseaseditiongrowthratecomparetargetsevenwholeratherhighbasefirstquarterlowsideindustrialoutputgrowfirstquarterchinaindustrialproductionnormalproductqualityefficiencyneedimprovementgivedetails\n",
            "0 japanministryopenfarmtradewouldhitjapanagricultureministryangerdemandjapanopenfarmproductmarkettellofficialtalkslatermonthliberalisationwouldharmexistfarmexportjapanseniorministryofficialimportwoulddropdueactivesalesdrivesupplierofficialdeclinenamejapanlargecustomerfarmproductreasonabledemandjapanliberalisefarmimportmarketagricultureministermutsukikatoinsistjapanopenprotectricemarketalsoopenwheatmarketvolumeoriginregulateprotectlocalfarmeraustraliacanadacouldincreasewheatexportcompetitiveenduserwouldalsobuyorigingraintraderagriculturesecretaryrichardlyngduevisitjapantalksapril1627askjapanofferricemarketsupplierremovequotabeefcitrusimportcountryalreadycuttingmarketaustralialargebeefsupplierjapantryboostexportpriorexpiryfourbeefaccordnextmarch31importcornfalldueincreasesaleschinasouthamericajapanesesoybeanimportbrazilexpectrisesharplyalthoughremainlargesupplierfeedgrainsalesalsodropjapanopenbeefimportsincejapandependalmostentirelyfeedgrainimportmainlyjapaneseofficialindicationpositioncomelastdecembersecretaryagriculturedanielamstutzjapanpotentialprovideonelargeboostagriculturalexportbeefmarketalonerepresentonenewbusinessalsoaskgeneralagreementtarifftradeinvestigatelegalityjapaneseimportcontrolfarmproductincludefruitjuicepureepulptomatojuiceketchupsaucepeanutspreparebeefproductmiscellaneousbeanhelpcalmheattraderelationsjapantopbusinessgroupkeidanrenurgegovernmentremoveresidualimportrestrictionagriculturalproductagricultureministerkatoruleemotionalreactionseniorministryofficialfarmissuebecomescapegoattradepressureindustrialsectorjapanlargebuyerfarmproductissuediscusstableofficial\n",
            "0 amatilproposetwofivebonusissueamatilltdamaaproposemaketwofivebonusissuerevaluationreserveshareholderregistermay26shareholderaskapproveissueincreaseauthorisecapital175125generalmeetingmaystatementnewrankdividenddeclareoctober31amatilbindustryplcbtilhold41stakeexpectmaintainlatestannualdividendrate29centenlargecapital\n",
            "0 bowaterpretaxprofitsrise15stg277p207pdiv0p5pmaking0p25pturnover34stg29pretaxprofit4832tax14namebowaterindustryplcbwtrltradingprofit6345tradingprofitincludepackagingassociateproduct2314merchantingservices18tissuetimberproductinterestdebit15minorityinterestdebitdebitextraordinaryitem15creditdebit\n",
            "0 kmoneymarketdeficitforecast250stgbankenglandforecastshortagearound250stgmoneymarkettodayamongmainfactoraffectliquiditybillmatureofficialhandstaketreasurybilldrain505stgbillrepurchasemarketremovearound194additionrisenotecirculationbankerbalancetargetdrainaround110stgpartlyoffsetoutflowexchequertransactionsadd690stgsystemtoday\n",
            "0 southkoreamoveslowgrowthtradesurplussouthkoreatradesurplusgrowingfastgovernmentstarttakingstepsslowdeputyprimeministerkimmahnjetellpressconferencegovernmentplanincreaseinvestmentspeedopeninglocalmarketforeignimportgraduallyadjustcurrencyholdsurplusproperlevel.\"governmentwouldallowappreciatemuchshortperiodtimesouthkoreapressurewashingtonrevaluewantsouthkoreacuttradesurplusrose1985kimalsoeconomicplanningministerprospectbrightsouthkoreaneconomygovernmentwouldtryholdcurrentaccountsurplusaroundfivenextfiveyearsgovernmentprojectioneightgnpgrowthfivecurrentaccountsurplusgrowthexportseemreasonableearlysurplusgrowingfastexpecttradeministryofficialsouthkoreaexportrose3534firstthreemonthimportrosekimswingsouthkoreacurrentaccountsurplus65890dlrdeficit1985significantsurplusenablecountryreduceforeigndebtlastfirsttimesouthkoreaforeigndebtfell44461985stillamonglargeasiahugeamountforeigndebtonemajorconstraintdevelopment...lastmajorturningpointkoreaneconomykimkimgovernmentplannnedreduceratioforeigndebtcountrygnp20199150governmenthoweverwantacceleratereducingdebtmakingexcessivetradesurpluskimsuddenrisesurpluswouldcauseinflationleadtradefrictionseoulmajortradingpartnerparticularlyunitestateneedsurplusreducedebttakingmeasureholdsizesurplusproperlevelkim\n",
            "0 finncanadianstudymtbeproductionplantfinlandnationaloilnesteoyneoystatementagreecanadianfirmstudyfeasibilitybuildingplantedmontoncanadaproducereplacementleadpetrolprospectiveplantwouldcostestimate270canadianwouldproducemethyltertiarybutylethermtberawmaterialavailablelocallypartnerstudynesteoycelanesecanadainchoechstcelanesecorporationtrademountainpipelineltdvancouverbcedmontonsitesuitablerawmaterialavailabilityproximitypipelinetransportationimportantcapitaloperateadvantagegainlocatingexistcelanesecanadasitestatementpartnerwouldlookfeasibilityplantproduce500perannummtbeoctaneenhancerreplacetetraethylleadmtbewouldtargetunitestateleadlevelgasolinelowerhealthconcernstatementaddcanadianleadlimitcurrentlytimeshighlimitleadschedulevirtualeliminationcanada1993createcanadiandemandmtbefinlandnesteoywhoseturnoverlastfiveextensiveexperiencemtbemajorinvestmentmtbeplantsaudiarabiaedmontonalbertaplantwouldschedulegostreamlate1989statement\n",
            "0 crasellforrestgold76whimcreekwhimcreekconsolidatenlconsortiumleadingpay7655acquisitioncraltdcraaforrestgoldptyltdunitreportyesterdaycrawhimcreekdiscloseyesterdaywhimcreekhold44consortiumaustwhimresourcenlhold27croesusminingnl29statementreportforrestgoldtwominewesternaustraliaproducecombine37ouncegoldalsoundevelopedgoldproject\n",
            "0 germanindustrialemploymentseestagnatenumberworkeremploywestgermanindustrialsectorstagnatelastquarter50increaseoverallemploymentbenefitservicesbranchdiweconomicinstitutediwreportaddgeneraldownturneconomysincelastautumnnegativeeffectwillingnessfirmtakeworkerrefermarkdownturnnumberworkertakecapitalgoodsectornewordermanufacturingindustrygoodmostlyfallstagnaterecentmonthdatafebruaryfinallyshowreversaltrendrise\n",
            "0 bowaterindustryprofitexceedexpectationbowaterindustryplcbwtrlpretaxprofits48stgexceedmarketexpectationaround40pushsharplyhigh491p468plastnightdealerlatereaseback481pbowaterreport32stgprofit1985statementaccompanyresultunderlietrendshowimprovementintendexpanddevelopingexistbusinessseekingnewopportunityaddappointdavidlyoncurrentlymanagedirectorredlandplcrdldlnewchiefexecutiveanalystnotebowaterprofits18stg13previouslygivenboostpensionbenefitstgprofitaustraliafareastshowgreatestpercentagerisejumping5515profitkoperationsrose3024europe42\n",
            "3 citibanknorwayunitlosesixcrowncitibankccin>,norwegiansubsidiarybasebankmakelosssixcrownalthoughforeignbankerexpectshowprofitstwoleanyearscitibankoslotreasuryheadbjoernsejerstadtellreuterscitibankonesevenforeignbanksubsidiaryoperatenorwaylostmoneyrestructureinvestmentbankingawaycommercialbankingeconomicslumpnorwayfollowinglastplungeoilforeignbanksallowoperatesusbidiariesnorwaysince1985foreignbankinganalystosloaccessnorwaysecondhandsecurityequitymarketapprovelaterspringlowerprimaryreserverequirementwouldmakeprofitcitibanklost490crownnorway1985sejerstadprofitlikelyplanliberalisationbettereconomicperformancehelpsteadyoilaround18barrelearlierchasemanhattanbankcmbnsubsidiarydecidestopforeignexchangetradingheavylossesfocusinsteadfeebasemerchantbanking\n",
            "0 vieillemontagneconditionsunfavourablesharpfalldollarzincdepreciationcurrencycreateunfavourableeconomicconditionsvieillemontagnesavmnbbrstatementtwofactorledsqueezerefiningmargin1824fallsalesservicesincomedespiteunchangedlevelactivityvieillemontagneactivelypursuerestructureprogramreport198francloss187francprovisionsclosureelectrolysisplantcompare250francprofit1985\n",
            "0 vieillemontagnereportlossdividendlossexceptionalcharge198francprofit250exceptionalprovisionsclosureviviezelectrolysisplant187francexceptionalgain22salesservices1651franc2020proposedividendordinary110francfullnamevieillemontagnesavmnbbr>.\n",
            "0 ecmainlytinextensionkstandtakeeuropeancommunityecmemberinternationaltincouncilexceptbritainpreparebackextensioninternationaltinagreementecspokesmanmeetingecstaterepresentativeyesterdaybritainundertakecommunicatedecisionpartnertodayreadyyesterdaytakestandaddnineecstatebackextensionspainportugalmemberinternationaltincouncilraiseobjectioncommonecstancefavour\n",
            "9 japangivenlittlehopeavoidsanctiontopofficialjapanlittlechanceconvincedropthreatentradesanctiondespiteeffortjapaneseteamleftwashingtontodaymichaelarmacostsecretarystatepoliticalaffairsaskpressconferencewhetherjapanmoveboostdomesticeconomyopenmarketcouldpersuadeimposetariffjapaneseimportreply\"...probablyearlyfiguredemonstratesituationturnaroundpermitresultdescribe.\"armacosthopejapantakestepsliftdomesticeconomyreducedependenceexportremovebarrierimportsettleoutstandingtradeissueobviousproblemmomenttradeareawishproblemdivertattentionimportantareacooperationcontinueexistsecuritypoliticalissuequestionwhethercooperativeactiongovernmentreducetradeimbalancewhethercongresstakeactionreduceprotectionistlegislation\n",
            "0 thaizincexportfallmarchthaizincingotexportfell882march764february008marchmineralresourcedepartmentspokesmanpadaengindustrycoltdcountrysoleexporterattributedeclinelowerstocksaveragefirstquarter16late1985beginexportingdepartmentmajorbuyerincludechinajapanphilippinessouthkoreasingaporetaiwanthailandexport842zincingotfirstquarter14937ago\n",
            "0 ecsugartenderhardpredictlondontradeoutcometodayeuropeancommunityecwhitesugartenderextremelydifficultpredictlastweeksubstantialaward102350higheverrebate46864europeancurrencyunitecusper100kilotraderbelievetonnagewouldprobablysmalleraround60declinegiveviewlikelyrestitutionlastweekeuropeancommissionaccept785sugarinterventionoperatorprotestlowrebatemightdeterminefactortodayresultadd\n",
            "0 northyemencallsugarbuyingtendertradenorthyemencallbuyingtendersaturdaypurchase30whitesugararrivaljunetrader\n",
            "0 anheuserbuschjoinbidsanmiguelanheuserbuschincbudnjoinseveralforeignbiddersequesterphilippineslargefoodbeveragemakersanmiguelcorpsanmmn>,headgovernmentpanelcontroltellreutersramondiazsecretarypresidentialcommissiongoodgovernmentpcgganheuserbuschtellgovernmentinterestbuying14bsanmigueldiscloseofferdiazaustralianbreweralanbondbondcorpholdingltdoffer150pesoperbdiaznewyorkinvestmentbankallencoincearlierinterestbuying38sequestertellreuterslastmonthelderixlltdelxa>,melbournebasebrewingalsobidbhongkongeconomicjournallastmonthquotespokesmanaustralianstockbrokerjacksonltdsayingbarwonfarmlandltd>,australianfirm30ariadneaustralialtd>,planningfilipinobranchorderbuyentireblock38anheuserbuschlastmake150dlrbidbuysanmiguelbreweryltd>,hongkonglist6965neptuniacorpltd>,sanmiguelcorpsubsidiarytalksbreaklastjunetwosidecouldagreetermssale\n",
            "0 economicspotlightaustralianmarketboomaustralianmarketboomforeignfundmanagerredirectcapitalawayunitestatetraditionalmarketanalysthighshortterminterestratesbullishstockmarketincreasinglystablecurrencyreflectmassiveinflowfreshfundslasttwomonthlargelyjapaneseinvestoranalystpollreutersfundmanagerwantqualitymarketparkcashsettleaustraliabritaincanadadiversifyvolatiledollarinstrumentonepercentagepointfallkeybondratespastmonthrecordmonthhighcurrency71illustrateinflowofficialfigurelatestinflowinvestmentcapitalavailablebrokerreceivealmostdailyinquiryjapanunitestatepeoplegettrilliondollarsloshknowendingattractionhighinterestratesreasonablecurrencystabilitynationalaustraliabankltdeconomistbrianhamleyflightquality',\"hamleyaustraliamaybesteconomicpositionmanycountrywantputmoney.\"strongaustraliandollaralsoattractinvestortakingadvantageappreciatecurrencyvolatilityunitanalystlookingfavourmarketperhapspeoplewouldconcernvaluedollarlloydbanknzaltdchiefeconomistbuttroseputmoneyaustraliaentrycheapcurrencylookstable?\"turningcapitalpermanentproductiveinvestmentdependgovernmenteconomicpolicydisappearpeopleloseconfidencedirectioneconomybuttroseaddoffshoreinvestorwouldcarefullywatchgovernmentpromisetougheconomicstatementmay14happyinvestbondvehicleyieldinginterestunobtainableelsewherefundmanagercouldeasilyreverseflowparticularlyjapanesebadlyhurtpastrapidfallsaustraliandollarheftyjumpbondratesanalystremainedgymoneysomethingdeliverstatementconsidertoughenoughonemightseesubstantialoutflowbuttroseoffshoreinvestoreagerseeaustraliataketougheconomicdecisioncurb100dlrforeigndebtstubborncurrentaccountdeficitanalystgivingusbenefitdoubtthinkwouldlikeleavemoneybuttrosereservebankpolicyalsoreflectincreaseinterestinvestmentaustralianeedshieldjapaneseinvestorrapidcurrencyfluctuationreservegovernorbobjohnstonlastweekacknowledgeelementtargetrateyencurrencypolicyauthoritiescouldtakeeyesyencrucialrolejapaneseinvestoranalystbelievereservebankworksuccessfullyrecentmonthkeepaustraliandollarwithinrange100103yenapartrecoveryweakdollaraustraliandollaralsorisealmostthreetradeweightbasislastthreeweekoffshorebuyingalsoplayroleboomaustralianmarketfollowwallstreetmarketalsosettingtrendresponseweightdomesticoffshorefundspourequityparticularlygoldsectorkeyordinaryindexroserecord758todaynearly20levelendgoldindexnearlydoublerecord081periodpropertysectoralsoseekjapaneseinvestheavilyunitestaterecentyearsturningattentionundervaluerealestateparticularlytourismfieldanalystpointrecentsalesydneyfivestarregenthoteljapaneseinterest145indicativetypepropertyseekthinkfindgoodvaluerealestatelongtermfixcapitalinvestmentkindinvestmentaustralianeedbuttroseadd\n",
            "5 economicspotlightkuwaitieconomykuwaitoilreliantdebtrideeconomystartpullnosediveoildeterminepacerecoverybankereconomistcrucialability13memberopecholdoilaroundnewbenchmark18barrelnorthernhemispheresummerdemandusuallyslackenbankerestimateeconomymeasuretermsgrossdomesticproductgdpshrink19realtermslastcontractingtakingaccountinflationconsumer1985slowingfactordepresseconomicactivityincludeoldiraniraqwarkuwaitdoorstepthreatenemiratevitaloilexportlifelinegulfsapbusinessconfidencesentimentreceivemuchneedboostseptemberseriespiecemealstepscombatdebtcrisiscause1982crashlocalstockmarketcomprehensivenewdebtsettlementprogramintroducecrashresultspeculativespreeforwardtradingleft95postdatechequedefaultchequealsousecollateralconsumerspendingthusgenerateinformalcreditsystemmuchdebtwaterbigsumstilloweindividualdinar15outstandingbankcreditendonequarteronethirdestimatebankerrankbaddoubtfuldebtgovernmentrepeatedlyallowbanksgonewdebtsettlementschemeentailrescheduleproblemcredit15yearsdependwhetherdebtorregularcashflowbanksshareholderdepositorrightguaranteegovernmentedictvitalsignificancecountrypeoplefinancialsectorbigoilkuwaitbetterplaceopeccountryrideoilglutbankereconomistkuwaitopecquota948barrelsperdaybpdcompareproductioncapacitybpdmentionlastoilministersheikhalialkhalifaalsabahstrategicdiversificationdownstreamoperationseuropeseveralyearsagoheftyrefininginvestmenthomegiveguaranteemarketabroadenablesellonehalfoutputhighgraderefineoilproductoilindustrysourcekuwaitablegetaverage00barrelsellingoilformprocessproductgasoilkerosenenaphtharathercrudebankerreboundoilmajorreasoncautiousoptimismreasonlowdomesticinflationbottomfallimportrecentyearssigngovernmentspendingproductivesectorremainsteadyexternalaccountgoodshapeestimatedinarcurrentaccountsurplus161985stillachievementrecessionhitgulfkuwaitpetrodollarreservesmidputofficially80earninvestmentincomeequivalent65firsttimesinceendoilboomreservesmayenoughpreventrealbudgetdeficit87fiscalendingjune30bankerbudgetportraybankermildlycontractionaryrevenue87cut38spendingdoublingnominaldeficit33dinarleftincomestatereservesusuallyexcludeofficialbudgetaccountingforecastbankerdinar87resultshortfallbankerearlyventureforecasteconomicgrowthnextdependoilonesummerimportant.\"cabinetaffairsministerrashidalrashidlastsundaycabinetratifyrecommendationrationalisestatespendingfavourproductivesectorreactivateeconomygivedetailsbankerexpectspell88budgetpossiblyjune\n",
            "0 malaysiamaymeetoilpalmtargetmalaysiaunlikelymeettargetoutputfiveoilpalmcalendaroilpalmgrowertellreutersoutputexpectreacharoundunchangeddroughtlowusefertiliseroverstresspalmgroweraskreactionoilworldnewsletterreportmalaysiaoilpalmoutputlikelydropsharplypalmoilsellaround700ringgit115ringgitlesoybeanoilmalaysiamustsellpalmoilpreventstockbuildupcoulddamageindustryleadinggrowertellreuterscountrypalmoilstockstotal500800lastmarchgrowergrowerexpectpalmoileaselaterduepressuresouthamericansoybeanoutputcurrentsouthamericanoilseedharvestmainlysoybeanlikelyaround25previous21cropadditionnewsoybeanplantingalsoexpectentermarketaroundnovembermalaysianpalmoiloutputpeaknewplantingpalmalsolikelyslow50hectareexpectplantnewtree100althougheffectsreductionfeltanotherthreeyears\n",
            "0 jardinemathesonsettwofivebonusissuereplacingbjardinemathesonsettwofivebonusissuereplacingb\n",
            "0 monierbritainredlandmaybiddiversifybuildingmaterialgroupmonierltdmnratalkstakingplacemayleadbritainredlandplcrdldlmakingoffermonieralreadyholdchairmanbilllockeredlandalreadyhold49monier15628issuebriefnoticeaustralianstockexchangelockeshareholderwouldadvisesoondiscussionprogressrecommendkeepmoniertradinghightodaypreviouspeak80yesterdayclosewelllow18monierlargeconcreterooftilemanufactureraustralianewzealandworldlargemarketerflyashaccordannualreport1985endjune30recentlyreportfirsthalf87fell15021709earlierdueaustralianhousingdownturnalthoughforeignearningsrose\n",
            "0 isuzuplaninterimdividendisuzumotorltdisumpaydividendfirsthalfendingapril30expectmarkyenparentcurrentlossfirsthalfdueslowexportcauseyenappreciationspokesmanpaydividendsinceendoctober311983payfiveyen44yencurrentprofitfirsthalf1985\n",
            "0 japaneseofficialtakedatamicrochiptalksministryinternationaltradeindustrymitiviceministermakotokurodaleafwashingtontodaydatahoperefutechargejapanviolatepactmicrochiptradethreemanjapanesetradeteamalreadywashingtonlayinggroundworktalkskurodadeputytraderepresentativemichaelsmithaimpersuadeimposetariffcertainjapaneseproductkurodatakingnewproposalnothingbriefcaseexceptexplanationcurrentsituationkurodatelldailynewspaperasahishimbunkurodadecisionbaseincorrectdataexaggeratesensemitipowercontrolmarketforceexcessiveexpectationstabilisesupplydemandrelationsdisruptexcessinventorysince1985taketimekurodaalsolaypartblamelowchipsalesjapanlackeffortamericanfirmfailtalkstomorrowfridayforestallsanctionseektalkstraderepresentativeclaytonyeutterofficialweektalksunlikelydelayimpositiontariff\n",
            "0 bellgroupconfirmstandardcharterstakebellgroupltdbllahold14issuecapitalstandardcharterplcstchlacquiringonesentencestatementbellheadquartersconfirmbrokerwarburgsecuritytellreuterslondonyesterdaybellpreviouslyholdstandardbellchairmanrobertholmescourtalsodirectorstandardavailablecommentintentionboostholdingofficialcontactreutersdeclinecomment\n",
            "0 nipponsteeldenychinaseekingjapaneseplantnipponsteelcorpnstcdenylocalnewspaperreportchinaseekingbuysteelplantjapanesefirmplansuspendoutputrecentlyannouncerationalisationprogrammainichishimbunquotenipponsteelsayingchinastateplanningcommissionchinesefirmaskjapanesemakersellsteelworksrollingmillsexpandsteelmakingcheaplynamesourcenipponsteelspokesmantellreuterschinamakeofficialrequestconsidersalesmomentmainichiquotenipponsteelofficialsayingreasonablewouldexportusemillschinapaperchinacrudesteeloutputtotal52calendarplanincrease801996japansteelindustryrationalisationplanaimcuttingproductioncapacitysharplynextyears\n",
            "0 jardinemathesonreplacebbonusissuejardinemathesonholdingltdjardhkwithdrawpreviouslyannouncefouronebonusissuebreplacetwofivebonusissueordinarystatementfirmexpectpaytotaldividendle40centexpandcapitaljardinemathesondecidewithdrawissuejointannouncementearliertodayronaldlichairmanstockexchangehongkongsecuritycommissionerrayastinlistingnewbwouldbarofficialannouncementincludeproposaljardinemathesonjardinestatementquotechairmansimonkeswicksayingcontinuebelieveissuingbwouldbenefitshareholderregretgivenopportunityvotematterstage.\"keswickbissuebenefitjardinemathesonshareholdergivingfirmflexibilityissueordinaryexpansionfuturewithoutdiluteexistshareholdervotingrighthoweveraddcertainlywelcomesecretarymonetaryaffairsdavidnendickreferralimportantmatterstandingcommitteelawreformhopefulprocessleaddevelopmentgeneralprincipleembraceconstituenthongkongmarket.\"\n",
            "9 japangivenlittlehopeavoidsanctiontopofficialjapanlittlechancepersuadedropthreatentradesanctiondespiteeffortjapaneseteamleftwashingtontodaymichaelarmacostsecretarystatepoliticalaffairsaskpressconferencewhetherjapanmoveboostdomesticeconomyopenmarketcouldpersuadeimposetariffjapaneseimportreply\"...probablyearlyfiguredemonstratesituationturnaroundpermitresultdescribe.\"armacosthopejapantakestepsliftdomesticeconomyreducedependenceexportremovebarrierimportsettleoutstandingtradeissueobviousproblemmomenttradeareawishproblemdivertattentionimportantareacooperationcontinueexistsecuritypoliticalissuequestionwhethercooperativeactiongovernmentreducetradeimbalancewhethercongresstakeactionreduceprotectionistlegislation\n",
            "0 bankjapanintervenesoontokyoopeningbankjapanbuysmallamountdollarshortlyopeningaround14530yendealercentralbankintervenemediumsizetradinghouseselldollarputtingpressurecurrencydollaralsosupportmajorelectricalconsumergoodspeculativedollarbuyeraround14525yenadddollaropen14533yen1456070newyork14525closeyesterday\n",
            "0 indonesianinflationrate87inflationindonesiafiscal87march31compare66previousinformationministerharmokocabinetsessiondiscuseconomicsituation\n",
            "0 kmoneymarketgiven53stgassistancebankenglandprovidemoneymarket53stgassistancemorningsessioncomparebankestimateshortagesystemaround300stgearlierrevise250centralbankmakeoutrightpurchasebankbillcomprise46stgbandthreesevenstgbandfour16\n",
            "0 sanmigueldealhitlawsuitbidsanmiguelcorpsmcsanmmnbuyback38sequesterunitecoconutplanterbankucpbhittwonewlawsuitsourcephilippinefoodbrewerymanilacourtyesterdayissueinjunctionbarringucpbsellingrepresent31smcoutstandingcapitalstock121hearingapril21petitionfileeduardocojuangcoformerchairmansmcucpbcojuangcococonutindustryinvestmentfundciiffarmerrightfulownercojuangcoholdtrustucpbrepresentbluechipinvestmentpetitionucpbplansellsmcseriousbreachfiduciaryduty.\"smcsourceproposesalecouldalsoholdsecondderivativesuitfilesecurityexchangecommissionseceduardodelosangelesgovernmentnomineeboarddelosangelesrepresentsmcminoritystockholderasksecblocktransactionapprovelastweekboardaprilboardsanctionrepurchasesequester79peso126pesoperdelosangelestellsecretainearnings33pesowouldwipepurchasewouldpreventdeclarationdividenddelosangelespurchasewouldalsoviolatesmcagreementcreditormaintaindebtequityratioquotesmcchieffinancialdirectorramondelrosariotellingboardtransactionwouldboostratiopetitionsecdelosangelesamendearliersuittwoweekagochargesmcchairmanandressorianoiiininedirectorviolatedutydelosangelesearliercomplaintrelatesmcassumelastdecember26dlrloancontractsmchongkongsubsidiaryneptuniacorppaymentloanassumptionratifylastweekboardmeetingarbitrationpanelsetpresidentcorazonaquinoresolveownershipissueexpectsubmitreportapril15amendsuitfileeduardodelosangelespartcontinueattemptcertainelementscompletedisregardfactquestionablemotivedelayearlydispositionsequestersanmiguelcorpstatementcomingsanmiguelcorpucpbreachagreementmethodpaymentsuitdirectcontraventiongovernmentexpressdesirereachamicablesettlementcontroversyapril15statementaddsanmiguelspokesmancommentcojuangcocourtpetitionaddstatementcomingusmightinterpretadversarial.\"meanwhileramondiazheadgovernmentpanelsequesterlastsorianoeligiblebuymajorportionunitestatecitizensequestersplit24filipino14bavailableforeignbuyersmcsourcesorianopersonallyamongprospectivebuyerwouldpurchasesorianogroupsmcneptuniaunnamedinstitutionalinvestorsorianonameonebuyerbidmarch33controlucpbsaleabortdiazpresidentialcommissiongoodgovernmentsequestersuspicioncojuangcocloseassociateformerpresidentferdinandmarcoscojuangcolifeselfimposeexile..grow3815stockdividendannouncelastjuneobjectionsorianobuyingbdiaztellreuterseverythinghold.\"smcspokesmanknowcontroversywouldresolveannualstockholdermeetingschedulemay14sanmiguelcorpreportsalesrevenuepesopesosales1985unauditedprofitneighbourhood700pesoincrease501985\n",
            "0 rainboostcentralqueenslandsugarcanecropgoodrainonefourinchpastdaysboostmoisturestresssugarcanecropmackayburdekinregionqueenslandcentralcoastaustraliansugarproducerassociationspokesmanpreviouslyreportregionundergoseveredryspellpartlyrelievescatterrainfallsincedecemberfollowingvirtualfailuresummerwetseasonmillsareareportingcropbeginninglookhealthygreenputtinggrowthsincerainbeginspokesmanbrisbanealthoughmackayburdekincropoutlookmuchbettercanelossesspokesmanearlyrainneedrestoresubsoilmoistureelsewherefarnorthqueenslandbundabergregionsouthernqueenslandcaneexcellentconditionmillsforecastingrecordcropinitialcropestimateprobablycompiletowardsendmaycanecrushnormallyrunjunedecember\n",
            "0 frenchtraderforecastecsugartendereuropeancommunityecexpectawardexportlicencetodayweeklytender60possibly100whitesugarlastweekaward102350traderexpectmaximumrebate46404650ecusper100kilocomparelastweek46864earliertraderlondonoutcometenderhardpredictlastweeksubstantialawardplace785sugarinterventionbelievetonnagewouldaround60declinegiverebatefigure\n",
            "0 italylafondiariareporthigherprofitsitalianinsurerlafondiariaspalfdimiexpectreportconsolidategroupprofitsignificantlyhigher60lirareport1985statementparentprofitlastrise72lirareport1985consolidategrouppremiumtotal700liracompare490previousiniziativametainzimi>,financialservicesunitmontedisonspamonimi>,controllargesinglestakeflorencebasefondiaria49\n",
            "0 nickelunlikelyrisemuchshearsonnickelunlikelyrisesignificantlycurrentlevelunlessstepstakereduceproductionshearsonlehmanbrotherquarterlynickelmarketreportmarketrecoverslightlyaround72lbyesterdayfourlow55earlyjanuarydueabsencesovietnickelcathodedeliveryshearsonseesovietshipmentsoonreturnlastbuoyantleveleasecurrenttightnessoutputreductionproducertakeeffectlaterlikelyoffsetincreaseelsewhereshearsonnickelmarketvirtuallybalancetotalnonsocialistworlddemand556compareestimate544production505504importsocialistcountry4750).forecastedgehigherfirstquarteraverage67lb77lastquarteraveragearound72lbcompare76usinglondonmetalexchangecashmetaldollartermsassumeaveragesterlingexchangerate55\n",
            "0 higherprofitdutchchemicalfirmdsmfullystatedutchchemicalfirmnvdsmdsmnprofitrose412guilder4021985turnoverfell17guilder241985dividendpaydutchstatecapacityfirmsoleshareholderwouldraise98guilder70guilder1985initialcommentresultdsmdropturnovercausemainlylossesfertilizerdivision\n",
            "0 poehlwarndollarfallbundesbankpresidentkarlottopoehlweakdollarwouldriskyappreciationmarkwoulddamageprospectsustainwestgermaneconomicgrowthspeechinstitutecontemporygermanaffairspoehlwouldextremelyriskypolicyaimsubstantialdeclinevaluedollarcorrecttradedeficit.\"unitestatecouldfaceviciouscircledepreciationinflationdepreciationtakeroutepoehlnotewestgermanyalreadytakestepsmeetdemandgreaterstimulationdomesticeconomyacceleratetaxcutcuttinginterestratestoleratetargetmoneysupplygrowthwouldhappybringforwardfivemarkstaxcutplanjanuary1988beginninggovernmentfacepoliticalconstraintgettingmeasureupperhousewestgermanparliamentalsolimitimpactwestgermanycouldacceptexportrisingmarkpoehlwestgermanyrelyexportonethirdgrossnationalproductsubstantialerosionexportmarketcouldoffsetincreasedemandhomeappreciationmarkcouldevenobstaclegrowthpoehlbundesbanktoleraterapidmoneysupplygrowthlastcountryenjoylowinflationexternalfactorincludelowoilfavourabletermstradegivenextraleewaypoehlwestgermanyfacedifficultdilemmamonetarypolicyunderlierateinflationtworeportnegativeinflationrateslastwestgermanyaffectexchangeratedevelopmenttimefocuspolicyexternalsideliveexpansionarymoneysupplymustcarefulconcernjapantradesurplusaffecteuropeancountrywellunitestatepoehlwelcomecalllouvreaccordmonetaryofficialmajorindustrializecountrysayingimportancefebruary22agreementstabilizeexchangeratesunderestimatepartneragreedollarrightlevelchangewoulddamagegrowthremarkablechangeattitudeespeciallypartamericancolleaguestilldangercorrectiondollarvaluecouldovershoot\n",
            "8 cincinnatibellcsnstartauxtonauxtbidcincinnatibellincstartpreviouslyannounce1575dlrpertenderofferauxtoncomputerenterpriseincnewspaperadvertisementtenderwithdrawalrightexpiremayfiveunlessextendofferapproveauxtonboardfollowmergerconditionreceiptmajorityauxtonvotingstockfullydilutebasis\n",
            "0 californiabiotechcbiosee1stqtrlosscaliforniabiotechnologyincexpectreportloss300600firstquarterdueincreaseinvestmentresearchmanufacturingscaleupproductionresearchspendingrunning5060agotrycommercializeproductquicklypossibleincreaseexpenditureexpectcontinueseveralquartersoperateresultfluctuatequarterquarterdependtimingsignificantpaymentcommercialpartnerfirstthreemonthlost150changefiscalcalendarendingnovember30firstquarterlastendfebruary28californiabiotechearn114\n",
            "0 pallcorppllsetquarterlydividendqtlydivpriorpaymayonerecordapril20\n",
            "0 unileverseekbuyerstaufferchemicalunileverplcnvunissueprospectusinvestmentbankergoldmansachscoseekingbuyerstaufferchemicalcoacquirerecenttakeoverchesebroughpondinc>,unileverspokesmannoteunileverindicateplandisposestaufferplussmallerassetschesebroughsincebidmakedecemberstauffersaleprospectussentrecentweeknumberexpressinterestunileverspokesmandeclinemuchgroupexpectreceivestaufferchesebroughfootweartennisracketbusinessalsolikelydisposeaddimmediatelyavailablefinancialinformationstaufferwhollylimitedaddninemonthsalesseptemberunileveraquiredchesebroughorderbenefitwellknowtoiletrybrandfoodproduct\n",
            "0 conraccorpentertalksacquisitionseveralpartyconraccorpentertalksacquisitionseveralparty\n",
            "0 conraccaxmergertalksseveralconraccorpsaitstartnegotiationseveralinterestpartypossibleacquisitionassurancetransactionresulttalksgivedetailsmarkivindustryincivstarttenderconrac25march24conracstartingbidconracproducermarketercomputerrelateinformationdisplaycommunicationsequipmentalsoproducespecialpurposearchitecturalindustrialproductcodephonecorpproducertelephoneanswermachinereportprofits16sales153nearlyoutstanding\n",
            "0 japanldpurgeimportfarmitemrulingliberaldemocraticpartyldpproposeexpandimportfarmproductnamecomplaintjapangeneralagreementtarifftradelastldpofficialproductincludefruitjuicepureepulptomatoproductpeanutspreparebeefproductbeanproposalusebasisdetailldpeconomicpackagecuttradesurpluspartyexpectformalisepackageapril19ldpgeneralcouncilchairmanshintaroabevisitwashington\n",
            "0 computerresearchinccore2ndqtrfeb2814nine217572153454rev5302735589241sthalf19299838174739rev865249495021\n",
            "0 australianforeignshipbanendtugcrewnewsouthwalesnswvictoriawesternaustraliayesterdayliftbanforeignflagshipcarrycontainernswportstilldisruptseparatedisputeshippingsourcebanimposeweekagopayclaimpreventmovementportnearly20vesselpaydisputegohearingarbitrationcommissiontodaymeanwhiledisruptionbegintodaycargohandlingportsydneynewcastleportkemblaindustrialactionnswportpartweekactioncallnswtradelabourcouncilprotestchangestateworkercompensationlaws\n",
            "0 rubbermaidinc1stqtr2822rubbermaidinc1stqtr2822\n",
            "0 independentchairmandutchcargodisputetwosiderotterdamportgeneralcargodisputeagreeappointindependentchairmanhanlammerspresidefuturemeetingemployerspokesmangerardzeebregtslammersqueencommissionerprovinceflevolandactmediatordrawagendaproceduremeetingemployerunionworkpracticeagreementproposeredundancytwomonthstrikesectorbeginjanuary19protestemployerproposal350redundancystrongworkforcestrikecallmainportunionfnvmarch13followingamsterdamcourtinteriminjunctionredundancyproceduralgroundscourtduemakefinalrulingmayzeebregtsexpectjudgmentgoemployerthereforelikelyrestartcomplicatelegalredundancyprocedurenearfuturemeanwhiledisputenewworkpracticeagreementportgrainsectorcontinue30maintenanceworkerstrikealthoughloadingaffectspokesmangraanelevatormijlargeemployersectoremployerwriteunionaskingreconsiderpositionmeetingunionmembercalltomorrow\n",
            "0 electrorentcorpelrc3rdqtrfeb282032358476rev2726avgshrs852764ninemths6805957129rev8278avgshrs316754\n",
            "0 rubbermaidincrbd1stqtr28222016sales238188\n",
            "0 wtcinternationalincwaf4thqtrfeb28profit13loss33profit149loss833rev5147profit24loss18profit050loss551rev200180\n",
            "1 kmoneymarketgiven166stghelpbankenglandprovidemarkethelptotal166stgafternoonbandonebuy31stgtreasurybillthreestgbankbillbandtwobuy69stgbankbill1316additionbuy63stgbandthreebankbillbringtotalassistancebankfartoday219stgliquidityshortageestimatearound300stg\n",
            "0 meadcorp1stqtroper0967meadcorp1stqtroper0967\n",
            "0 rubbermaidrbdseecontinueimprovementrubbermaidincincomingorderratescontinuestrongexpectcontinuerecordingfavorablecomparisonremainquartertodayreportfirstquarterearnings20sales238earnings16sales188\n",
            "7 cayugasavingsbankcayb1stqtr5541494204avgshrs896655494155\n",
            "0 johnstownsavingsbankfsbjsbk1stqtr33given642484362883notegopublicoctoberincludepretaxloanlossprovisions9056250gainsalesecurity11343288946\n",
            "6 homesavingsloanassociationinchsld2ndqtrmarch3157given7908746280201sthalf15given588985073163noterecentlygopublic\n",
            "0 geodynamicscorpgdyn3rdqtrfeb272120596594rev693164ninemths6158784653rev2623\n",
            "4 swedishunemploymentsteadymarchswedishunemploymentsteadyworkforcemarchcomparepreviousmonthcentralbureaustatisticsmarchfigurestand\n",
            "0 compaqcpqexpecthigherfirstquartercompaqcomputercorpexpectsalesearningsfirstquarterhigheranalystexpectationduestrongdemandproductrodcanionpresidentchiefexecutiveofficercompaqexpectsales200periodendingmarch31analystestimate165185addearningsperwouldexceedanalystestimatehigh42compaqreportearnings30sales144firstquarterdemanddeskpro386portableiiinewcompaqdeskpro286contributesalesincreaseinitialdemandrecentlyintroducecompaqportableiiinewmodelcompaqdeskpro286exceedcompaqpersonalcomputercanionsawcontinuedemandpersonalcomputeracrossquartermarchparticularlystrongmonth\n",
            "0 internationaliusellinsuranceunitinternationalcoreachpreliminaryagreementsellhawaiianinsurancecoshawaiianelectricindustryinc>.termstransactiondisclosetransactionsubjectexecutiondefinitiveagreementcertaingovernmentalapprovalapprovalboardsdirectorinvolveinternationalhawaiianelectricplanpurchasepartstrategyincreaseinvestmentselectserviceindustryhawaiiincludefinancialservices\n",
            "0 cxrtelcomcorpcxrl3rdqtrmarch3121516rev800100ninemthsone620231rev100100\n",
            "0 proxmireoutlineinsidertradinglegislationsenatebankingcommitteechairmanwilliamproxmirewiplanintroducelegislationshortlyrequiregreaterpublicdisclosurecorporatetakeoverfairtreatmentshareholderspeakingnationalassociationmanufacturerproxmirerecentinsidertradingstockscandalincreasechancecongressactcurbabuseproposelegislationwouldprovidedisclosurewouldfairshareholderwouldinsuretakeoverproperlyfinanceamongprovisionsbillwouldreducethresholdnotifysecurityexchangecommissioninvestorgroupacquirepercentagestockthreecurrentfivethresholdwithindaysproxmireadditionwouldprenotificatonrequirementinvestorintendaquirethreewouldfilesecproxmireprenotificationrequirementmeanpreventarbitragerjumpgeneralpublicknowingcomingtakeoverattemptproxmirewouldcallextendperiodtenderoffermustkeepopenwilliamsact60businessdayscurrent20businessdaysbillwouldprovideprivatesuitacquiringviolatetimeperiodtenderoffercorrectabusefinancingtakeoverproxmirelegislationwouldaiminsurecurrentmarginrequirmentsproperlyenforcefederalreserveboard50marginrequirementpurchasingstockproxmiregenerallyenforcehostiletakeoverrathergroupindividualleadingtakeoverdeclareraisecapitaltakeoverwithoutactuallyputtingmoneyproxmirebillwouldallowprivatesuitdamagesfailuremeetfederalreserve50marginrequirementbillalsowouldrequirediscloseseveralinvestorformalliancehostiletakeoverpickensicahngettogetherwantpeopleknowproxmireproxmirefavorapproachusebritaintowardstwotieredtenderofferinsureshareholderrecieveequaltreatmentexpectamendmentbillalsowouldcoverdefensivemechanismgreenmailpoisonpillproxmireintendintroducebilllatermonthpredictsenatecommitteewouldactspringhopefulcongresscouldpassbill\n",
            "0 helentroycorphele4thqtrfeb281713598392sales474avgshrs432045operprofit05loss47operprofit498loss427sales5240avgshrs320060notelatestexclude782dlrtaxcredit\n",
            "0 bankertrustbtputbrazilnonaccrualbankertrustnewyorkcorpplaceapproximately540mediumlongtermloanbrazilnonaccrualstatusfirstquarterincomereducesevenresultbrazilsuspendinterestpayment68mediumlongtermdebtfebruary22bankingregulationrequirebanksstopaccrueinterestloanpayment90daysoverduebankertrustacthighpotentialcontinuesuspensionwouldresultreaching90daylimitsecondquarter.\"assumecashpaymentcurrentinterestratesreceiverestbankertrustestimatefullincomewouldreduce30bankertrustassumedebtnegotiationbrazilcommercialbanklenderleadresumptioninterestpaymentnegotiationresumenewyorkfridaycentralbankgovernorfranciscogrosexpectaskbanks90dayrollovertermdebtmatureapril15\n",
            "0 firstmercantilecurrencyfundinc1stqtrprofit6322775868276446rev255742706130\n",
            "0 ukinterventionbdecsell118350whitesugarrebate46496ecusukinterventionbdecsell118350whitesugarrebate46496ecus\n",
            "0 stoltenbergseemovestrengthenparisaccordwestgermanfinanceministergerhardstoltenbergtodaymeetingmajorindustrialcountrywouldlookwaysstrengtheningparisaccordstabilizeforeignexchangeratesstoltenbergtelljournalistsawfundamentalweaknessfebruary22agreementgroupfivecountrycanadakeepexchangeratesnearcurrentleveldeclinemeasurewoulddiscussaheadcommuniquegroupsevenministerlatertodaystoltenbergbundesbankpresidentkarlottopoehlimportanceparisagreementalsoknowlouvreaccordunderestimatestoltenberggreateragreementamongmajorcountrysixmonthagotimeannualmeetinginternationalmonetaryfundworldbankmarksharpdiscordunitestatemajortradingpartnerfundamentalweaknessparisaccordlookingwaysstrengtheningwantdiscusstoltenberglouvreagreementworkingdespiteslightfirmyendollarpoehlnotedollarmarkparityunchangedsincefebruary22withoutbundesbanksellmarkssupportdollarlouvreagreementhonormarketpoehlwestgermanylivesidebargainparispreparewaytaxcutacceleratewaystimulategrowthpoehlhoweverjapanyetfulfilpledgeeconomicstimulationseeunitestateablepromiseparisreducingbudgetdeficitgetcongressaddstoltenbergreiteratewestgermanconcernfalldollarnotemark85dollarnearly20tradeweightbasiscannotexpectgounnoticedeconomygermanproblemeuropeanproblem\n",
            "0 kinterventionboarddetailsecsugarsalestotal118350currentserieswhitesugarreceiveexportrebatemaximum46496europeancurrencyunitecusper100kilotodayeuropeancommunityectenderkinterventionboardtraderkreceive37800france34500westgermany20belgium18500spain800denmark750addearliertodaylondontraderdeclinegiveprojectviewlevelsubsidyalthoughtotaltonnageawardwouldaround60paristraderforesee60100authoriseexport46404650ecusubsidycumulativesalesauthorisationcurrentseason87stand19497043week).lastweeksaw102350whiteauthoriseexportlicenceendsephigesteverrebate46864europeancurrencyunitecusper100kilo\n",
            "0 meadmeaexpectimproveearningsmeadcorpoutlookmajorpapermarketlookstrongsecondquarteraugurwellearningsgenerallystrongoutlookbodewellsignificantlyimproveearningsburnellrobertschairmanchiefexecutiveofficerearlierreportfirstquarterearnings3409versus2065lastfirstquarterreportearningscontinueoperations10950meadfirstquarterbenefitstrongmarketconditionsimproveoperationscombinationcapitalimprovementprogramemployeeinvolvementpaythroughoutpaperoperationsrobertsaddmeadpulppaperboardbusinessoperatewellimprovestrongdemandplaceproductsellpositionmiddlemeadsalesunbleachedcoatpaperboardparticularlystrong13versusfirstquarter\n",
            "0 amertekincatekf1stqtrprofit20lossthreeprofit849299loss82512rev929138849224\n",
            "0 alexbrownincabsb1stqtrmarch27primary7868dilute7568qtrlydivsixfive929569rev7861notepaydateqtrlydivapril28shareholderrecordapril20\n",
            "0 towncountryjewelrymanufacturingtcjc4thhqtrfeb284622139034854182sales3020avgshrs2808545596463415935117156171sales10771avgshrs281387616183notetowncountryjewelrymanufacturingcorp\n",
            "0 paxarcorppaksmakeacquisitionpaxarcorpacquirethermoprintgmbhlohnwestgermanydistributorpaxarproductundisclosedterms\n",
            "0 markworkwearhouseltdjan3132975145sales159147\n",
            "0 canadianbashawerskineresourcemergecanadianbashawleducoilgasltdagreemergeerskineresourceltdtermsdiscloseownershipcombine18currentshareholdercanadianbashaw81currentshareholdererskine\n",
            "0 entourageentgfirstquarterlossentourageinternationalincfirstquarterloss104357incurring70costsinternalauditreportshareholderproxysoliciation24startupexpenseopeninglondonofficegopublicentouragealsostartmarketingsolidperfumepackagelipsticktubecallamadeusretailing15alsoacquirenorthcountrymediumgroupvideoproduction\n",
            "0 mrjaxfashionincfeb285829141440sales2413\n",
            "0 fwwoolworthcohikedividend3328fwwoolworthcohikedividend3328\n",
            "0 fwwoolworthcozhikedividendqtlydiv3328priorpayjunerecordmay\n",
            "0 dutchsugarbeetplantinghalffinishroughlyhalfexpect130hectaredutchsugarbeetcropalreadygroundspokesmansuikerunielargesugarprocessornetherlandstellreutersconditionsgenerallygoodaveragesowdatecropexpectaroundaprilapril23lastaverageapril14spokesmanaddfarearlyyetkindoutputexpectcomeharvestseptemberleastcropgoodstartlastnetherlandsplantrecord137600hectaresugarbeetproducerecordwhitesugarsubstantiallycountrycombinebquota872howeverselfimposequotasystemintroduceaimcuttingplanting130hectarereducingwhitesugaroutputaround915minimiseamountnonquotacsugarproducefarmerrecordgrowingsugerbeetallotquotaexpectpreventareaboostdairycerealfarmermovesugar\n",
            "0 jpmorgancoinc1stqtr2228jpmorgancoinc1stqtr2228\n",
            "2 eccommissiondetailssugartendereccommissionconfirmgrantexportlicence118350currentserieswhitesugarmaximumexportrebate46496europeancurrencyunitecusper100kilotraderfrancereceive34500k37800westgermany20belgium18500spain800denmark750\n",
            "0 volkswagendividenddecisionduetomorrowvolkswagenagvowgf>,vwduemakeformalannouncementdividendtomorrowsaying1985levelmarksperordinarywouldholddespitemassivelossessuspectforeigncurrencyfraudspokesmanvwsupervisoryboardmeettomorrowdiscuspayoutstatementmakeafterwardsvwalsodiscloseprofitsreach1985leveldespiteprovisionspossible480markslinkcurrencyaffairfigurevirtually477mark1985parentprofitvwfirstconfirmcurrencyscandalmarchmanagementboardwouldproposeunchangedmarkdividendsupervisoryboarddividendmarkswouldproposenewpreferenceanalystsawsupervisoryboardapprovalmanagementboardproposalvirtuallyformalityanythingelsewouldsurpriseonesourcevwwoulddigreservesmaintaindiscloseprofitparentreservesstandaroundthreemarksend1985\n"
          ],
          "name": "stdout"
        }
      ]
    },
    {
      "cell_type": "markdown",
      "metadata": {
        "id": "Ps1PgVeyOfbU",
        "colab_type": "text"
      },
      "source": [
        "## ヒント\n",
        "\n",
        "<p1>\n",
        "scikit-learnのvectorizerとkmeansにはたくさんのハイパーパラメータがあります。vectorizerのハイパーパラメータの中には前処理機能(例：stop_words)もあります。\n",
        "    ハイパーパラメータの設定を変える事で最終的な結果は変わります。以下のURLにアクセスしてハイパーパラメータの独自で設定してみてください。<br>\n",
        "    ・TF-IDFに関するパラメータ<br>\n",
        "    https://scikit-learn.org/stable/modules/generated/sklearn.feature_extraction.text.TfidfVectorizer.html<br>\n",
        "    ・Kmeansに関するパラメータ<br>\n",
        "    https://scikit-learn.org/stable/modules/generated/sklearn.cluster.KMeans.html<br>\n",
        "</p1>\n"
      ]
    },
    {
      "cell_type": "markdown",
      "metadata": {
        "id": "yRRWSoojOm1-",
        "colab_type": "text"
      },
      "source": [
        "## 応用\n",
        "<p1>\n",
        "    クラスタリング編でコードを以下に指示に従って変更する事で結果がどの様に変わるのかを確認してみましょう<br>\n",
        "    （１）講義で学んだ他の手法でベクトル化してみる(例：bag-of-words)<br>\n",
        "    （２）kmeans以外の手法、又はkmeansを可視化してみる(例：階層型クラスタリング)<br>\n",
        "<p1>"
      ]
    }
  ]
}